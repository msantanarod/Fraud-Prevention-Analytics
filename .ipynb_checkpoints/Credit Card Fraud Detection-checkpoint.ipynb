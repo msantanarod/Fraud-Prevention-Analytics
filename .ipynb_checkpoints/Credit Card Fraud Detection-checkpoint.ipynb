{
 "cells": [
  {
   "cell_type": "markdown",
   "id": "c11abdb4",
   "metadata": {},
   "source": [
    "#  Credit Card Fraud Detection"
   ]
  },
  {
   "cell_type": "markdown",
   "id": "d1afab95",
   "metadata": {},
   "source": [
    "![fraude](fraude.jpg)"
   ]
  },
  {
   "cell_type": "markdown",
   "id": "b76fe549",
   "metadata": {
    "toc": true
   },
   "source": [
    "<h1>Table of Contents<span class=\"tocSkip\"></span></h1>\n",
    "<div class=\"toc\"><ul class=\"toc-item\"><li><span><a href=\"#Welcome\" data-toc-modified-id=\"Welcome-0\">Welcome</a></span></li><li><span><a href=\"#Dataset-description\" data-toc-modified-id=\"Dataset-description-1\">Dataset description</a></span></li><li><span><a href=\"#Important-libraries\" data-toc-modified-id=\"Important-libraries-2\">Important libraries</a></span></li><li><span><a href=\"#Loading-our-data\" data-toc-modified-id=\"Loading-our-data-3\">Loading our data</a></span></li><li><span><a href=\"#Correlation-analysis\" data-toc-modified-id=\"Correlation-analysis-4\">Correlation analysis</a></span></li><li><span><a href=\"#Fraud/-non-Fraud-ratio\" data-toc-modified-id=\"Fraud/-non-Fraud-ratio-5\">Fraud/ non-Fraud ratio</a></span><ul class=\"toc-item\"><li><span><a href=\"#Class-imbalance-visual-representation\" data-toc-modified-id=\"Class-imbalance-visual-representation-5.1\">Class imbalance visual representation</a></span></li></ul></li><li><span><a href=\"#Traditional-way-of-cathing-fraud:-Rules\" data-toc-modified-id=\"Traditional-way-of-cathing-fraud:-Rules-6\">Traditional way of cathing fraud: Rules</a></span></li><li><span><a href=\"#Machine-Learning-models\" data-toc-modified-id=\"Machine-Learning-models-7\">Machine Learning models</a></span><ul class=\"toc-item\"><li><span><a href=\"#Train-/-Test-sets\" data-toc-modified-id=\"Train-/-Test-sets-7.1\">Train / Test sets</a></span></li><li><span><a href=\"#Hyperparameter-tunning-with-GridSearchCV\" data-toc-modified-id=\"Hyperparameter-tunning-with-GridSearchCV-7.2\">Hyperparameter tunning with GridSearchCV</a></span><ul class=\"toc-item\"><li><span><a href=\"#Logistic-Regression\" data-toc-modified-id=\"Logistic-Regression-7.2.1\">Logistic Regression</a></span></li><li><span><a href=\"#Decision-Tree\" data-toc-modified-id=\"Decision-Tree-7.2.2\">Decision Tree</a></span></li><li><span><a href=\"#Random-Forest\" data-toc-modified-id=\"Random-Forest-7.2.3\">Random Forest</a></span></li><li><span><a href=\"#Adaboost\" data-toc-modified-id=\"Adaboost-7.2.4\">Adaboost</a></span></li><li><span><a href=\"#Light-Gradient-Boosting\" data-toc-modified-id=\"Light-Gradient-Boosting-7.2.5\">Light Gradient Boosting</a></span></li></ul></li></ul></li><li><span><a href=\"#Hybrid-Rule_Based-Machine-Learning-Model\" data-toc-modified-id=\"Hybrid-Rule_Based-Machine-Learning-Model-8\">Hybrid Rule_Based Machine Learning Model</a></span></li><li><span><a href=\"#Synthetic-Minority-Oversampling-Technique-(SMOTE)\" data-toc-modified-id=\"Synthetic-Minority-Oversampling-Technique-(SMOTE)-9\">Synthetic Minority Oversampling Technique (SMOTE)</a></span><ul class=\"toc-item\"><li><span><a href=\"#Hyperparameter-tunning-with-GridSearchCV\" data-toc-modified-id=\"Hyperparameter-tunning-with-GridSearchCV-9.1\">Hyperparameter tunning with GridSearchCV</a></span></li><li><span><a href=\"#Logistic-Regression\" data-toc-modified-id=\"Logistic-Regression-9.2\">Logistic Regression</a></span></li><li><span><a href=\"#Decision-Tree\" data-toc-modified-id=\"Decision-Tree-9.3\">Decision Tree</a></span></li><li><span><a href=\"#Random-Forest\" data-toc-modified-id=\"Random-Forest-9.4\">Random Forest</a></span></li><li><span><a href=\"#Adaboost\" data-toc-modified-id=\"Adaboost-9.5\">Adaboost</a></span></li><li><span><a href=\"#Light-Gradient-Boosting\" data-toc-modified-id=\"Light-Gradient-Boosting-9.6\">Light Gradient Boosting</a></span></li><li><span><a href=\"#Conclusions\" data-toc-modified-id=\"Conclusions-9.7\">Conclusions</a></span></li><li><span><a href=\"#References\" data-toc-modified-id=\"References-9.8\">References</a></span></li></ul></li></ul></div>"
   ]
  },
  {
   "cell_type": "markdown",
   "id": "73d47713",
   "metadata": {},
   "source": [
    "## Welcome"
   ]
  },
  {
   "cell_type": "markdown",
   "id": "b5fb56c7",
   "metadata": {},
   "source": [
    "\"Billions of dollars are lost to online payment fraud annually, often without much recourse for victim companies. This makes it critically important to identify suspicious and fraudulent behavior in advance, prior to bad actors committing the crime. Those outside this niche industry may assume that fraudulent orders or accounts present themselves in red blinking lights, or some other obvious form. The truth is that bad actors have the sole intention of having their online activity blend in with that of legitimate users. It is our job as fraud fighters to home in on the anomalies of their information, devices, and human behavior to identify risk indicators\"...()\n",
    "\n",
    "\n",
    "\n",
    "Hi, welcome to this noteboock!\n",
    "\n",
    "I find that Fraud prevention analytics is an amazing field for data analysis, and I hope that at the end of this notebook you think the same and want to learn a bit more about it. \n",
    "\n",
    "\n",
    "The aims of this project are the following:\n",
    "\n",
    "-To understand the concept of \"Fraud\". <br>\n",
    "-To explain how fraud prevention analysts caught fraudulent transactions before Machine Learning(ML). <br>\n",
    "-To develop a ML model to estimate if a transaction is fraudulent or not. <br>\n",
    "\n",
    "Sounds interesting, isn't it?\n",
    "\n",
    "Let's start\n",
    "\n",
    "\n"
   ]
  },
  {
   "cell_type": "markdown",
   "id": "bca9cf5c",
   "metadata": {},
   "source": [
    "## Dataset description"
   ]
  },
  {
   "cell_type": "markdown",
   "id": "63b4b68f",
   "metadata": {},
   "source": [
    "For this project we will use the dataset ([Credit Card Fraud Detection](https://www.kaggle.com/datasets/mlg-ulb/creditcardfraud)) from Kaggle.\n",
    "\n",
    "In the dataset we will find a total of 284.807 transactions made by credit card in two different days in September 2013,  where only 492 of them are marked as fraud. Fraudulent transactions represent only the 0.172% of the dataset that show us that the dataset is highly unbalanced. \n",
    "\n",
    "All the variables from the dataset are numeric and features from \"V1\" to \"V28\" are the result of PCA transformation (Due to privacy reasons we cannot have the information about the original variables). Only two feautures were not transformed with PCA: \"Time\" and \"Amount\". The feature \"Class\" is our target variable and it has two possible values:\n",
    "    \n",
    "    1= fraud\n",
    "    0= non-fraud  "
   ]
  },
  {
   "cell_type": "markdown",
   "id": "c772480d",
   "metadata": {},
   "source": [
    "## Important libraries"
   ]
  },
  {
   "cell_type": "code",
   "execution_count": 1,
   "id": "aabe5d06",
   "metadata": {},
   "outputs": [],
   "source": [
    "#pandas and numpy\n",
    "import pandas as pd\n",
    "import numpy as np\n",
    "\n",
    "#ploting libraries\n",
    "import matplotlib.pyplot as plt\n",
    "import seaborn as sns\n",
    "\n",
    "#hyperparameters tuning\n",
    "from sklearn.model_selection import RepeatedStratifiedKFold\n",
    "from sklearn.model_selection import GridSearchCV\n",
    "\n",
    "#models\n",
    "from sklearn.tree import DecisionTreeClassifier\n",
    "from sklearn.linear_model import LogisticRegression\n",
    "from sklearn.ensemble import RandomForestClassifier\n",
    "from sklearn.ensemble import AdaBoostClassifier\n",
    "from lightgbm import LGBMClassifier\n",
    "from sklearn.base import BaseEstimator\n",
    "\n",
    "#model performance evaluation\n",
    "from sklearn.metrics import accuracy_score\n",
    "from sklearn.metrics import precision_score\n",
    "from sklearn.metrics import recall_score\n",
    "from sklearn.metrics import confusion_matrix\n",
    "from sklearn.metrics import plot_confusion_matrix\n",
    "from sklearn.metrics import recall_score\n",
    "from sklearn.model_selection import cross_val_score\n",
    "from sklearn.model_selection import cross_val_predict\n",
    "from sklearn.metrics import classification_report\n",
    "from imblearn.pipeline import Pipeline \n",
    "from sklearn.datasets import make_classification\n",
    "from sklearn.metrics import roc_curve\n",
    "from sklearn.metrics import roc_auc_score\n",
    "from sklearn.model_selection import KFold\n",
    "from collections import Counter\n",
    "from sklearn.model_selection import cross_validate\n",
    "\n",
    "#others\n",
    "from sklearn.model_selection import train_test_split\n",
    "from sklearn.preprocessing import StandardScaler\n",
    "from imblearn.over_sampling import SMOTE\n",
    "from sklearn import metrics\n",
    "from typing import Dict, Tuple\n"
   ]
  },
  {
   "cell_type": "markdown",
   "id": "c7df1ab3",
   "metadata": {},
   "source": [
    "## Loading our data\n"
   ]
  },
  {
   "cell_type": "code",
   "execution_count": 2,
   "id": "9072aef5",
   "metadata": {
    "scrolled": true
   },
   "outputs": [
    {
     "data": {
      "text/html": [
       "<div>\n",
       "<style scoped>\n",
       "    .dataframe tbody tr th:only-of-type {\n",
       "        vertical-align: middle;\n",
       "    }\n",
       "\n",
       "    .dataframe tbody tr th {\n",
       "        vertical-align: top;\n",
       "    }\n",
       "\n",
       "    .dataframe thead th {\n",
       "        text-align: right;\n",
       "    }\n",
       "</style>\n",
       "<table border=\"1\" class=\"dataframe\">\n",
       "  <thead>\n",
       "    <tr style=\"text-align: right;\">\n",
       "      <th></th>\n",
       "      <th>Time</th>\n",
       "      <th>V1</th>\n",
       "      <th>V2</th>\n",
       "      <th>V3</th>\n",
       "      <th>V4</th>\n",
       "      <th>V5</th>\n",
       "      <th>V6</th>\n",
       "      <th>V7</th>\n",
       "      <th>V8</th>\n",
       "      <th>V9</th>\n",
       "      <th>...</th>\n",
       "      <th>V21</th>\n",
       "      <th>V22</th>\n",
       "      <th>V23</th>\n",
       "      <th>V24</th>\n",
       "      <th>V25</th>\n",
       "      <th>V26</th>\n",
       "      <th>V27</th>\n",
       "      <th>V28</th>\n",
       "      <th>Amount</th>\n",
       "      <th>Class</th>\n",
       "    </tr>\n",
       "  </thead>\n",
       "  <tbody>\n",
       "    <tr>\n",
       "      <th>0</th>\n",
       "      <td>0.0</td>\n",
       "      <td>-1.359807</td>\n",
       "      <td>-0.072781</td>\n",
       "      <td>2.536347</td>\n",
       "      <td>1.378155</td>\n",
       "      <td>-0.338321</td>\n",
       "      <td>0.462388</td>\n",
       "      <td>0.239599</td>\n",
       "      <td>0.098698</td>\n",
       "      <td>0.363787</td>\n",
       "      <td>...</td>\n",
       "      <td>-0.018307</td>\n",
       "      <td>0.277838</td>\n",
       "      <td>-0.110474</td>\n",
       "      <td>0.066928</td>\n",
       "      <td>0.128539</td>\n",
       "      <td>-0.189115</td>\n",
       "      <td>0.133558</td>\n",
       "      <td>-0.021053</td>\n",
       "      <td>149.62</td>\n",
       "      <td>0</td>\n",
       "    </tr>\n",
       "    <tr>\n",
       "      <th>1</th>\n",
       "      <td>0.0</td>\n",
       "      <td>1.191857</td>\n",
       "      <td>0.266151</td>\n",
       "      <td>0.166480</td>\n",
       "      <td>0.448154</td>\n",
       "      <td>0.060018</td>\n",
       "      <td>-0.082361</td>\n",
       "      <td>-0.078803</td>\n",
       "      <td>0.085102</td>\n",
       "      <td>-0.255425</td>\n",
       "      <td>...</td>\n",
       "      <td>-0.225775</td>\n",
       "      <td>-0.638672</td>\n",
       "      <td>0.101288</td>\n",
       "      <td>-0.339846</td>\n",
       "      <td>0.167170</td>\n",
       "      <td>0.125895</td>\n",
       "      <td>-0.008983</td>\n",
       "      <td>0.014724</td>\n",
       "      <td>2.69</td>\n",
       "      <td>0</td>\n",
       "    </tr>\n",
       "    <tr>\n",
       "      <th>2</th>\n",
       "      <td>1.0</td>\n",
       "      <td>-1.358354</td>\n",
       "      <td>-1.340163</td>\n",
       "      <td>1.773209</td>\n",
       "      <td>0.379780</td>\n",
       "      <td>-0.503198</td>\n",
       "      <td>1.800499</td>\n",
       "      <td>0.791461</td>\n",
       "      <td>0.247676</td>\n",
       "      <td>-1.514654</td>\n",
       "      <td>...</td>\n",
       "      <td>0.247998</td>\n",
       "      <td>0.771679</td>\n",
       "      <td>0.909412</td>\n",
       "      <td>-0.689281</td>\n",
       "      <td>-0.327642</td>\n",
       "      <td>-0.139097</td>\n",
       "      <td>-0.055353</td>\n",
       "      <td>-0.059752</td>\n",
       "      <td>378.66</td>\n",
       "      <td>0</td>\n",
       "    </tr>\n",
       "    <tr>\n",
       "      <th>3</th>\n",
       "      <td>1.0</td>\n",
       "      <td>-0.966272</td>\n",
       "      <td>-0.185226</td>\n",
       "      <td>1.792993</td>\n",
       "      <td>-0.863291</td>\n",
       "      <td>-0.010309</td>\n",
       "      <td>1.247203</td>\n",
       "      <td>0.237609</td>\n",
       "      <td>0.377436</td>\n",
       "      <td>-1.387024</td>\n",
       "      <td>...</td>\n",
       "      <td>-0.108300</td>\n",
       "      <td>0.005274</td>\n",
       "      <td>-0.190321</td>\n",
       "      <td>-1.175575</td>\n",
       "      <td>0.647376</td>\n",
       "      <td>-0.221929</td>\n",
       "      <td>0.062723</td>\n",
       "      <td>0.061458</td>\n",
       "      <td>123.50</td>\n",
       "      <td>0</td>\n",
       "    </tr>\n",
       "    <tr>\n",
       "      <th>4</th>\n",
       "      <td>2.0</td>\n",
       "      <td>-1.158233</td>\n",
       "      <td>0.877737</td>\n",
       "      <td>1.548718</td>\n",
       "      <td>0.403034</td>\n",
       "      <td>-0.407193</td>\n",
       "      <td>0.095921</td>\n",
       "      <td>0.592941</td>\n",
       "      <td>-0.270533</td>\n",
       "      <td>0.817739</td>\n",
       "      <td>...</td>\n",
       "      <td>-0.009431</td>\n",
       "      <td>0.798278</td>\n",
       "      <td>-0.137458</td>\n",
       "      <td>0.141267</td>\n",
       "      <td>-0.206010</td>\n",
       "      <td>0.502292</td>\n",
       "      <td>0.219422</td>\n",
       "      <td>0.215153</td>\n",
       "      <td>69.99</td>\n",
       "      <td>0</td>\n",
       "    </tr>\n",
       "  </tbody>\n",
       "</table>\n",
       "<p>5 rows × 31 columns</p>\n",
       "</div>"
      ],
      "text/plain": [
       "   Time        V1        V2        V3        V4        V5        V6        V7  \\\n",
       "0   0.0 -1.359807 -0.072781  2.536347  1.378155 -0.338321  0.462388  0.239599   \n",
       "1   0.0  1.191857  0.266151  0.166480  0.448154  0.060018 -0.082361 -0.078803   \n",
       "2   1.0 -1.358354 -1.340163  1.773209  0.379780 -0.503198  1.800499  0.791461   \n",
       "3   1.0 -0.966272 -0.185226  1.792993 -0.863291 -0.010309  1.247203  0.237609   \n",
       "4   2.0 -1.158233  0.877737  1.548718  0.403034 -0.407193  0.095921  0.592941   \n",
       "\n",
       "         V8        V9  ...       V21       V22       V23       V24       V25  \\\n",
       "0  0.098698  0.363787  ... -0.018307  0.277838 -0.110474  0.066928  0.128539   \n",
       "1  0.085102 -0.255425  ... -0.225775 -0.638672  0.101288 -0.339846  0.167170   \n",
       "2  0.247676 -1.514654  ...  0.247998  0.771679  0.909412 -0.689281 -0.327642   \n",
       "3  0.377436 -1.387024  ... -0.108300  0.005274 -0.190321 -1.175575  0.647376   \n",
       "4 -0.270533  0.817739  ... -0.009431  0.798278 -0.137458  0.141267 -0.206010   \n",
       "\n",
       "        V26       V27       V28  Amount  Class  \n",
       "0 -0.189115  0.133558 -0.021053  149.62      0  \n",
       "1  0.125895 -0.008983  0.014724    2.69      0  \n",
       "2 -0.139097 -0.055353 -0.059752  378.66      0  \n",
       "3 -0.221929  0.062723  0.061458  123.50      0  \n",
       "4  0.502292  0.219422  0.215153   69.99      0  \n",
       "\n",
       "[5 rows x 31 columns]"
      ]
     },
     "execution_count": 2,
     "metadata": {},
     "output_type": "execute_result"
    }
   ],
   "source": [
    "df=pd.read_csv(\"Data/creditcard/creditcard.csv\")\n",
    "df.head()"
   ]
  },
  {
   "cell_type": "code",
   "execution_count": null,
   "id": "e5c73f8f",
   "metadata": {},
   "outputs": [],
   "source": [
    "#Understanding our data:\n",
    "df.describe()"
   ]
  },
  {
   "cell_type": "code",
   "execution_count": null,
   "id": "de84672b",
   "metadata": {},
   "outputs": [],
   "source": [
    "#data type:\n",
    "df.info()"
   ]
  },
  {
   "cell_type": "code",
   "execution_count": null,
   "id": "4653aaa8",
   "metadata": {},
   "outputs": [],
   "source": [
    "#Do we have any missing value?\n",
    "df.isna().sum()"
   ]
  },
  {
   "cell_type": "code",
   "execution_count": 3,
   "id": "c51c918e",
   "metadata": {},
   "outputs": [],
   "source": [
    "#According to the dataset description, the features from \"V1\" to \"V28\" are the result of PCA(Principal Components Analysis). \n",
    "#We know that features must be scaled before using this technique. \n",
    "#However the features \"Time\" and \"Amount\" are not scaled we should scaled them before continuing with our analysis. \n",
    "\n",
    "df['Amount_scaled'] = StandardScaler().fit_transform(df['Amount'].values.reshape(-1, 1))\n",
    "df['Time_scaled'] = StandardScaler().fit_transform(df['Time'].values.reshape(-1, 1))\n",
    "\n",
    "#Now we have to drop from our dataset the features \"Time\" and \"Amount\":\n",
    "df=df.drop(columns=['Amount', 'Time'],axis=1)\n"
   ]
  },
  {
   "cell_type": "code",
   "execution_count": 4,
   "id": "d838b375",
   "metadata": {},
   "outputs": [
    {
     "data": {
      "text/html": [
       "<div>\n",
       "<style scoped>\n",
       "    .dataframe tbody tr th:only-of-type {\n",
       "        vertical-align: middle;\n",
       "    }\n",
       "\n",
       "    .dataframe tbody tr th {\n",
       "        vertical-align: top;\n",
       "    }\n",
       "\n",
       "    .dataframe thead th {\n",
       "        text-align: right;\n",
       "    }\n",
       "</style>\n",
       "<table border=\"1\" class=\"dataframe\">\n",
       "  <thead>\n",
       "    <tr style=\"text-align: right;\">\n",
       "      <th></th>\n",
       "      <th>V1</th>\n",
       "      <th>V2</th>\n",
       "      <th>V3</th>\n",
       "      <th>V4</th>\n",
       "      <th>V5</th>\n",
       "      <th>V6</th>\n",
       "      <th>V7</th>\n",
       "      <th>V8</th>\n",
       "      <th>V9</th>\n",
       "      <th>V10</th>\n",
       "      <th>...</th>\n",
       "      <th>V22</th>\n",
       "      <th>V23</th>\n",
       "      <th>V24</th>\n",
       "      <th>V25</th>\n",
       "      <th>V26</th>\n",
       "      <th>V27</th>\n",
       "      <th>V28</th>\n",
       "      <th>Amount_scaled</th>\n",
       "      <th>Time_scaled</th>\n",
       "      <th>Class</th>\n",
       "    </tr>\n",
       "  </thead>\n",
       "  <tbody>\n",
       "    <tr>\n",
       "      <th>0</th>\n",
       "      <td>-1.359807</td>\n",
       "      <td>-0.072781</td>\n",
       "      <td>2.536347</td>\n",
       "      <td>1.378155</td>\n",
       "      <td>-0.338321</td>\n",
       "      <td>0.462388</td>\n",
       "      <td>0.239599</td>\n",
       "      <td>0.098698</td>\n",
       "      <td>0.363787</td>\n",
       "      <td>0.090794</td>\n",
       "      <td>...</td>\n",
       "      <td>0.277838</td>\n",
       "      <td>-0.110474</td>\n",
       "      <td>0.066928</td>\n",
       "      <td>0.128539</td>\n",
       "      <td>-0.189115</td>\n",
       "      <td>0.133558</td>\n",
       "      <td>-0.021053</td>\n",
       "      <td>0.244964</td>\n",
       "      <td>-1.996583</td>\n",
       "      <td>0</td>\n",
       "    </tr>\n",
       "    <tr>\n",
       "      <th>1</th>\n",
       "      <td>1.191857</td>\n",
       "      <td>0.266151</td>\n",
       "      <td>0.166480</td>\n",
       "      <td>0.448154</td>\n",
       "      <td>0.060018</td>\n",
       "      <td>-0.082361</td>\n",
       "      <td>-0.078803</td>\n",
       "      <td>0.085102</td>\n",
       "      <td>-0.255425</td>\n",
       "      <td>-0.166974</td>\n",
       "      <td>...</td>\n",
       "      <td>-0.638672</td>\n",
       "      <td>0.101288</td>\n",
       "      <td>-0.339846</td>\n",
       "      <td>0.167170</td>\n",
       "      <td>0.125895</td>\n",
       "      <td>-0.008983</td>\n",
       "      <td>0.014724</td>\n",
       "      <td>-0.342475</td>\n",
       "      <td>-1.996583</td>\n",
       "      <td>0</td>\n",
       "    </tr>\n",
       "    <tr>\n",
       "      <th>2</th>\n",
       "      <td>-1.358354</td>\n",
       "      <td>-1.340163</td>\n",
       "      <td>1.773209</td>\n",
       "      <td>0.379780</td>\n",
       "      <td>-0.503198</td>\n",
       "      <td>1.800499</td>\n",
       "      <td>0.791461</td>\n",
       "      <td>0.247676</td>\n",
       "      <td>-1.514654</td>\n",
       "      <td>0.207643</td>\n",
       "      <td>...</td>\n",
       "      <td>0.771679</td>\n",
       "      <td>0.909412</td>\n",
       "      <td>-0.689281</td>\n",
       "      <td>-0.327642</td>\n",
       "      <td>-0.139097</td>\n",
       "      <td>-0.055353</td>\n",
       "      <td>-0.059752</td>\n",
       "      <td>1.160686</td>\n",
       "      <td>-1.996562</td>\n",
       "      <td>0</td>\n",
       "    </tr>\n",
       "    <tr>\n",
       "      <th>3</th>\n",
       "      <td>-0.966272</td>\n",
       "      <td>-0.185226</td>\n",
       "      <td>1.792993</td>\n",
       "      <td>-0.863291</td>\n",
       "      <td>-0.010309</td>\n",
       "      <td>1.247203</td>\n",
       "      <td>0.237609</td>\n",
       "      <td>0.377436</td>\n",
       "      <td>-1.387024</td>\n",
       "      <td>-0.054952</td>\n",
       "      <td>...</td>\n",
       "      <td>0.005274</td>\n",
       "      <td>-0.190321</td>\n",
       "      <td>-1.175575</td>\n",
       "      <td>0.647376</td>\n",
       "      <td>-0.221929</td>\n",
       "      <td>0.062723</td>\n",
       "      <td>0.061458</td>\n",
       "      <td>0.140534</td>\n",
       "      <td>-1.996562</td>\n",
       "      <td>0</td>\n",
       "    </tr>\n",
       "    <tr>\n",
       "      <th>4</th>\n",
       "      <td>-1.158233</td>\n",
       "      <td>0.877737</td>\n",
       "      <td>1.548718</td>\n",
       "      <td>0.403034</td>\n",
       "      <td>-0.407193</td>\n",
       "      <td>0.095921</td>\n",
       "      <td>0.592941</td>\n",
       "      <td>-0.270533</td>\n",
       "      <td>0.817739</td>\n",
       "      <td>0.753074</td>\n",
       "      <td>...</td>\n",
       "      <td>0.798278</td>\n",
       "      <td>-0.137458</td>\n",
       "      <td>0.141267</td>\n",
       "      <td>-0.206010</td>\n",
       "      <td>0.502292</td>\n",
       "      <td>0.219422</td>\n",
       "      <td>0.215153</td>\n",
       "      <td>-0.073403</td>\n",
       "      <td>-1.996541</td>\n",
       "      <td>0</td>\n",
       "    </tr>\n",
       "  </tbody>\n",
       "</table>\n",
       "<p>5 rows × 31 columns</p>\n",
       "</div>"
      ],
      "text/plain": [
       "         V1        V2        V3        V4        V5        V6        V7  \\\n",
       "0 -1.359807 -0.072781  2.536347  1.378155 -0.338321  0.462388  0.239599   \n",
       "1  1.191857  0.266151  0.166480  0.448154  0.060018 -0.082361 -0.078803   \n",
       "2 -1.358354 -1.340163  1.773209  0.379780 -0.503198  1.800499  0.791461   \n",
       "3 -0.966272 -0.185226  1.792993 -0.863291 -0.010309  1.247203  0.237609   \n",
       "4 -1.158233  0.877737  1.548718  0.403034 -0.407193  0.095921  0.592941   \n",
       "\n",
       "         V8        V9       V10  ...       V22       V23       V24       V25  \\\n",
       "0  0.098698  0.363787  0.090794  ...  0.277838 -0.110474  0.066928  0.128539   \n",
       "1  0.085102 -0.255425 -0.166974  ... -0.638672  0.101288 -0.339846  0.167170   \n",
       "2  0.247676 -1.514654  0.207643  ...  0.771679  0.909412 -0.689281 -0.327642   \n",
       "3  0.377436 -1.387024 -0.054952  ...  0.005274 -0.190321 -1.175575  0.647376   \n",
       "4 -0.270533  0.817739  0.753074  ...  0.798278 -0.137458  0.141267 -0.206010   \n",
       "\n",
       "        V26       V27       V28  Amount_scaled  Time_scaled  Class  \n",
       "0 -0.189115  0.133558 -0.021053       0.244964    -1.996583      0  \n",
       "1  0.125895 -0.008983  0.014724      -0.342475    -1.996583      0  \n",
       "2 -0.139097 -0.055353 -0.059752       1.160686    -1.996562      0  \n",
       "3 -0.221929  0.062723  0.061458       0.140534    -1.996562      0  \n",
       "4  0.502292  0.219422  0.215153      -0.073403    -1.996541      0  \n",
       "\n",
       "[5 rows x 31 columns]"
      ]
     },
     "execution_count": 4,
     "metadata": {},
     "output_type": "execute_result"
    }
   ],
   "source": [
    "#I changed the features order in the dataset. I like having my target variable at the end of the dataset. \n",
    "list(df.columns) \n",
    "df = df[['V1','V2','V3','V4','V5','V6','V7','V8','V9','V10','V11','V12','V13','V14','V15','V16','V17','V18','V19','V20','V21','V22','V23','V24','V25','V26','V27','V28','Amount_scaled','Time_scaled','Class']]\n",
    "df.head()"
   ]
  },
  {
   "cell_type": "markdown",
   "id": "bab023a0",
   "metadata": {},
   "source": [
    "## Correlation analysis"
   ]
  },
  {
   "cell_type": "code",
   "execution_count": null,
   "id": "3f1bb855",
   "metadata": {
    "scrolled": false
   },
   "outputs": [],
   "source": [
    "#Correlation between the features and the dependent variable \"Class\":\n",
    "df[df.columns[0:]].corr()['Class'][:].sort_values(ascending=False)"
   ]
  },
  {
   "cell_type": "code",
   "execution_count": null,
   "id": "5e305a6f",
   "metadata": {},
   "outputs": [],
   "source": [
    "#Triangle Correlation Heatmap:\n",
    "\n",
    "plt.figure(figsize=(30, 25))\n",
    "corr=df.corr()\n",
    "mask = np.triu(np.ones_like(corr))\n",
    "heatmap = sns.heatmap(corr, mask=mask, vmin=-1, vmax=1, annot=True, cmap='BrBG')\n",
    "heatmap.set_title('Dataframe Correlation Heatmap', fontdict={'fontsize':18}, pad=16);\n"
   ]
  },
  {
   "cell_type": "markdown",
   "id": "91ff87a3",
   "metadata": {},
   "source": [
    "## Fraud/ non-Fraud ratio"
   ]
  },
  {
   "cell_type": "code",
   "execution_count": null,
   "id": "622f2656",
   "metadata": {},
   "outputs": [],
   "source": [
    "# Let's calculate the ration of fraudulent and no fraudulent transactions:\n",
    "y=df['Class'].value_counts()\n",
    "y"
   ]
  },
  {
   "cell_type": "code",
   "execution_count": null,
   "id": "dc5474c7",
   "metadata": {},
   "outputs": [],
   "source": [
    "#ratio:\n",
    "y/len(df)"
   ]
  },
  {
   "cell_type": "markdown",
   "id": "0f2f135a",
   "metadata": {},
   "source": [
    "As we already mentioned in the dataset description section. The dataset is highly imbalanced with only 0.1727% of fraudulent transactions. "
   ]
  },
  {
   "cell_type": "markdown",
   "id": "faf6c765",
   "metadata": {},
   "source": [
    "### Class imbalance visual representation"
   ]
  },
  {
   "cell_type": "code",
   "execution_count": 5,
   "id": "416f768a",
   "metadata": {
    "scrolled": true
   },
   "outputs": [
    {
     "data": {
      "text/plain": [
       "Text(0.5, 1.0, 'Class Distributions \\n (0:Non_Fraud || 1: Fraud)')"
      ]
     },
     "execution_count": 5,
     "metadata": {},
     "output_type": "execute_result"
    },
    {
     "data": {
      "image/png": "[encoded data removed]",
      "text/plain": [
       "<Figure size 400x400 with 1 Axes>"
      ]
     },
     "metadata": {},
     "output_type": "display_data"
    }
   ],
   "source": [
    "#Visualizations can be a very powerful tool to detect class imbalance. \n",
    "#We can use different kind of charts to this purpose:\n",
    "\n",
    "# 1: Bar chart:\n",
    "cls = [\"#008F8D\", \"#F9BF51\"]\n",
    "sns.set_palette(sns.color_palette(cls))\n",
    "\n",
    "fig,ax=plt.subplots(figsize=(4,4))\n",
    "\n",
    "sns.countplot( data=df,x='Class')\n",
    "plt.title('Class Distributions \\n (0:Non_Fraud || 1: Fraud)', fontsize=12)"
   ]
  },
  {
   "cell_type": "code",
   "execution_count": null,
   "id": "fd711188",
   "metadata": {},
   "outputs": [],
   "source": [
    "colors = [\"#008F8D\", \"#FE7E37\",\"FFEFD8\",\"#F9BF51\"]"
   ]
  },
  {
   "cell_type": "code",
   "execution_count": 6,
   "id": "74bcb9d1",
   "metadata": {},
   "outputs": [],
   "source": [
    "# 2: Scartter plot:\n",
    "\n",
    "#First step: convert our dataframe in 2 variables:\n",
    "\n",
    "X=df.iloc[:,0:30].values\n",
    "y=df.Class.values\n"
   ]
  },
  {
   "cell_type": "code",
   "execution_count": 7,
   "id": "2f7173f2",
   "metadata": {
    "scrolled": true
   },
   "outputs": [
    {
     "data": {
      "image/png": "[encoded data removed]",
      "text/plain": [
       "<Figure size 800x500 with 1 Axes>"
      ]
     },
     "metadata": {},
     "output_type": "display_data"
    }
   ],
   "source": [
    "plt.figure(figsize=(8,5))\n",
    "counter = Counter(y)\n",
    "\n",
    "for label, _ in counter.items():\n",
    "    row_ix = np.where(y == label)[0]\n",
    "    plt.scatter(X[row_ix, 0], X[row_ix, 1], label=str(label), alpha=0.6)\n",
    "plt.legend()\n",
    "plt.title('Class Distributions \\n (0:Non_Fraud || 1: Fraud)', fontsize=12)\n",
    "plt.show()"
   ]
  },
  {
   "cell_type": "markdown",
   "id": "03339d76",
   "metadata": {},
   "source": [
    "## Traditional way of cathing fraud: Rules "
   ]
  },
  {
   "cell_type": "markdown",
   "id": "70aeb387",
   "metadata": {},
   "source": [
    "Rules are the traditional way of catching fraudulent transactions. \n",
    "\n",
    "How do rules work? The idea is very simple; we just need to create a rule that send to manual review any transaction above a certain amount.\n",
    "We can set as many rules as we need, but keep in mind that some of them would result in a big number of false positives\n",
    "\n",
    "Can we set rules in our dataset? Sure!\n",
    "\n",
    "\n",
    "First we will define threshold values using common statistics, to split fraud and non-fraud. Then, use those thresholds on our features to detect fraud.\n",
    "\n"
   ]
  },
  {
   "cell_type": "code",
   "execution_count": null,
   "id": "a6494d6e",
   "metadata": {},
   "outputs": [],
   "source": [
    "mean=df.groupby('Class').mean()"
   ]
  },
  {
   "cell_type": "code",
   "execution_count": null,
   "id": "ed1d8b44",
   "metadata": {},
   "outputs": [],
   "source": [
    "pd.set_option('display.max_columns', None)\n",
    "mean"
   ]
  },
  {
   "cell_type": "code",
   "execution_count": null,
   "id": "a08ec3a0",
   "metadata": {},
   "outputs": [],
   "source": [
    "# We will send to manual review all transactions from V1 that are  smaller than -3 and all transactions from V7 smaller than -5.\n",
    "\n",
    "df['predicted_fraud'] = np.where(np.logical_and(df['V1'] < -3, df['V7'] < -5), 1, 0)"
   ]
  },
  {
   "cell_type": "code",
   "execution_count": null,
   "id": "b38bbda4",
   "metadata": {},
   "outputs": [],
   "source": [
    "# Create a crosstab of flagged fraud cases versus the actual fraud cases\n",
    "\n",
    "print(pd.crosstab(df.Class, df.predicted_fraud, rownames=['Fraud'], colnames=['Predicted_Fraud']))"
   ]
  },
  {
   "cell_type": "markdown",
   "id": "6cbf14e2",
   "metadata": {},
   "source": [
    "We got our first results!\n",
    "\n",
    "using rules, we have detected 157 of 492 fraudulent cases (31.91%), and we got 824 false positives. Can Machine Learaning improve this result?"
   ]
  },
  {
   "cell_type": "code",
   "execution_count": null,
   "id": "d5dcfc54",
   "metadata": {},
   "outputs": [],
   "source": [
    "#I do not need the feature \"flag as fraud\" anymore, so I will delete it\n",
    "df=df.drop(columns=['predicted_fraud'])"
   ]
  },
  {
   "cell_type": "markdown",
   "id": "f049b205",
   "metadata": {},
   "source": [
    "## Machine Learning models"
   ]
  },
  {
   "cell_type": "markdown",
   "id": "90cb15ba",
   "metadata": {},
   "source": [
    "In this section we will train and compare the results of 5 different ML models: Logistic Regression, Decision Tree Classifier, Random Forest Classifier, Adaboost Classifier and Light Gradient Boosting Classifier in order to find out which one is the more effective in detecting fraudulent transactions. \n",
    "\n",
    "Taking into account that our dataset is high unbalanced there are 3 different approaches that we could apply:\n",
    "\n",
    "**Approach 1**: Ignore the imbalanced problem: In this case we cannot use \"accuracy\" to comparte the model performance but we can use other metrics instead such as \"roc_auc\",\"confussion matrix\", \"precision\", \"recall\" or \"f1\". \n",
    "\n",
    "**Approach 2**: Oversampling the minotiry class using SMOTE until both clases are equally represented.\n",
    "\n",
    "**Approach 3**: Undersampling the mayority class until both classes are equally represented\n",
    "\n",
    "In this notebook we will follow the first approach. Since we want our models finds the maximun number of fraud cases, we will choose the model with the highest recall score value. \n",
    "\n"
   ]
  },
  {
   "cell_type": "markdown",
   "id": "f125d67b",
   "metadata": {},
   "source": [
    "### Train / Test sets"
   ]
  },
  {
   "cell_type": "code",
   "execution_count": null,
   "id": "8cc5c026",
   "metadata": {},
   "outputs": [],
   "source": [
    "# XY split:\n",
    "\n",
    "X=df.drop('Class', axis=1)\n",
    "y=df.Class\n"
   ]
  },
  {
   "cell_type": "code",
   "execution_count": null,
   "id": "b267b7da",
   "metadata": {},
   "outputs": [],
   "source": [
    "#Create training and test set:\n",
    "\n",
    "X_train, X_test, y_train, y_test=train_test_split(X,y,test_size=0.30, random_state=1000)"
   ]
  },
  {
   "cell_type": "code",
   "execution_count": null,
   "id": "75bc53ee",
   "metadata": {},
   "outputs": [],
   "source": [
    "models = {\n",
    "    \"Logisitic Regression\": LogisticRegression(),\n",
    "    \"Decision Tree\": DecisionTreeClassifier(),\n",
    "    \"Random Forest Classifier\": RandomForestClassifier(),\n",
    "    \"Adaboost Classifier\" :AdaBoostClassifier(),\n",
    "   \"Light Gradient Boosting\" :LGBMClassifier()\n",
    "    \n",
    "      \n",
    "}\n",
    "\n",
    "\n",
    "# Cross validation score for different classifiers using \"recall\" as scoring:\n",
    "\n",
    "for key, model in models.items():\n",
    "    model.fit(X_train,y_train)\n",
    "    score = cross_val_score(model, X, y, scoring='recall',cv=5)\n",
    "    print(f'{key} model recall score:{round(score.mean(), 2)}')"
   ]
  },
  {
   "cell_type": "markdown",
   "id": "46c9dbab",
   "metadata": {},
   "source": [
    "Random Forest Classifier is the algorithm with the highest recall value:0.78."
   ]
  },
  {
   "cell_type": "code",
   "execution_count": null,
   "id": "b8bc84f8",
   "metadata": {},
   "outputs": [],
   "source": [
    "#Let's see how many fraud cases we can detect with random forest:\n",
    "\n",
    "rfc=RandomForestClassifier()\n",
    "rfc.fit(X_train,y_train)\n",
    "y_pred=rfc.predict(X_test)\n"
   ]
  },
  {
   "cell_type": "code",
   "execution_count": null,
   "id": "06aacf91",
   "metadata": {},
   "outputs": [],
   "source": [
    "print(\"Classification report for the test set\")\n",
    "print(classification_report(y_test,y_pred))"
   ]
  },
  {
   "cell_type": "code",
   "execution_count": null,
   "id": "8881b2fb",
   "metadata": {
    "scrolled": true
   },
   "outputs": [],
   "source": [
    "print(\"Random Forest Confusion matrix for the test set\")\n",
    "print(confusion_matrix(y_test, y_pred))\n",
    "conf_mat = confusion_matrix(y_test,y_pred)\n",
    "sns.heatmap(conf_mat, square=True, annot=True, cmap=cls, fmt='d', cbar=False)\n",
    "\n",
    "plt.show()"
   ]
  },
  {
   "cell_type": "markdown",
   "id": "b9efcade",
   "metadata": {},
   "source": [
    "We can see that **Random Forest** model detects the 75.65% of fraduluent transactions (115 of 152 cases) and we have only 5 falses positives. \n",
    "\n",
    "In Fraud analysis we have to find the balance between catching the maximum number of fraudulent transactions( this means to optimize the recall score) and keeping the number of false positives as low as possible. \n",
    "\n",
    "In this scenario a high number of falses positives would represents extra workload for Fraud Deparment because they have to review manually thousands of card transactions, and for Customer Service Department,since they have to deal with the customer's complaints whose transactions have been tagged as fraudulent by mistake.That is why it is important to keep the number of false positives as low as possible.  \n",
    "\n",
    "\n",
    "Let's see if we can improve these results by tunning the hyperparameters of our model \n"
   ]
  },
  {
   "cell_type": "markdown",
   "id": "4d194bc3",
   "metadata": {},
   "source": [
    "### Hyperparameter tunning with GridSearchCV\n",
    "\n",
    "\n"
   ]
  },
  {
   "cell_type": "markdown",
   "id": "a884cbe2",
   "metadata": {},
   "source": [
    "#### Logistic Regression"
   ]
  },
  {
   "cell_type": "code",
   "execution_count": null,
   "id": "001ab0dd",
   "metadata": {
    "scrolled": true
   },
   "outputs": [],
   "source": [
    "\n",
    "logreg_hyperparameters = {\"penalty\": ['l2', 'l1'], \n",
    "                          'C': [0.01,1,10,100],\n",
    "                         \"solver\":['liblinear','saga']}\n",
    "\n",
    "\n",
    "search=GridSearchCV(LogisticRegression(), logreg_hyperparameters, scoring='recall',n_jobs=-1,cv=5)\n",
    "result_logreg=search.fit(X_train, y_train)\n"
   ]
  },
  {
   "cell_type": "code",
   "execution_count": null,
   "id": "d9b3a2d6",
   "metadata": {},
   "outputs": [],
   "source": [
    "print('Best Recall Score of Logistic Regression model: %s' % result_logreg.best_score_)\n",
    "print('Best Hyperparameters of Logistic regression Model: %s' % result_logreg.best_params_)\n"
   ]
  },
  {
   "cell_type": "markdown",
   "id": "d359db4e",
   "metadata": {},
   "source": [
    "#### Decision Tree"
   ]
  },
  {
   "cell_type": "code",
   "execution_count": null,
   "id": "30b926c8",
   "metadata": {},
   "outputs": [],
   "source": [
    "hyperparameters = {\"criterion\": [\"gini\", \"entropy\"],\n",
    "                   \"max_depth\":list(range(2,4,1)), \n",
    "                   \"min_samples_leaf\": list(range(5,7,1))}\n",
    "\n",
    "search = GridSearchCV(DecisionTreeClassifier(), hyperparameters,scoring='recall', n_jobs=-1, cv=5)\n",
    "result_dtc=search.fit(X_train, y_train)\n"
   ]
  },
  {
   "cell_type": "code",
   "execution_count": null,
   "id": "d030fca0",
   "metadata": {},
   "outputs": [],
   "source": [
    "print('Best Recall Score of Decision Tree model: %s' % result_dtc.best_score_)\n",
    "print('Best Hyperparameters of Decision Tree model: %s' % result_dtc.best_params_)\n"
   ]
  },
  {
   "cell_type": "markdown",
   "id": "26f3ae87",
   "metadata": {},
   "source": [
    "#### Random Forest"
   ]
  },
  {
   "cell_type": "code",
   "execution_count": null,
   "id": "10995cf8",
   "metadata": {},
   "outputs": [],
   "source": [
    "rfc_hyperparameters = {'n_estimators': [1,30,60,100],\n",
    "              'max_features': ['sqrt', 'log2'], \n",
    "              'max_depth': [2,4,8,10],\n",
    "              'criterion': ['gini', 'entropy','log_loss']}\n",
    "\n",
    "\n",
    "search = GridSearchCV(RandomForestClassifier(), rfc_hyperparameters, scoring='recall', n_jobs=-1, cv=5)\n",
    "result_rfc=search.fit(X_train, y_train)\n"
   ]
  },
  {
   "cell_type": "code",
   "execution_count": null,
   "id": "19037cce",
   "metadata": {},
   "outputs": [],
   "source": [
    "print('Best Recall Score of Random Forest model: %s' % result_rfc.best_score_)\n",
    "print('Best Hyperparameters of Random Forest model: %s' % result_rfc.best_params_)"
   ]
  },
  {
   "cell_type": "markdown",
   "id": "f8903b12",
   "metadata": {},
   "source": [
    "#### Adaboost"
   ]
  },
  {
   "cell_type": "code",
   "execution_count": null,
   "id": "5b773049",
   "metadata": {},
   "outputs": [],
   "source": [
    "ada_hyperparameters = {'n_estimators': [1,30,60,100], \n",
    "                       'learning_rate': [0.01,0.1,0.2,0.5]}\n",
    "\n",
    "\n",
    "search = GridSearchCV(AdaBoostClassifier(), ada_hyperparameters, scoring='recall', n_jobs=-1, cv=5)\n",
    "result_ada=search.fit(X_train, y_train)"
   ]
  },
  {
   "cell_type": "code",
   "execution_count": null,
   "id": "aae8dbed",
   "metadata": {},
   "outputs": [],
   "source": [
    "print('Best Recall Score of Adaboost model: %s' % result_ada.best_score_)\n",
    "print('Best Hyperparameters of Adaboost model: %s' % result_ada.best_params_)"
   ]
  },
  {
   "cell_type": "markdown",
   "id": "729bb13b",
   "metadata": {},
   "source": [
    "#### Light Gradient Boosting"
   ]
  },
  {
   "cell_type": "code",
   "execution_count": null,
   "id": "80e67c32",
   "metadata": {},
   "outputs": [],
   "source": [
    "lgb_hyperparameters = {\"n_estimators\":[1,30,60,100],\n",
    "                      \"max_depth\":[2,4,6,8],\n",
    "                      \"learning_rate\":[0.01,0.1,0.2,0.5],\n",
    "                      \"min_samples_leaf\":[10,20,30],\n",
    "                     \"subsample\" : [0.1,0.2,0.5,0.9]}\n",
    "\n",
    "search = GridSearchCV(LGBMClassifier(), lgb_hyperparameters, scoring='recall', n_jobs=-1, cv=5)\n",
    "result_lgb=search.fit(X_train, y_train)\n"
   ]
  },
  {
   "cell_type": "code",
   "execution_count": null,
   "id": "58575e1b",
   "metadata": {},
   "outputs": [],
   "source": [
    "print('Best Recall Score of Light Gradient Boosting model: %s' % result_lgb.best_score_)\n",
    "print('Best Hyperparameters of Light Gradient Boosting model: %s' % result_lgb.best_params_)"
   ]
  },
  {
   "cell_type": "markdown",
   "id": "4a1aab27",
   "metadata": {},
   "source": [
    "Light Gradient Boosting is the model with the highest recall score. Let's apply the parameters values to our Light Gradient Boosting model."
   ]
  },
  {
   "cell_type": "code",
   "execution_count": null,
   "id": "f143872c",
   "metadata": {},
   "outputs": [],
   "source": [
    "lgbc = LGBMClassifier(learning_rate= 0.5,max_depth= 6,\n",
    "                     min_samples_leaf= 20,n_estimators= 1, \n",
    "                      subsample= 0.1)\n",
    "\n",
    "result_lgbc=lgbc.fit(X_train, y_train)\n",
    "\n",
    "y_pred_lgbc=result_lgbc.predict(X_test)\n",
    "y_pred_probs_lgbc = result_lgbc.predict_proba(X_test)[:,1]"
   ]
  },
  {
   "cell_type": "code",
   "execution_count": null,
   "id": "c4e38b04",
   "metadata": {},
   "outputs": [],
   "source": [
    "print(\"Classification report for the test set\")\n",
    "print(classification_report(y_test,y_pred_lgbc))"
   ]
  },
  {
   "cell_type": "code",
   "execution_count": null,
   "id": "121de693",
   "metadata": {},
   "outputs": [],
   "source": [
    "print(\"Gradient Boosting Confusion matrix for the test set after hyperparameter tunning\")\n",
    "print(confusion_matrix(y_test,y_pred_lgbc))\n",
    "conf_mat = confusion_matrix(y_test,y_pred_lgbc)\n",
    "sns.heatmap(conf_mat, square=True, annot=True, cmap=cls, fmt='d', cbar=False)\n",
    "\n",
    "plt.show()"
   ]
  },
  {
   "cell_type": "code",
   "execution_count": null,
   "id": "fc30ce6d",
   "metadata": {},
   "outputs": [],
   "source": [
    "cls"
   ]
  },
  {
   "cell_type": "code",
   "execution_count": null,
   "id": "578ca8fc",
   "metadata": {},
   "outputs": [],
   "source": [
    "print(\"roc_auc_score of Gradient Boosting classifier: \",roc_auc_score(y_test,y_pred_probs_lgbc ))"
   ]
  },
  {
   "cell_type": "code",
   "execution_count": null,
   "id": "36c2bff1",
   "metadata": {},
   "outputs": [],
   "source": [
    "\n",
    "#gradient boosting\n",
    "fpr, tpr, _ = metrics.roc_curve(y_test, y_pred_probs_lgbc )\n",
    "auc = round(roc_auc_score(y_test, y_pred_probs_lgbc), 4)\n",
    "plt.plot(fpr,tpr,label=\"Gradient Boosting, AUC=\"+str(auc))\n"
   ]
  },
  {
   "cell_type": "code",
   "execution_count": null,
   "id": "24a081c4",
   "metadata": {},
   "outputs": [],
   "source": [
    "# Create a pd.Series of features importances\n",
    "importances = pd.Series(data=lgbc.feature_importances_,\n",
    "                        index= X_train.columns)\n",
    "\n",
    "# Sort importances\n",
    "importances_sorted = importances.sort_values()\n",
    "\n",
    "# Draw a horizontal barplot of importances_sorted\n",
    "\n",
    "fig,ax=plt.subplots(figsize=(7,7))\n",
    "\n",
    "importances_sorted.plot(kind='barh', color='#008F8D')\n",
    "plt.title('LGB Features Importances')\n",
    "plt.show() \n",
    "\n",
    "\n",
    "\n",
    "  "
   ]
  },
  {
   "cell_type": "markdown",
   "id": "98b4ddc1",
   "metadata": {},
   "source": [
    "After the hyperparameter tunning **Light Gradient Boosting** is our best model with a recall score of 0.82. \n",
    "\n"
   ]
  },
  {
   "cell_type": "markdown",
   "id": "46efc388",
   "metadata": {},
   "source": [
    "## Hybrid Rule_Based Machine Learning Model"
   ]
  },
  {
   "cell_type": "code",
   "execution_count": null,
   "id": "780dcee8",
   "metadata": {},
   "outputs": [],
   "source": [
    "# XY split:\n",
    "\n",
    "x=df.drop('Class', axis=1)\n",
    "y=df.Class"
   ]
  },
  {
   "cell_type": "code",
   "execution_count": null,
   "id": "f19ec355",
   "metadata": {},
   "outputs": [],
   "source": [
    "train_x, test_x, train_y,test_y=train_test_split(x,y,test_size=0.30, random_state=1000)"
   ]
  },
  {
   "cell_type": "code",
   "execution_count": null,
   "id": "0a68d090",
   "metadata": {},
   "outputs": [],
   "source": [
    "\n",
    "class RuleAugmentedEstimator(BaseEstimator):\n",
    "    \"\"\"Augments sklearn estimators with rule-based logic.\n",
    "    This class is a wrapper class for sklearn estimators with the additional\n",
    "    possibility of adding rule-based logic to the underlying estimator.\n",
    "    The provided rules are hard-coded and take precedence over the underlying\n",
    "    estimator's predictions.\n",
    "    \"\"\"\n",
    "\n",
    "    def __init__(self, base_model: BaseEstimator, rules: Dict, **base_params):\n",
    "        \"\"\"Initializes the RuleAugmentedEstimator instance.\n",
    "        Initializes the rule-augmented estimator by supplying the underlying\n",
    "        sklearn estimator as well as the hard-coded rules.\n",
    "        Args:\n",
    "            base_model: The underlying sklearn estimator.\n",
    "              Must implement a fit and predict method.\n",
    "            rules: The hard-coded rules in the format of a dictionary,\n",
    "              with keys being the pandas dataframe column name, and the values\n",
    "              being a tuple in the following form:\n",
    "              \n",
    "              (comparison operator, value, return value)\n",
    "              Acceptable comparison operators are:\n",
    "              \"=\", \"<\", \">\", \"<=\", \">=\"\n",
    "              Example:\n",
    "              \n",
    "              {\"House Type\": [\n",
    "                  (\"=\", \"Penthouse\", 1.0),\n",
    "                  (\"=\", \"Shack\", 0.0)\n",
    "               ],\n",
    "               \"House Price\": [\n",
    "                   (\"<\", 1000.0, 0.0),\n",
    "                   (\">=\", 500000.0, 1.0)\n",
    "              ]}\n",
    "            **base_params: Optional keyword arguments which will be passed on\n",
    "            to the ``base_model``.\n",
    "        Examples:\n",
    "            The below example illustrates how an instance of the \n",
    "            RuleAugmentedEstimator class can be initialized with a trained \n",
    "            sklearn GradientBoostingRegressor instance.\n",
    "            >>> gbr = GradientBoostingRegressor()\n",
    "            >>> rules = {\"House Type\": [\n",
    "                            (\"=\", \"Penthouse\", 1.0),\n",
    "                            (\"=\", \"Shack\", 0.0)\n",
    "                         ],\n",
    "                         \"House Price\": [\n",
    "                            (\"<\", 1000.0, 0.0),\n",
    "                            (\">=\", 500000.0, 1.0)\n",
    "                        ]}\n",
    "            >>> ra_estimator = RuleAugmentedEstimator(gbr, rules)\n",
    "        \"\"\"\n",
    "\n",
    "        self.rules = rules\n",
    "        self.base_model = base_model\n",
    "        self.base_model.set_params(**base_params)\n",
    "\n",
    "    def __repr__(self):\n",
    "        return \"Rule Augmented Estimator:\\n\\n\\t Base Model: {}\\n\\t Rules: {}\".format(self.base_model, self.rules)\n",
    "\n",
    "    def __str__(self):\n",
    "         return self.__str__\n",
    "   \n",
    "    def _get_base_model_data(self, X: pd.DataFrame, y: pd.Series) -> Tuple[pd.DataFrame, pd.Series]:\n",
    "        \"\"\"Filters the trainig data for data points not affected by the rules.\"\"\"\n",
    "        \n",
    "        X_train = X\n",
    "\n",
    "        for category, rules in self.rules.items():\n",
    "\n",
    "            if category not in X_train.columns.values: continue\n",
    "\n",
    "            for rule in rules:\n",
    "\n",
    "                if rule[0] == \"=\":\n",
    "                    X_train = X_train.loc[X_train[category] != rule[1]]\n",
    "\n",
    "                elif rule[0] == \"<\":\n",
    "                    X_train = X_train.loc[X_train[category] >= rule[1]]\n",
    "\n",
    "                elif rule[0] == \">\":\n",
    "                    X_train = X_train.loc[X_train[category] <= rule[1]]\n",
    "\n",
    "                elif rule[0] == \"<=\":\n",
    "                    X_train = X_train.loc[X_train[category] > rule[1]]\n",
    "\n",
    "                elif rule[0] == \">=\":\n",
    "                    X_train = X_train.loc[X_train[category] < rule[1]]\n",
    "\n",
    "                else:\n",
    "                    print(\"Invalid rule detected: {}\".format(rule))\n",
    "                \n",
    "        indices = X_train.index.values\n",
    "        y_train = y.iloc[indices]\n",
    "        \n",
    "        X_train = X_train.reset_index(drop=True)\n",
    "        y_train = y_train.reset_index(drop=True)\n",
    "        \n",
    "        return X_train, train_y  \n",
    "\n",
    "    def fit(self, X: pd.DataFrame, y: pd.Series, **kwargs):\n",
    "        \"\"\"Fits the estimator to the data.\n",
    "        \n",
    "        Fits the estimator to the data, only training the underlying estimator\n",
    "        on data which isn't affected by the hard-coded rules.\n",
    "        \n",
    "        Args:\n",
    "            X: The training feature data.\n",
    "            y: The training label data.\n",
    "            **kwargs: Optional keyword arguments passed to the underlying\n",
    "            estimator's fit function.\n",
    "            \n",
    "    \"\"\"\n",
    "        X_train, y_train = self._get_base_model_data(X, y)\n",
    "        self.base_model.fit(X_train, y_train, **kwargs)\n",
    "    \n",
    "    def predict(self, X: pd.DataFrame) -> np.array:\n",
    "        \"\"\"Gets predictions for the provided feature data.\n",
    "        \n",
    "        The predicitons are evaluated using the provided rules wherever possible\n",
    "        otherwise the underlying estimator is used.\n",
    "        \n",
    "        Args:\n",
    "            X: The feature data to evaluate predictions for.\n",
    "        \n",
    "        Returns:\n",
    "            np.array: Evaluated predictions.\n",
    "        \"\"\"\n",
    "        \n",
    "        p_X = X.copy()\n",
    "        p_X['prediction'] = np.nan\n",
    "\n",
    "        for category, rules in self.rules.items():\n",
    "\n",
    "            if category not in p_X.columns.values: continue\n",
    "\n",
    "            for rule in rules:\n",
    "\n",
    "                if rule[0] == \"=\":\n",
    "                    p_X.loc[p_X[category] == rule[1], 'prediction'] = rule[2]\n",
    "\n",
    "                elif rule[0] == \"<\":\n",
    "                    p_X.loc[p_X[category] < rule[1], 'prediction'] = rule[2]\n",
    "\n",
    "                elif rule[0] == \">\":\n",
    "                    p_X.loc[p_X[category] > rule[1], 'prediction'] = rule[2]\n",
    "\n",
    "                elif rule[0] == \"<=\":\n",
    "                    p_X.loc[p_X[category] <= rule[1], 'prediction'] = rule[2]\n",
    "\n",
    "                elif rule[0] == \">=\":\n",
    "                    p_X.loc[p_X[category] >= rule[1], 'prediction'] = rule[2]\n",
    "\n",
    "                else:\n",
    "                    print(\"Invalid rule detected: {}\".format(rule))\n",
    "\n",
    "        if len(p_X.loc[p_X['prediction'].isna()].index != 0):\n",
    "\n",
    "            base_X = p_X.loc[p_X['prediction'].isna()].copy()\n",
    "            base_X.drop('prediction', axis=1, inplace=True)\n",
    "            p_X.loc[p_X['prediction'].isna(), 'prediction'] = self.base_model.predict(base_X)\n",
    "\n",
    "        return p_X['prediction'].values\n",
    "    \n",
    "    def get_params(self, deep: bool = True) -> Dict:\n",
    "        \"\"\"Return the model's and base model's parameters.\n",
    "        Args:\n",
    "            deep: Whether to recursively return the base model's parameters.\n",
    "        Returns\n",
    "            Dict: The model's parameters.\n",
    "        \"\"\"\n",
    "        \n",
    "        params = {'base_model': self.base_model,\n",
    "                  'outcome_range': self.outcome_range,\n",
    "                  'rules': self.rules\n",
    "                 }\n",
    "    \n",
    "        params.update(self.base_model.get_params(deep=deep))\n",
    "        return params\n",
    "    \n",
    "    def set_params(self, **params):\n",
    "        \"\"\"Sets parameters for the model and base model.\n",
    "        Args:\n",
    "            **params: Optional keyword arguments.\n",
    "        \"\"\"\n",
    "                  \n",
    "        parameters = params\n",
    "        param_keys = parameters.keys()\n",
    "        \n",
    "        if 'base_model' in param_keys:\n",
    "            value = parameters.pop('base_model')\n",
    "            self.base_model = value\n",
    "            \n",
    "        if 'rules' in param_keys:\n",
    "            value = parameters.pop('rules')\n",
    "            self.rules = value\n",
    "        \n",
    "        self.base_model.set_params(**parameters)"
   ]
  },
  {
   "cell_type": "code",
   "execution_count": null,
   "id": "df309e93",
   "metadata": {},
   "outputs": [],
   "source": [
    "\n",
    "rules = {       \n",
    "        \n",
    "          \n",
    "        \"V17\": [\n",
    "            (\"<\", -2.5, 1.0),\n",
    "            (\">=\", -2.5, 0.0)]}\n",
    "         \n",
    "ra_estimator = RuleAugmentedEstimator(lgbc, rules)\n",
    "\n",
    "# Now, the RuleAugmentedEstimator can be used similarily to the underlying base estimator, assuming data X is defined\n",
    "\n",
    "predictions = ra_estimator.predict(X_test)\n",
    "\n"
   ]
  },
  {
   "cell_type": "code",
   "execution_count": null,
   "id": "2fd77e7a",
   "metadata": {},
   "outputs": [],
   "source": [
    "print(\"Classification report for the test set\")\n",
    "print(classification_report(y_test,predictions))"
   ]
  },
  {
   "cell_type": "code",
   "execution_count": null,
   "id": "b6c1e7d9",
   "metadata": {},
   "outputs": [],
   "source": [
    "print(\"Gradient Boosting Confusion matrix for the test set before hyperparameter tunning\")\n",
    "print(confusion_matrix(y_test, predictions))\n",
    "conf_mat = confusion_matrix(y_test,predictions)\n",
    "sns.heatmap(conf_mat, square=True, annot=True, color=cls, fmt='d', cbar=False)\n",
    "\n",
    "plt.show()"
   ]
  },
  {
   "cell_type": "markdown",
   "id": "0455cace",
   "metadata": {},
   "source": [
    "## Synthetic Minority Oversampling Technique (SMOTE)"
   ]
  },
  {
   "cell_type": "code",
   "execution_count": 8,
   "id": "96df7171",
   "metadata": {},
   "outputs": [],
   "source": [
    "X=df.iloc[:,0:30].values\n",
    "y=df.Class.values"
   ]
  },
  {
   "cell_type": "code",
   "execution_count": 9,
   "id": "0555c327",
   "metadata": {},
   "outputs": [
    {
     "name": "stdout",
     "output_type": "stream",
     "text": [
      "X shape: (284807, 30)\n",
      "y shape: (284807,)\n"
     ]
    }
   ],
   "source": [
    "print(f'X shape: {X.shape}\\ny shape: {y.shape}')"
   ]
  },
  {
   "cell_type": "code",
   "execution_count": 10,
   "id": "23a42d10",
   "metadata": {},
   "outputs": [],
   "source": [
    "\n",
    "# Define the resampling method\n",
    "method = SMOTE(random_state=1000)\n"
   ]
  },
  {
   "cell_type": "code",
   "execution_count": 11,
   "id": "d77f82ea",
   "metadata": {},
   "outputs": [],
   "source": [
    "# Create the resampled feature set\n",
    "X_sm, y_sm = method.fit_resample(X, y)\n"
   ]
  },
  {
   "cell_type": "code",
   "execution_count": 12,
   "id": "c25dcf34",
   "metadata": {},
   "outputs": [
    {
     "data": {
      "text/plain": [
       "0    284315\n",
       "1    284315\n",
       "dtype: int64"
      ]
     },
     "execution_count": 12,
     "metadata": {},
     "output_type": "execute_result"
    }
   ],
   "source": [
    "pd.value_counts(pd.Series(y_sm))"
   ]
  },
  {
   "cell_type": "code",
   "execution_count": 13,
   "id": "a824c6a8",
   "metadata": {},
   "outputs": [
    {
     "data": {
      "image/png": "[encoded data removed]",
      "text/plain": [
       "<Figure size 800x500 with 1 Axes>"
      ]
     },
     "metadata": {},
     "output_type": "display_data"
    }
   ],
   "source": [
    "plt.figure(figsize=(8,5))\n",
    "counter = Counter(y_sm)\n",
    "\n",
    "for label, _ in counter.items():\n",
    "    row_ix = np.where(y_sm == label)[0]\n",
    "    plt.scatter(X_sm[row_ix, 0], X_sm[row_ix, 1], label=str(label), alpha=0.6)\n",
    "plt.legend()\n",
    "plt.title('SMOTE Class Distributions \\n (0:Non_Fraud || 1: Fraud)', fontsize=12)\n",
    "plt.show()"
   ]
  },
  {
   "cell_type": "code",
   "execution_count": 14,
   "id": "da1dde7c",
   "metadata": {},
   "outputs": [],
   "source": [
    "X_columns = ['V1','V2','V3','V4','V5','V6','V7','V8','V9','V10','V11','V12','V13','V14','V15','V16','V17','V18','V19','V20','V21','V22','V23','V24','V25','V26','V27','V28','Amount_scaled','Time_scaled']\n",
    "y_columns= df = ['Class']\n",
    "\n",
    "\n",
    "df_sm = pd.concat([pd.DataFrame(X_sm, columns=X_columns), pd.DataFrame(y_sm, columns=y_columns)], axis=1)"
   ]
  },
  {
   "cell_type": "markdown",
   "id": "d7f24184",
   "metadata": {},
   "source": [
    "# confirm there is the same number of fraudulent and no-fraudulent transactions.\n",
    "y_sm=df_sm['y'].value_counts()\n",
    "y_sm"
   ]
  },
  {
   "cell_type": "code",
   "execution_count": 15,
   "id": "1c99273e",
   "metadata": {
    "scrolled": true
   },
   "outputs": [
    {
     "data": {
      "text/plain": [
       "<AxesSubplot:title={'center':'SMOTE Class Distributions \\n (0:Non_Fraud || 1: Fraud)'}>"
      ]
     },
     "execution_count": 15,
     "metadata": {},
     "output_type": "execute_result"
    },
    {
     "data": {
      "image/png": "[encoded data removed]",
      "text/plain": [
       "<Figure size 640x480 with 1 Axes>"
      ]
     },
     "metadata": {},
     "output_type": "display_data"
    }
   ],
   "source": [
    "\n",
    "df_sm.Class.value_counts().plot(kind='bar', title='SMOTE Class Distributions \\n (0:Non_Fraud || 1: Fraud)',color=cls)\n",
    "\n"
   ]
  },
  {
   "cell_type": "markdown",
   "id": "5008e4b6",
   "metadata": {},
   "source": [
    "\n",
    "X_sm=df_sm.drop('Class', axis=1)\n",
    "y_sm=df_sm.Class"
   ]
  },
  {
   "cell_type": "code",
   "execution_count": 18,
   "id": "cb075ac1",
   "metadata": {},
   "outputs": [],
   "source": [
    "X_train, X_test, y_train, y_test=train_test_split(X_sm,y_sm,test_size=0.30, random_state=1000)"
   ]
  },
  {
   "cell_type": "code",
   "execution_count": 19,
   "id": "f70aff61",
   "metadata": {},
   "outputs": [
    {
     "name": "stdout",
     "output_type": "stream",
     "text": [
      "Logisitic Regression model accuracy score:0.94\n",
      "Decision Tree model accuracy score:0.78\n",
      "Random Forest Classifier model accuracy score:0.83\n",
      "Adaboost Classifier model accuracy score:0.78\n",
      "Light Gradient Boosting model accuracy score:0.83\n"
     ]
    }
   ],
   "source": [
    "models = {\n",
    "    \"Logisitic Regression\": LogisticRegression(),\n",
    "    \"Decision Tree\": DecisionTreeClassifier(),\n",
    "    \"Random Forest Classifier\": RandomForestClassifier(),\n",
    "    \"Adaboost Classifier\" :AdaBoostClassifier(),\n",
    "   \"Light Gradient Boosting\" :LGBMClassifier()\n",
    "    \n",
    "      \n",
    "}\n",
    "\n",
    "\n",
    "# Cross validation score for different classifiers using \"recall\" as scoring:\n",
    "\n",
    "for key, model in models.items():\n",
    "    model.fit(X_train,y_train)\n",
    "    score = cross_val_score(model, X_sm, y_sm, scoring='accuracy',cv=5)\n",
    "    print(f'{key} model accuracy score:{round(score.mean(), 2)}')"
   ]
  },
  {
   "cell_type": "code",
   "execution_count": 20,
   "id": "07fea2f6",
   "metadata": {},
   "outputs": [],
   "source": [
    "#Let's see how many fraud cases we can detect with Logistic Regression model:\n",
    "\n",
    "logreg_sm=LogisticRegression()\n",
    "logreg_sm.fit(X_train,y_train)\n",
    "y_pred_logreg_sm=logreg_sm.predict(X_test)"
   ]
  },
  {
   "cell_type": "code",
   "execution_count": 21,
   "id": "1d7361ff",
   "metadata": {},
   "outputs": [
    {
     "name": "stdout",
     "output_type": "stream",
     "text": [
      "Classification report for the test set\n",
      "              precision    recall  f1-score   support\n",
      "\n",
      "           0       0.92      0.97      0.95     85020\n",
      "           1       0.97      0.92      0.95     85569\n",
      "\n",
      "    accuracy                           0.95    170589\n",
      "   macro avg       0.95      0.95      0.95    170589\n",
      "weighted avg       0.95      0.95      0.95    170589\n",
      "\n"
     ]
    }
   ],
   "source": [
    "print(\"Classification report for the test set\")\n",
    "print(classification_report(y_test,y_pred_logreg_sm))"
   ]
  },
  {
   "cell_type": "code",
   "execution_count": 22,
   "id": "2c486102",
   "metadata": {},
   "outputs": [
    {
     "name": "stdout",
     "output_type": "stream",
     "text": [
      "Logistic Regression Confusion matrix for the test set\n",
      "[[82889  2131]\n",
      " [ 6974 78595]]\n"
     ]
    },
    {
     "data": {
      "image/png": "[encoded data removed]",
      "text/plain": [
       "<Figure size 640x480 with 1 Axes>"
      ]
     },
     "metadata": {},
     "output_type": "display_data"
    }
   ],
   "source": [
    "print(\"Logistic Regression Confusion matrix for the test set\")\n",
    "print(confusion_matrix(y_test, y_pred_logreg_sm))\n",
    "conf_mat = confusion_matrix(y_test,y_pred_logreg_sm)\n",
    "sns.heatmap(conf_mat, square=True, annot=True, cmap=cls, fmt='d', cbar=False)\n",
    "\n",
    "plt.show()"
   ]
  },
  {
   "cell_type": "markdown",
   "id": "f176cfd3",
   "metadata": {},
   "source": [
    "### Hyperparameter tunning with GridSearchCV"
   ]
  },
  {
   "cell_type": "markdown",
   "id": "773f2dfb",
   "metadata": {},
   "source": [
    "### Logistic Regression"
   ]
  },
  {
   "cell_type": "code",
   "execution_count": 24,
   "id": "99f32c29",
   "metadata": {},
   "outputs": [],
   "source": [
    "\n",
    "logreg_hyperparameters = {\"penalty\": ['l2', 'l1'], \n",
    "                          'C': [0.01,1,10,100],\n",
    "                         \"solver\":['liblinear','saga']}\n",
    "\n",
    "\n",
    "search=GridSearchCV(LogisticRegression(), logreg_hyperparameters, scoring='accuracy',n_jobs=-1,cv=5)\n",
    "result_logreg_sm=search.fit(X_train, y_train)\n"
   ]
  },
  {
   "cell_type": "code",
   "execution_count": 25,
   "id": "de0edbab",
   "metadata": {},
   "outputs": [
    {
     "name": "stdout",
     "output_type": "stream",
     "text": [
      "Best Accuracy Score of Logistic Regression model: 0.9481309671961821\n",
      "Best Hyperparameters of Logistic regression Model: {'C': 10, 'penalty': 'l2', 'solver': 'liblinear'}\n"
     ]
    }
   ],
   "source": [
    "print('Best Accuracy Score of Logistic Regression model: %s' % result_logreg_sm.best_score_)\n",
    "print('Best Hyperparameters of Logistic regression Model: %s' % result_logreg_sm.best_params_)"
   ]
  },
  {
   "cell_type": "markdown",
   "id": "d3fdeede",
   "metadata": {},
   "source": [
    "### Decision Tree"
   ]
  },
  {
   "cell_type": "code",
   "execution_count": 26,
   "id": "512b3409",
   "metadata": {},
   "outputs": [],
   "source": [
    "hyperparameters = {\"criterion\": [\"gini\", \"entropy\"],\n",
    "                   \"max_depth\":list(range(2,4,1)), \n",
    "                   \"min_samples_leaf\": list(range(5,7,1))}\n",
    "\n",
    "search = GridSearchCV(DecisionTreeClassifier(), hyperparameters,scoring='accuracy', n_jobs=-1, cv=5)\n",
    "result_dtc_sm=search.fit(X_train, y_train)\n"
   ]
  },
  {
   "cell_type": "code",
   "execution_count": 27,
   "id": "02c4ca96",
   "metadata": {},
   "outputs": [
    {
     "name": "stdout",
     "output_type": "stream",
     "text": [
      "Best Accuracy Score of Decision Tree model: 0.9352478727558552\n",
      "Best Hyperparameters of Decision Tree model: {'criterion': 'gini', 'max_depth': 3, 'min_samples_leaf': 5}\n"
     ]
    }
   ],
   "source": [
    "print('Best Accuracy Score of Decision Tree model: %s' % result_dtc_sm.best_score_)\n",
    "print('Best Hyperparameters of Decision Tree model: %s' % result_dtc_sm.best_params_)"
   ]
  },
  {
   "cell_type": "markdown",
   "id": "679a0d7c",
   "metadata": {},
   "source": [
    "### Random Forest"
   ]
  },
  {
   "cell_type": "code",
   "execution_count": 28,
   "id": "776267a8",
   "metadata": {},
   "outputs": [],
   "source": [
    "rfc_hyperparameters = {'n_estimators': [1,30,60,100],\n",
    "              'max_features': ['sqrt', 'log2'], \n",
    "              'max_depth': [2,4,8,10],\n",
    "              'criterion': ['gini', 'entropy','log_loss']}\n",
    "\n",
    "\n",
    "search = GridSearchCV(RandomForestClassifier(), rfc_hyperparameters, scoring='accuracy', n_jobs=-1, cv=5)\n",
    "result_rfc_sm=search.fit(X_train, y_train)\n"
   ]
  },
  {
   "cell_type": "code",
   "execution_count": 29,
   "id": "79b98250",
   "metadata": {},
   "outputs": [
    {
     "name": "stdout",
     "output_type": "stream",
     "text": [
      "Best Accuracy Score of Random Forest model: 0.9900110812422769\n",
      "Best Hyperparameters of Random Forest model: {'criterion': 'entropy', 'max_depth': 10, 'max_features': 'sqrt', 'n_estimators': 100}\n"
     ]
    }
   ],
   "source": [
    "print('Best Accuracy Score of Random Forest model: %s' % result_rfc_sm.best_score_)\n",
    "print('Best Hyperparameters of Random Forest model: %s' % result_rfc_sm.best_params_)"
   ]
  },
  {
   "cell_type": "markdown",
   "id": "3407b611",
   "metadata": {},
   "source": [
    "### Adaboost"
   ]
  },
  {
   "cell_type": "code",
   "execution_count": 30,
   "id": "fdb009d3",
   "metadata": {},
   "outputs": [],
   "source": [
    "ada_hyperparameters = {'n_estimators': [1,30,60,100], \n",
    "                       'learning_rate': [0.01,0.1,0.2,0.5]}\n",
    "\n",
    "\n",
    "search = GridSearchCV(AdaBoostClassifier(), ada_hyperparameters, scoring='accuracy', n_jobs=-1, cv=5)\n",
    "result_ada_sm=search.fit(X_train, y_train)"
   ]
  },
  {
   "cell_type": "code",
   "execution_count": 31,
   "id": "b831f8cb",
   "metadata": {},
   "outputs": [
    {
     "name": "stdout",
     "output_type": "stream",
     "text": [
      "Best Accuracy Score of Adaboost model: 0.9652121250816057\n",
      "Best Hyperparameters of Adaboost model: {'learning_rate': 0.5, 'n_estimators': 100}\n"
     ]
    }
   ],
   "source": [
    "print('Best Accuracy Score of Adaboost model: %s' % result_ada_sm.best_score_)\n",
    "print('Best Hyperparameters of Adaboost model: %s' % result_ada_sm.best_params_)"
   ]
  },
  {
   "cell_type": "markdown",
   "id": "1603d979",
   "metadata": {},
   "source": [
    "### Light Gradient Boosting"
   ]
  },
  {
   "cell_type": "code",
   "execution_count": 32,
   "id": "a62b8eb9",
   "metadata": {},
   "outputs": [
    {
     "name": "stdout",
     "output_type": "stream",
     "text": [
      "[LightGBM] [Warning] min_data_in_leaf is set with min_child_samples=20, will be overridden by min_samples_leaf=10. Current value: min_data_in_leaf=10\n"
     ]
    }
   ],
   "source": [
    "lgb_hyperparameters = {\"n_estimators\":[1,30,60,100],\n",
    "                      \"max_depth\":[2,4,6,8],\n",
    "                      \"learning_rate\":[0.01,0.1,0.2,0.5],\n",
    "                      \"min_samples_leaf\":[10,20,30],\n",
    "                     \"subsample\" : [0.1,0.2,0.5,0.9]}\n",
    "\n",
    "search = GridSearchCV(LGBMClassifier(), lgb_hyperparameters, scoring='accuracy', n_jobs=-1, cv=5)\n",
    "result_lgb_sm=search.fit(X_train, y_train)"
   ]
  },
  {
   "cell_type": "code",
   "execution_count": 34,
   "id": "4b93c383",
   "metadata": {},
   "outputs": [
    {
     "name": "stdout",
     "output_type": "stream",
     "text": [
      "Best Accuracy Score of Light Gradient Boosting model: 0.9991608896152542\n",
      "Best Hyperparameters of Light Gradient Boosting model: {'learning_rate': 0.2, 'max_depth': 6, 'min_samples_leaf': 10, 'n_estimators': 100, 'subsample': 0.1}\n"
     ]
    }
   ],
   "source": [
    "print('Best Accuracy Score of Light Gradient Boosting model: %s' % result_lgb_sm.best_score_)\n",
    "print('Best Hyperparameters of Light Gradient Boosting model: %s' % result_lgb_sm.best_params_)"
   ]
  },
  {
   "cell_type": "code",
   "execution_count": 36,
   "id": "69012ff2",
   "metadata": {},
   "outputs": [],
   "source": [
    "lgbc = LGBMClassifier(learning_rate= 0.2,max_depth= 6,\n",
    "                     min_samples_leaf= 10,n_estimators= 100, \n",
    "                      subsample= 0.1)\n",
    "\n",
    "result_lgbc_sm=lgbc.fit(X_train, y_train)\n",
    "\n",
    "y_pred_lgbc_sm=result_lgbc_sm.predict(X_test)\n",
    "y_pred_probs_lgbc_sm = result_lgbc_sm.predict_proba(X_test)[:,1]"
   ]
  },
  {
   "cell_type": "code",
   "execution_count": 37,
   "id": "f32fc074",
   "metadata": {},
   "outputs": [
    {
     "name": "stdout",
     "output_type": "stream",
     "text": [
      "Classification report for the test set\n",
      "              precision    recall  f1-score   support\n",
      "\n",
      "           0       1.00      1.00      1.00     85020\n",
      "           1       1.00      1.00      1.00     85569\n",
      "\n",
      "    accuracy                           1.00    170589\n",
      "   macro avg       1.00      1.00      1.00    170589\n",
      "weighted avg       1.00      1.00      1.00    170589\n",
      "\n"
     ]
    }
   ],
   "source": [
    "print(\"Classification report for the test set\")\n",
    "print(classification_report(y_test,y_pred_lgbc_sm))"
   ]
  },
  {
   "cell_type": "code",
   "execution_count": 38,
   "id": "9600b0f3",
   "metadata": {},
   "outputs": [
    {
     "name": "stdout",
     "output_type": "stream",
     "text": [
      "Gradient Boosting Confusion matrix for the test set after hyperparameter tunning\n",
      "[[84894   126]\n",
      " [    9 85560]]\n"
     ]
    },
    {
     "data": {
      "image/png": "[encoded data removed]",
      "text/plain": [
       "<Figure size 640x480 with 1 Axes>"
      ]
     },
     "metadata": {},
     "output_type": "display_data"
    }
   ],
   "source": [
    "print(\"Gradient Boosting Confusion matrix for the test set after hyperparameter tunning\")\n",
    "print(confusion_matrix(y_test,y_pred_lgbc_sm))\n",
    "conf_mat = confusion_matrix(y_test,y_pred_lgbc_sm)\n",
    "sns.heatmap(conf_mat, square=True, annot=True, cmap=cls, fmt='d', cbar=False)\n",
    "\n",
    "plt.show()"
   ]
  },
  {
   "cell_type": "code",
   "execution_count": 53,
   "id": "b5e3ab21",
   "metadata": {},
   "outputs": [],
   "source": [
    "# Define which resampling method and which ML model to use in the pipeline\n",
    "resampling = SMOTE()\n",
    "model = LGBMClassifier(learning_rate= 0.2,max_depth= 6,\n",
    "                     min_samples_leaf= 10,n_estimators= 100, \n",
    "                      subsample= 0.1)\n",
    "\n",
    "# Define the pipeline, tell it to combine SMOTE with the Logistic Regression model\n",
    "pipeline = Pipeline([('SMOTE', resampling), ('Light Gradient Boosting', model)])"
   ]
  },
  {
   "cell_type": "code",
   "execution_count": 54,
   "id": "cbf60049",
   "metadata": {},
   "outputs": [
    {
     "name": "stdout",
     "output_type": "stream",
     "text": [
      "[LightGBM] [Warning] min_data_in_leaf is set with min_child_samples=20, will be overridden by min_samples_leaf=10. Current value: min_data_in_leaf=10\n",
      "Classifcation report:\n",
      "               precision    recall  f1-score   support\n",
      "\n",
      "           0       1.00      1.00      1.00     85291\n",
      "           1       0.64      0.78      0.70       152\n",
      "\n",
      "    accuracy                           1.00     85443\n",
      "   macro avg       0.82      0.89      0.85     85443\n",
      "weighted avg       1.00      1.00      1.00     85443\n",
      "\n",
      "Confusion matrix:\n",
      " [[85226    65]\n",
      " [   34   118]]\n"
     ]
    }
   ],
   "source": [
    "X_train, X_test, y_train, y_test = train_test_split(X,y,test_size= 0.3, random_state=1000)\n",
    "\n",
    "# Fit your pipeline onto your training set and obtain predictions by fitting the model onto the test data \n",
    "pipeline.fit(X_train, y_train) \n",
    "predicted = pipeline.predict(X_test)\n",
    "\n",
    "# Obtain the results from the classification report and confusion matrix \n",
    "print('Classifcation report:\\n', classification_report(y_test, predicted))\n",
    "conf_mat = confusion_matrix(y_true=y_test, y_pred=predicted)\n",
    "print('Confusion matrix:\\n', conf_mat)"
   ]
  },
  {
   "cell_type": "code",
   "execution_count": null,
   "id": "a2b95885",
   "metadata": {},
   "outputs": [],
   "source": []
  },
  {
   "cell_type": "markdown",
   "id": "6aac90fa",
   "metadata": {},
   "source": [
    "### Conclusions"
   ]
  },
  {
   "cell_type": "markdown",
   "id": "8792e17f",
   "metadata": {},
   "source": [
    "### References"
   ]
  },
  {
   "cell_type": "code",
   "execution_count": null,
   "id": "7f24700e",
   "metadata": {},
   "outputs": [],
   "source": []
  }
 ],
 "metadata": {
  "kernelspec": {
   "display_name": "Python 3 (ipykernel)",
   "language": "python",
   "name": "python3"
  },
  "language_info": {
   "codemirror_mode": {
    "name": "ipython",
    "version": 3
   },
   "file_extension": ".py",
   "mimetype": "text/x-python",
   "name": "python",
   "nbconvert_exporter": "python",
   "pygments_lexer": "ipython3",
   "version": "3.10.6"
  },
  "toc": {
   "base_numbering": "",
   "nav_menu": {},
   "number_sections": false,
   "sideBar": true,
   "skip_h1_title": true,
   "title_cell": "Table of Contents",
   "title_sidebar": "Contents",
   "toc_cell": true,
   "toc_position": {
    "height": "757px",
    "left": "1501px",
    "top": "123px",
    "width": "383.952px"
   },
   "toc_section_display": true,
   "toc_window_display": true
  }
 },
 "nbformat": 4,
 "nbformat_minor": 5
}
