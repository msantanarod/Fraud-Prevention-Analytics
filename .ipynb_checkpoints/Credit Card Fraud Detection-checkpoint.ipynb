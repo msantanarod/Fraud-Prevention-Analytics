{
 "cells": [
  {
   "cell_type": "markdown",
   "id": "c11abdb4",
   "metadata": {},
   "source": [
    "#  Credit Card Fraud Detection"
   ]
  },
  {
   "cell_type": "markdown",
   "id": "d1afab95",
   "metadata": {},
   "source": [
    "![fraude](fraude.jpg)"
   ]
  },
  {
   "cell_type": "markdown",
   "id": "b76fe549",
   "metadata": {
    "toc": true
   },
   "source": [
    "<h1>Table of Contents<span class=\"tocSkip\"></span></h1>\n",
    "<div class=\"toc\"><ul class=\"toc-item\"><li><span><a href=\"#Welcome\" data-toc-modified-id=\"Welcome-0\">Welcome</a></span></li><li><span><a href=\"#Dataset-description\" data-toc-modified-id=\"Dataset-description-1\">Dataset description</a></span></li><li><span><a href=\"#Important-libraries\" data-toc-modified-id=\"Important-libraries-2\">Important libraries</a></span></li><li><span><a href=\"#Understanding-our-data\" data-toc-modified-id=\"Understanding-our-data-3\">Understanding our data</a></span></li><li><span><a href=\"#Correlation-analysis\" data-toc-modified-id=\"Correlation-analysis-4\">Correlation analysis</a></span></li><li><span><a href=\"#Class-ambalance\" data-toc-modified-id=\"Class-ambalance-5\">Class ambalance</a></span><ul class=\"toc-item\"><li><span><a href=\"#Fraud/-non-Fraud-ratio\" data-toc-modified-id=\"Fraud/-non-Fraud-ratio-5.1\">Fraud/ non-Fraud ratio</a></span></li><li><span><a href=\"#Class-ambalance-visual-representation\" data-toc-modified-id=\"Class-ambalance-visual-representation-5.2\">Class ambalance visual representation</a></span></li></ul></li><li><span><a href=\"#Traditional-way-of-cathing-fraud:-Rules\" data-toc-modified-id=\"Traditional-way-of-cathing-fraud:-Rules-6\">Traditional way of cathing fraud: Rules</a></span></li><li><span><a href=\"#Machine-Learning-models\" data-toc-modified-id=\"Machine-Learning-models-7\">Machine Learning models</a></span><ul class=\"toc-item\"><li><span><a href=\"#Train-/-Test-sets\" data-toc-modified-id=\"Train-/-Test-sets-7.1\">Train / Test sets</a></span></li><li><span><a href=\"#Hyperparameter-tunning\" data-toc-modified-id=\"Hyperparameter-tunning-7.2\">Hyperparameter tunning</a></span><ul class=\"toc-item\"><li><span><a href=\"#Logistic-Regression\" data-toc-modified-id=\"Logistic-Regression-7.2.1\">Logistic Regression</a></span></li><li><span><a href=\"#Decision-Tree\" data-toc-modified-id=\"Decision-Tree-7.2.2\">Decision Tree</a></span></li><li><span><a href=\"#Random-Forest\" data-toc-modified-id=\"Random-Forest-7.2.3\">Random Forest</a></span></li><li><span><a href=\"#Adaboost\" data-toc-modified-id=\"Adaboost-7.2.4\">Adaboost</a></span></li><li><span><a href=\"#Gradient-Boosting\" data-toc-modified-id=\"Gradient-Boosting-7.2.5\">Gradient Boosting</a></span></li></ul></li></ul></li><li><span><a href=\"#Hybrid-Rule_Based-Machine-Learning-Model\" data-toc-modified-id=\"Hybrid-Rule_Based-Machine-Learning-Model-8\">Hybrid Rule_Based Machine Learning Model</a></span></li><li><span><a href=\"#Undersampling\" data-toc-modified-id=\"Undersampling-9\">Undersampling</a></span><ul class=\"toc-item\"><li><span><a href=\"#Visual-representation\" data-toc-modified-id=\"Visual-representation-9.1\">Visual representation</a></span></li><li><span><a href=\"#Hyperparameter-tunning\" data-toc-modified-id=\"Hyperparameter-tunning-9.2\">Hyperparameter tunning</a></span><ul class=\"toc-item\"><li><span><a href=\"#Logistic-Regression\" data-toc-modified-id=\"Logistic-Regression-9.2.1\">Logistic Regression</a></span></li><li><span><a href=\"#Decision-Tree\" data-toc-modified-id=\"Decision-Tree-9.2.2\">Decision Tree</a></span></li><li><span><a href=\"#Random-Forest\" data-toc-modified-id=\"Random-Forest-9.2.3\">Random Forest</a></span></li><li><span><a href=\"#Adaboost\" data-toc-modified-id=\"Adaboost-9.2.4\">Adaboost</a></span></li><li><span><a href=\"#Gradient-Boosting\" data-toc-modified-id=\"Gradient-Boosting-9.2.5\">Gradient Boosting</a></span></li></ul></li><li><span><a href=\"#Model-Comparison\" data-toc-modified-id=\"Model-Comparison-9.3\">Model Comparison</a></span></li></ul></li><li><span><a href=\"#Synthetic-Minority-Oversampling-Technique-(SMOTE)\" data-toc-modified-id=\"Synthetic-Minority-Oversampling-Technique-(SMOTE)-10\">Synthetic Minority Oversampling Technique (SMOTE)</a></span></li><li><span><a href=\"#XY-split\" data-toc-modified-id=\"XY-split-11\">XY split</a></span><ul class=\"toc-item\"><li><span><a href=\"#Logistic-Regression-with-SMOTE\" data-toc-modified-id=\"Logistic-Regression-with-SMOTE-11.1\">Logistic Regression with SMOTE</a></span></li><li><span><a href=\"#Decision-Tree-with-SMOTE\" data-toc-modified-id=\"Decision-Tree-with-SMOTE-11.2\">Decision Tree with SMOTE</a></span></li><li><span><a href=\"#Random-Forest-with-SMOTE\" data-toc-modified-id=\"Random-Forest-with-SMOTE-11.3\">Random Forest with SMOTE</a></span></li><li><span><a href=\"#Adaboost-with-SMOTE\" data-toc-modified-id=\"Adaboost-with-SMOTE-11.4\">Adaboost with SMOTE</a></span></li></ul></li><li><span><a href=\"#Model-comparison\" data-toc-modified-id=\"Model-comparison-12\">Model comparison</a></span></li></ul></div>"
   ]
  },
  {
   "cell_type": "markdown",
   "id": "73d47713",
   "metadata": {},
   "source": [
    "## Welcome"
   ]
  },
  {
   "cell_type": "markdown",
   "id": "b5fb56c7",
   "metadata": {},
   "source": [
    "\"Billions of dollars are lost to online payment fraud annually, often without much recourse for victim companies. This makes it critically important to identify suspicious and fraudulent behavior in advance, prior to bad actors committing the crime. Those outside this niche industry may assume that fraudulent orders or accounts present themselves in red blinking lights, or some other obvious form. The truth is that bad actors have the sole intention of having their online activity blend in with that of legitimate users. It is our job as fraud fighters to home in on the anomalies of their information, devices, and human behavior to identify risk indicators\"...()\n",
    "\n",
    "\n",
    "\n",
    "Hi, welcome to this noteboock!\n",
    "\n",
    "I find that Fraud prevention analytics is an amazing field for data analysis, and I hope that at the end of this notebook you think the same and want to learn a bit more about it. \n",
    "\n",
    "\n",
    "The aims of this project are the following:\n",
    "\n",
    "-To understand the concept of \"Fraud\". <br>\n",
    "-To explain how fraud prevention analysts caught fraudulent transactions before Machine Learning(ML). <br>\n",
    "-To develop a ML model to estimate if a transaction is fraudulent or not. <br>\n",
    "\n",
    "Sounds interesting, isn't it?\n",
    "\n",
    "Let's start\n",
    "\n",
    "\n"
   ]
  },
  {
   "cell_type": "markdown",
   "id": "bca9cf5c",
   "metadata": {},
   "source": [
    "## Dataset description"
   ]
  },
  {
   "cell_type": "markdown",
   "id": "63b4b68f",
   "metadata": {},
   "source": [
    "For this project we will use the dataset ([Credit Card Fraud Detection](https://www.kaggle.com/datasets/mlg-ulb/creditcardfraud)) from Kaggle.\n",
    "\n",
    "In the dataset we will find a total of 284.807 transactions made by credit card in two different days in September 2013,  where only 492 of them are marked as fraud. Fraudulent transactions represent only the 0.172% of the dataset that show us that the dataset is highly unbalanced. \n",
    "\n",
    "All the variables from the dataset are numeric and features from \"V1\" to \"V28\" are the result of PCA transformation (Due to privacy reasons we cannot have the information about the original variables). Only two feautures were not transformed with PCA: \"Time\" and \"Amount\". The feature \"Class\" is our target variable and it has two possible values:\n",
    "    \n",
    "    1= fraud\n",
    "    0= non-fraud  "
   ]
  },
  {
   "cell_type": "markdown",
   "id": "c772480d",
   "metadata": {},
   "source": [
    "## Important libraries"
   ]
  },
  {
   "cell_type": "code",
   "execution_count": 85,
   "id": "aabe5d06",
   "metadata": {},
   "outputs": [],
   "source": [
    "#pandas and numpy\n",
    "import pandas as pd\n",
    "import numpy as np\n",
    "\n",
    "#ploting libraries\n",
    "import matplotlib.pyplot as plt\n",
    "import seaborn as sns\n",
    "\n",
    "#hyperparameters tuning\n",
    "from sklearn.model_selection import RepeatedStratifiedKFold\n",
    "from sklearn.model_selection import GridSearchCV\n",
    "from sklearn.model_selection import RandomizedSearchCV\n",
    "\n",
    "#models\n",
    "from sklearn.tree import DecisionTreeClassifier\n",
    "from sklearn.linear_model import LogisticRegression\n",
    "from sklearn.ensemble import RandomForestClassifier\n",
    "from sklearn.ensemble import AdaBoostClassifier\n",
    "from sklearn.ensemble import GradientBoostingClassifier\n",
    "from sklearn.base import BaseEstimator\n",
    "\n",
    "\n",
    "\n",
    "#model performance evaluation\n",
    "from sklearn.metrics import accuracy_score\n",
    "from sklearn.metrics import precision_score\n",
    "from sklearn.metrics import recall_score\n",
    "from sklearn.metrics import confusion_matrix\n",
    "from sklearn.metrics import plot_confusion_matrix\n",
    "from imblearn.over_sampling import SMOTE\n",
    "from sklearn.model_selection import cross_val_score\n",
    "from sklearn.model_selection import cross_val_predict\n",
    "from sklearn.metrics import classification_report\n",
    "from imblearn.pipeline import Pipeline \n",
    "from sklearn.datasets import make_classification\n",
    "from sklearn.metrics import roc_curve\n",
    "from sklearn.metrics import roc_auc_score\n",
    "from sklearn.model_selection import KFold\n",
    "from collections import Counter\n",
    "from sklearn.model_selection import cross_validate\n",
    "from sklearn.metrics import recall_score\n",
    "\n",
    "#others\n",
    "from sklearn.model_selection import train_test_split\n",
    "from sklearn.preprocessing import StandardScaler\n",
    "from imblearn.over_sampling import SMOTE\n",
    "from sklearn import metrics\n",
    "\n"
   ]
  },
  {
   "cell_type": "markdown",
   "id": "c7df1ab3",
   "metadata": {},
   "source": [
    "## Understanding our data\n"
   ]
  },
  {
   "cell_type": "code",
   "execution_count": 2,
   "id": "9072aef5",
   "metadata": {
    "scrolled": true
   },
   "outputs": [
    {
     "data": {
      "text/html": [
       "<div>\n",
       "<style scoped>\n",
       "    .dataframe tbody tr th:only-of-type {\n",
       "        vertical-align: middle;\n",
       "    }\n",
       "\n",
       "    .dataframe tbody tr th {\n",
       "        vertical-align: top;\n",
       "    }\n",
       "\n",
       "    .dataframe thead th {\n",
       "        text-align: right;\n",
       "    }\n",
       "</style>\n",
       "<table border=\"1\" class=\"dataframe\">\n",
       "  <thead>\n",
       "    <tr style=\"text-align: right;\">\n",
       "      <th></th>\n",
       "      <th>Time</th>\n",
       "      <th>V1</th>\n",
       "      <th>V2</th>\n",
       "      <th>V3</th>\n",
       "      <th>V4</th>\n",
       "      <th>V5</th>\n",
       "      <th>V6</th>\n",
       "      <th>V7</th>\n",
       "      <th>V8</th>\n",
       "      <th>V9</th>\n",
       "      <th>...</th>\n",
       "      <th>V21</th>\n",
       "      <th>V22</th>\n",
       "      <th>V23</th>\n",
       "      <th>V24</th>\n",
       "      <th>V25</th>\n",
       "      <th>V26</th>\n",
       "      <th>V27</th>\n",
       "      <th>V28</th>\n",
       "      <th>Amount</th>\n",
       "      <th>Class</th>\n",
       "    </tr>\n",
       "  </thead>\n",
       "  <tbody>\n",
       "    <tr>\n",
       "      <th>0</th>\n",
       "      <td>0.0</td>\n",
       "      <td>-1.359807</td>\n",
       "      <td>-0.072781</td>\n",
       "      <td>2.536347</td>\n",
       "      <td>1.378155</td>\n",
       "      <td>-0.338321</td>\n",
       "      <td>0.462388</td>\n",
       "      <td>0.239599</td>\n",
       "      <td>0.098698</td>\n",
       "      <td>0.363787</td>\n",
       "      <td>...</td>\n",
       "      <td>-0.018307</td>\n",
       "      <td>0.277838</td>\n",
       "      <td>-0.110474</td>\n",
       "      <td>0.066928</td>\n",
       "      <td>0.128539</td>\n",
       "      <td>-0.189115</td>\n",
       "      <td>0.133558</td>\n",
       "      <td>-0.021053</td>\n",
       "      <td>149.62</td>\n",
       "      <td>0</td>\n",
       "    </tr>\n",
       "    <tr>\n",
       "      <th>1</th>\n",
       "      <td>0.0</td>\n",
       "      <td>1.191857</td>\n",
       "      <td>0.266151</td>\n",
       "      <td>0.166480</td>\n",
       "      <td>0.448154</td>\n",
       "      <td>0.060018</td>\n",
       "      <td>-0.082361</td>\n",
       "      <td>-0.078803</td>\n",
       "      <td>0.085102</td>\n",
       "      <td>-0.255425</td>\n",
       "      <td>...</td>\n",
       "      <td>-0.225775</td>\n",
       "      <td>-0.638672</td>\n",
       "      <td>0.101288</td>\n",
       "      <td>-0.339846</td>\n",
       "      <td>0.167170</td>\n",
       "      <td>0.125895</td>\n",
       "      <td>-0.008983</td>\n",
       "      <td>0.014724</td>\n",
       "      <td>2.69</td>\n",
       "      <td>0</td>\n",
       "    </tr>\n",
       "    <tr>\n",
       "      <th>2</th>\n",
       "      <td>1.0</td>\n",
       "      <td>-1.358354</td>\n",
       "      <td>-1.340163</td>\n",
       "      <td>1.773209</td>\n",
       "      <td>0.379780</td>\n",
       "      <td>-0.503198</td>\n",
       "      <td>1.800499</td>\n",
       "      <td>0.791461</td>\n",
       "      <td>0.247676</td>\n",
       "      <td>-1.514654</td>\n",
       "      <td>...</td>\n",
       "      <td>0.247998</td>\n",
       "      <td>0.771679</td>\n",
       "      <td>0.909412</td>\n",
       "      <td>-0.689281</td>\n",
       "      <td>-0.327642</td>\n",
       "      <td>-0.139097</td>\n",
       "      <td>-0.055353</td>\n",
       "      <td>-0.059752</td>\n",
       "      <td>378.66</td>\n",
       "      <td>0</td>\n",
       "    </tr>\n",
       "    <tr>\n",
       "      <th>3</th>\n",
       "      <td>1.0</td>\n",
       "      <td>-0.966272</td>\n",
       "      <td>-0.185226</td>\n",
       "      <td>1.792993</td>\n",
       "      <td>-0.863291</td>\n",
       "      <td>-0.010309</td>\n",
       "      <td>1.247203</td>\n",
       "      <td>0.237609</td>\n",
       "      <td>0.377436</td>\n",
       "      <td>-1.387024</td>\n",
       "      <td>...</td>\n",
       "      <td>-0.108300</td>\n",
       "      <td>0.005274</td>\n",
       "      <td>-0.190321</td>\n",
       "      <td>-1.175575</td>\n",
       "      <td>0.647376</td>\n",
       "      <td>-0.221929</td>\n",
       "      <td>0.062723</td>\n",
       "      <td>0.061458</td>\n",
       "      <td>123.50</td>\n",
       "      <td>0</td>\n",
       "    </tr>\n",
       "    <tr>\n",
       "      <th>4</th>\n",
       "      <td>2.0</td>\n",
       "      <td>-1.158233</td>\n",
       "      <td>0.877737</td>\n",
       "      <td>1.548718</td>\n",
       "      <td>0.403034</td>\n",
       "      <td>-0.407193</td>\n",
       "      <td>0.095921</td>\n",
       "      <td>0.592941</td>\n",
       "      <td>-0.270533</td>\n",
       "      <td>0.817739</td>\n",
       "      <td>...</td>\n",
       "      <td>-0.009431</td>\n",
       "      <td>0.798278</td>\n",
       "      <td>-0.137458</td>\n",
       "      <td>0.141267</td>\n",
       "      <td>-0.206010</td>\n",
       "      <td>0.502292</td>\n",
       "      <td>0.219422</td>\n",
       "      <td>0.215153</td>\n",
       "      <td>69.99</td>\n",
       "      <td>0</td>\n",
       "    </tr>\n",
       "  </tbody>\n",
       "</table>\n",
       "<p>5 rows × 31 columns</p>\n",
       "</div>"
      ],
      "text/plain": [
       "   Time        V1        V2        V3        V4        V5        V6        V7  \\\n",
       "0   0.0 -1.359807 -0.072781  2.536347  1.378155 -0.338321  0.462388  0.239599   \n",
       "1   0.0  1.191857  0.266151  0.166480  0.448154  0.060018 -0.082361 -0.078803   \n",
       "2   1.0 -1.358354 -1.340163  1.773209  0.379780 -0.503198  1.800499  0.791461   \n",
       "3   1.0 -0.966272 -0.185226  1.792993 -0.863291 -0.010309  1.247203  0.237609   \n",
       "4   2.0 -1.158233  0.877737  1.548718  0.403034 -0.407193  0.095921  0.592941   \n",
       "\n",
       "         V8        V9  ...       V21       V22       V23       V24       V25  \\\n",
       "0  0.098698  0.363787  ... -0.018307  0.277838 -0.110474  0.066928  0.128539   \n",
       "1  0.085102 -0.255425  ... -0.225775 -0.638672  0.101288 -0.339846  0.167170   \n",
       "2  0.247676 -1.514654  ...  0.247998  0.771679  0.909412 -0.689281 -0.327642   \n",
       "3  0.377436 -1.387024  ... -0.108300  0.005274 -0.190321 -1.175575  0.647376   \n",
       "4 -0.270533  0.817739  ... -0.009431  0.798278 -0.137458  0.141267 -0.206010   \n",
       "\n",
       "        V26       V27       V28  Amount  Class  \n",
       "0 -0.189115  0.133558 -0.021053  149.62      0  \n",
       "1  0.125895 -0.008983  0.014724    2.69      0  \n",
       "2 -0.139097 -0.055353 -0.059752  378.66      0  \n",
       "3 -0.221929  0.062723  0.061458  123.50      0  \n",
       "4  0.502292  0.219422  0.215153   69.99      0  \n",
       "\n",
       "[5 rows x 31 columns]"
      ]
     },
     "execution_count": 2,
     "metadata": {},
     "output_type": "execute_result"
    }
   ],
   "source": [
    "#Loading the data:\n",
    "\n",
    "\n",
    "df=pd.read_csv(\"Data/creditcard/creditcard.csv\")\n",
    "\n",
    "df.head()\n"
   ]
  },
  {
   "cell_type": "code",
   "execution_count": 3,
   "id": "e5c73f8f",
   "metadata": {},
   "outputs": [
    {
     "data": {
      "text/html": [
       "<div>\n",
       "<style scoped>\n",
       "    .dataframe tbody tr th:only-of-type {\n",
       "        vertical-align: middle;\n",
       "    }\n",
       "\n",
       "    .dataframe tbody tr th {\n",
       "        vertical-align: top;\n",
       "    }\n",
       "\n",
       "    .dataframe thead th {\n",
       "        text-align: right;\n",
       "    }\n",
       "</style>\n",
       "<table border=\"1\" class=\"dataframe\">\n",
       "  <thead>\n",
       "    <tr style=\"text-align: right;\">\n",
       "      <th></th>\n",
       "      <th>Time</th>\n",
       "      <th>V1</th>\n",
       "      <th>V2</th>\n",
       "      <th>V3</th>\n",
       "      <th>V4</th>\n",
       "      <th>V5</th>\n",
       "      <th>V6</th>\n",
       "      <th>V7</th>\n",
       "      <th>V8</th>\n",
       "      <th>V9</th>\n",
       "      <th>...</th>\n",
       "      <th>V21</th>\n",
       "      <th>V22</th>\n",
       "      <th>V23</th>\n",
       "      <th>V24</th>\n",
       "      <th>V25</th>\n",
       "      <th>V26</th>\n",
       "      <th>V27</th>\n",
       "      <th>V28</th>\n",
       "      <th>Amount</th>\n",
       "      <th>Class</th>\n",
       "    </tr>\n",
       "  </thead>\n",
       "  <tbody>\n",
       "    <tr>\n",
       "      <th>count</th>\n",
       "      <td>284807.000000</td>\n",
       "      <td>2.848070e+05</td>\n",
       "      <td>2.848070e+05</td>\n",
       "      <td>2.848070e+05</td>\n",
       "      <td>2.848070e+05</td>\n",
       "      <td>2.848070e+05</td>\n",
       "      <td>2.848070e+05</td>\n",
       "      <td>2.848070e+05</td>\n",
       "      <td>2.848070e+05</td>\n",
       "      <td>2.848070e+05</td>\n",
       "      <td>...</td>\n",
       "      <td>2.848070e+05</td>\n",
       "      <td>2.848070e+05</td>\n",
       "      <td>2.848070e+05</td>\n",
       "      <td>2.848070e+05</td>\n",
       "      <td>2.848070e+05</td>\n",
       "      <td>2.848070e+05</td>\n",
       "      <td>2.848070e+05</td>\n",
       "      <td>2.848070e+05</td>\n",
       "      <td>284807.000000</td>\n",
       "      <td>284807.000000</td>\n",
       "    </tr>\n",
       "    <tr>\n",
       "      <th>mean</th>\n",
       "      <td>94813.859575</td>\n",
       "      <td>3.918649e-15</td>\n",
       "      <td>5.682686e-16</td>\n",
       "      <td>-8.761736e-15</td>\n",
       "      <td>2.811118e-15</td>\n",
       "      <td>-1.552103e-15</td>\n",
       "      <td>2.040130e-15</td>\n",
       "      <td>-1.698953e-15</td>\n",
       "      <td>-1.893285e-16</td>\n",
       "      <td>-3.147640e-15</td>\n",
       "      <td>...</td>\n",
       "      <td>1.473120e-16</td>\n",
       "      <td>8.042109e-16</td>\n",
       "      <td>5.282512e-16</td>\n",
       "      <td>4.456271e-15</td>\n",
       "      <td>1.426896e-15</td>\n",
       "      <td>1.701640e-15</td>\n",
       "      <td>-3.662252e-16</td>\n",
       "      <td>-1.217809e-16</td>\n",
       "      <td>88.349619</td>\n",
       "      <td>0.001727</td>\n",
       "    </tr>\n",
       "    <tr>\n",
       "      <th>std</th>\n",
       "      <td>47488.145955</td>\n",
       "      <td>1.958696e+00</td>\n",
       "      <td>1.651309e+00</td>\n",
       "      <td>1.516255e+00</td>\n",
       "      <td>1.415869e+00</td>\n",
       "      <td>1.380247e+00</td>\n",
       "      <td>1.332271e+00</td>\n",
       "      <td>1.237094e+00</td>\n",
       "      <td>1.194353e+00</td>\n",
       "      <td>1.098632e+00</td>\n",
       "      <td>...</td>\n",
       "      <td>7.345240e-01</td>\n",
       "      <td>7.257016e-01</td>\n",
       "      <td>6.244603e-01</td>\n",
       "      <td>6.056471e-01</td>\n",
       "      <td>5.212781e-01</td>\n",
       "      <td>4.822270e-01</td>\n",
       "      <td>4.036325e-01</td>\n",
       "      <td>3.300833e-01</td>\n",
       "      <td>250.120109</td>\n",
       "      <td>0.041527</td>\n",
       "    </tr>\n",
       "    <tr>\n",
       "      <th>min</th>\n",
       "      <td>0.000000</td>\n",
       "      <td>-5.640751e+01</td>\n",
       "      <td>-7.271573e+01</td>\n",
       "      <td>-4.832559e+01</td>\n",
       "      <td>-5.683171e+00</td>\n",
       "      <td>-1.137433e+02</td>\n",
       "      <td>-2.616051e+01</td>\n",
       "      <td>-4.355724e+01</td>\n",
       "      <td>-7.321672e+01</td>\n",
       "      <td>-1.343407e+01</td>\n",
       "      <td>...</td>\n",
       "      <td>-3.483038e+01</td>\n",
       "      <td>-1.093314e+01</td>\n",
       "      <td>-4.480774e+01</td>\n",
       "      <td>-2.836627e+00</td>\n",
       "      <td>-1.029540e+01</td>\n",
       "      <td>-2.604551e+00</td>\n",
       "      <td>-2.256568e+01</td>\n",
       "      <td>-1.543008e+01</td>\n",
       "      <td>0.000000</td>\n",
       "      <td>0.000000</td>\n",
       "    </tr>\n",
       "    <tr>\n",
       "      <th>25%</th>\n",
       "      <td>54201.500000</td>\n",
       "      <td>-9.203734e-01</td>\n",
       "      <td>-5.985499e-01</td>\n",
       "      <td>-8.903648e-01</td>\n",
       "      <td>-8.486401e-01</td>\n",
       "      <td>-6.915971e-01</td>\n",
       "      <td>-7.682956e-01</td>\n",
       "      <td>-5.540759e-01</td>\n",
       "      <td>-2.086297e-01</td>\n",
       "      <td>-6.430976e-01</td>\n",
       "      <td>...</td>\n",
       "      <td>-2.283949e-01</td>\n",
       "      <td>-5.423504e-01</td>\n",
       "      <td>-1.618463e-01</td>\n",
       "      <td>-3.545861e-01</td>\n",
       "      <td>-3.171451e-01</td>\n",
       "      <td>-3.269839e-01</td>\n",
       "      <td>-7.083953e-02</td>\n",
       "      <td>-5.295979e-02</td>\n",
       "      <td>5.600000</td>\n",
       "      <td>0.000000</td>\n",
       "    </tr>\n",
       "    <tr>\n",
       "      <th>50%</th>\n",
       "      <td>84692.000000</td>\n",
       "      <td>1.810880e-02</td>\n",
       "      <td>6.548556e-02</td>\n",
       "      <td>1.798463e-01</td>\n",
       "      <td>-1.984653e-02</td>\n",
       "      <td>-5.433583e-02</td>\n",
       "      <td>-2.741871e-01</td>\n",
       "      <td>4.010308e-02</td>\n",
       "      <td>2.235804e-02</td>\n",
       "      <td>-5.142873e-02</td>\n",
       "      <td>...</td>\n",
       "      <td>-2.945017e-02</td>\n",
       "      <td>6.781943e-03</td>\n",
       "      <td>-1.119293e-02</td>\n",
       "      <td>4.097606e-02</td>\n",
       "      <td>1.659350e-02</td>\n",
       "      <td>-5.213911e-02</td>\n",
       "      <td>1.342146e-03</td>\n",
       "      <td>1.124383e-02</td>\n",
       "      <td>22.000000</td>\n",
       "      <td>0.000000</td>\n",
       "    </tr>\n",
       "    <tr>\n",
       "      <th>75%</th>\n",
       "      <td>139320.500000</td>\n",
       "      <td>1.315642e+00</td>\n",
       "      <td>8.037239e-01</td>\n",
       "      <td>1.027196e+00</td>\n",
       "      <td>7.433413e-01</td>\n",
       "      <td>6.119264e-01</td>\n",
       "      <td>3.985649e-01</td>\n",
       "      <td>5.704361e-01</td>\n",
       "      <td>3.273459e-01</td>\n",
       "      <td>5.971390e-01</td>\n",
       "      <td>...</td>\n",
       "      <td>1.863772e-01</td>\n",
       "      <td>5.285536e-01</td>\n",
       "      <td>1.476421e-01</td>\n",
       "      <td>4.395266e-01</td>\n",
       "      <td>3.507156e-01</td>\n",
       "      <td>2.409522e-01</td>\n",
       "      <td>9.104512e-02</td>\n",
       "      <td>7.827995e-02</td>\n",
       "      <td>77.165000</td>\n",
       "      <td>0.000000</td>\n",
       "    </tr>\n",
       "    <tr>\n",
       "      <th>max</th>\n",
       "      <td>172792.000000</td>\n",
       "      <td>2.454930e+00</td>\n",
       "      <td>2.205773e+01</td>\n",
       "      <td>9.382558e+00</td>\n",
       "      <td>1.687534e+01</td>\n",
       "      <td>3.480167e+01</td>\n",
       "      <td>7.330163e+01</td>\n",
       "      <td>1.205895e+02</td>\n",
       "      <td>2.000721e+01</td>\n",
       "      <td>1.559499e+01</td>\n",
       "      <td>...</td>\n",
       "      <td>2.720284e+01</td>\n",
       "      <td>1.050309e+01</td>\n",
       "      <td>2.252841e+01</td>\n",
       "      <td>4.584549e+00</td>\n",
       "      <td>7.519589e+00</td>\n",
       "      <td>3.517346e+00</td>\n",
       "      <td>3.161220e+01</td>\n",
       "      <td>3.384781e+01</td>\n",
       "      <td>25691.160000</td>\n",
       "      <td>1.000000</td>\n",
       "    </tr>\n",
       "  </tbody>\n",
       "</table>\n",
       "<p>8 rows × 31 columns</p>\n",
       "</div>"
      ],
      "text/plain": [
       "                Time            V1            V2            V3            V4  \\\n",
       "count  284807.000000  2.848070e+05  2.848070e+05  2.848070e+05  2.848070e+05   \n",
       "mean    94813.859575  3.918649e-15  5.682686e-16 -8.761736e-15  2.811118e-15   \n",
       "std     47488.145955  1.958696e+00  1.651309e+00  1.516255e+00  1.415869e+00   \n",
       "min         0.000000 -5.640751e+01 -7.271573e+01 -4.832559e+01 -5.683171e+00   \n",
       "25%     54201.500000 -9.203734e-01 -5.985499e-01 -8.903648e-01 -8.486401e-01   \n",
       "50%     84692.000000  1.810880e-02  6.548556e-02  1.798463e-01 -1.984653e-02   \n",
       "75%    139320.500000  1.315642e+00  8.037239e-01  1.027196e+00  7.433413e-01   \n",
       "max    172792.000000  2.454930e+00  2.205773e+01  9.382558e+00  1.687534e+01   \n",
       "\n",
       "                 V5            V6            V7            V8            V9  \\\n",
       "count  2.848070e+05  2.848070e+05  2.848070e+05  2.848070e+05  2.848070e+05   \n",
       "mean  -1.552103e-15  2.040130e-15 -1.698953e-15 -1.893285e-16 -3.147640e-15   \n",
       "std    1.380247e+00  1.332271e+00  1.237094e+00  1.194353e+00  1.098632e+00   \n",
       "min   -1.137433e+02 -2.616051e+01 -4.355724e+01 -7.321672e+01 -1.343407e+01   \n",
       "25%   -6.915971e-01 -7.682956e-01 -5.540759e-01 -2.086297e-01 -6.430976e-01   \n",
       "50%   -5.433583e-02 -2.741871e-01  4.010308e-02  2.235804e-02 -5.142873e-02   \n",
       "75%    6.119264e-01  3.985649e-01  5.704361e-01  3.273459e-01  5.971390e-01   \n",
       "max    3.480167e+01  7.330163e+01  1.205895e+02  2.000721e+01  1.559499e+01   \n",
       "\n",
       "       ...           V21           V22           V23           V24  \\\n",
       "count  ...  2.848070e+05  2.848070e+05  2.848070e+05  2.848070e+05   \n",
       "mean   ...  1.473120e-16  8.042109e-16  5.282512e-16  4.456271e-15   \n",
       "std    ...  7.345240e-01  7.257016e-01  6.244603e-01  6.056471e-01   \n",
       "min    ... -3.483038e+01 -1.093314e+01 -4.480774e+01 -2.836627e+00   \n",
       "25%    ... -2.283949e-01 -5.423504e-01 -1.618463e-01 -3.545861e-01   \n",
       "50%    ... -2.945017e-02  6.781943e-03 -1.119293e-02  4.097606e-02   \n",
       "75%    ...  1.863772e-01  5.285536e-01  1.476421e-01  4.395266e-01   \n",
       "max    ...  2.720284e+01  1.050309e+01  2.252841e+01  4.584549e+00   \n",
       "\n",
       "                V25           V26           V27           V28         Amount  \\\n",
       "count  2.848070e+05  2.848070e+05  2.848070e+05  2.848070e+05  284807.000000   \n",
       "mean   1.426896e-15  1.701640e-15 -3.662252e-16 -1.217809e-16      88.349619   \n",
       "std    5.212781e-01  4.822270e-01  4.036325e-01  3.300833e-01     250.120109   \n",
       "min   -1.029540e+01 -2.604551e+00 -2.256568e+01 -1.543008e+01       0.000000   \n",
       "25%   -3.171451e-01 -3.269839e-01 -7.083953e-02 -5.295979e-02       5.600000   \n",
       "50%    1.659350e-02 -5.213911e-02  1.342146e-03  1.124383e-02      22.000000   \n",
       "75%    3.507156e-01  2.409522e-01  9.104512e-02  7.827995e-02      77.165000   \n",
       "max    7.519589e+00  3.517346e+00  3.161220e+01  3.384781e+01   25691.160000   \n",
       "\n",
       "               Class  \n",
       "count  284807.000000  \n",
       "mean        0.001727  \n",
       "std         0.041527  \n",
       "min         0.000000  \n",
       "25%         0.000000  \n",
       "50%         0.000000  \n",
       "75%         0.000000  \n",
       "max         1.000000  \n",
       "\n",
       "[8 rows x 31 columns]"
      ]
     },
     "execution_count": 3,
     "metadata": {},
     "output_type": "execute_result"
    }
   ],
   "source": [
    "#Knowing our data:\n",
    "\n",
    "df.describe()"
   ]
  },
  {
   "cell_type": "code",
   "execution_count": 4,
   "id": "de84672b",
   "metadata": {},
   "outputs": [
    {
     "name": "stdout",
     "output_type": "stream",
     "text": [
      "<class 'pandas.core.frame.DataFrame'>\n",
      "RangeIndex: 284807 entries, 0 to 284806\n",
      "Data columns (total 31 columns):\n",
      " #   Column  Non-Null Count   Dtype  \n",
      "---  ------  --------------   -----  \n",
      " 0   Time    284807 non-null  float64\n",
      " 1   V1      284807 non-null  float64\n",
      " 2   V2      284807 non-null  float64\n",
      " 3   V3      284807 non-null  float64\n",
      " 4   V4      284807 non-null  float64\n",
      " 5   V5      284807 non-null  float64\n",
      " 6   V6      284807 non-null  float64\n",
      " 7   V7      284807 non-null  float64\n",
      " 8   V8      284807 non-null  float64\n",
      " 9   V9      284807 non-null  float64\n",
      " 10  V10     284807 non-null  float64\n",
      " 11  V11     284807 non-null  float64\n",
      " 12  V12     284807 non-null  float64\n",
      " 13  V13     284807 non-null  float64\n",
      " 14  V14     284807 non-null  float64\n",
      " 15  V15     284807 non-null  float64\n",
      " 16  V16     284807 non-null  float64\n",
      " 17  V17     284807 non-null  float64\n",
      " 18  V18     284807 non-null  float64\n",
      " 19  V19     284807 non-null  float64\n",
      " 20  V20     284807 non-null  float64\n",
      " 21  V21     284807 non-null  float64\n",
      " 22  V22     284807 non-null  float64\n",
      " 23  V23     284807 non-null  float64\n",
      " 24  V24     284807 non-null  float64\n",
      " 25  V25     284807 non-null  float64\n",
      " 26  V26     284807 non-null  float64\n",
      " 27  V27     284807 non-null  float64\n",
      " 28  V28     284807 non-null  float64\n",
      " 29  Amount  284807 non-null  float64\n",
      " 30  Class   284807 non-null  int64  \n",
      "dtypes: float64(30), int64(1)\n",
      "memory usage: 67.4 MB\n"
     ]
    }
   ],
   "source": [
    "#data type:\n",
    "\n",
    "df.info()"
   ]
  },
  {
   "cell_type": "code",
   "execution_count": 5,
   "id": "4653aaa8",
   "metadata": {},
   "outputs": [
    {
     "data": {
      "text/plain": [
       "Time      0\n",
       "V1        0\n",
       "V2        0\n",
       "V3        0\n",
       "V4        0\n",
       "V5        0\n",
       "V6        0\n",
       "V7        0\n",
       "V8        0\n",
       "V9        0\n",
       "V10       0\n",
       "V11       0\n",
       "V12       0\n",
       "V13       0\n",
       "V14       0\n",
       "V15       0\n",
       "V16       0\n",
       "V17       0\n",
       "V18       0\n",
       "V19       0\n",
       "V20       0\n",
       "V21       0\n",
       "V22       0\n",
       "V23       0\n",
       "V24       0\n",
       "V25       0\n",
       "V26       0\n",
       "V27       0\n",
       "V28       0\n",
       "Amount    0\n",
       "Class     0\n",
       "dtype: int64"
      ]
     },
     "execution_count": 5,
     "metadata": {},
     "output_type": "execute_result"
    }
   ],
   "source": [
    "#Do we have any missing value?\n",
    "df.isna().sum()"
   ]
  },
  {
   "cell_type": "code",
   "execution_count": 6,
   "id": "c51c918e",
   "metadata": {},
   "outputs": [],
   "source": [
    "#According to the dataset description, the features from \"V1\" to \"V28\" are the result of PCA(Principal Components Analysis). \n",
    "#We know that features must be scaled before using this technique. \n",
    "#However the features \"Time\" and \"Amount\" are not scaled we should scaled them before continuing with our analysis. \n",
    "\n",
    "df['Amount_scaled'] = StandardScaler().fit_transform(df['Amount'].values.reshape(-1, 1))\n",
    "df['Time_scaled'] = StandardScaler().fit_transform(df['Time'].values.reshape(-1, 1))\n",
    "\n",
    "#Now we have to drop from our dataset the features \"Time\" and \"Amount\":\n",
    "df=df.drop(columns=['Amount', 'Time'],axis=1)\n"
   ]
  },
  {
   "cell_type": "code",
   "execution_count": 7,
   "id": "d838b375",
   "metadata": {},
   "outputs": [
    {
     "data": {
      "text/html": [
       "<div>\n",
       "<style scoped>\n",
       "    .dataframe tbody tr th:only-of-type {\n",
       "        vertical-align: middle;\n",
       "    }\n",
       "\n",
       "    .dataframe tbody tr th {\n",
       "        vertical-align: top;\n",
       "    }\n",
       "\n",
       "    .dataframe thead th {\n",
       "        text-align: right;\n",
       "    }\n",
       "</style>\n",
       "<table border=\"1\" class=\"dataframe\">\n",
       "  <thead>\n",
       "    <tr style=\"text-align: right;\">\n",
       "      <th></th>\n",
       "      <th>V1</th>\n",
       "      <th>V2</th>\n",
       "      <th>V3</th>\n",
       "      <th>V4</th>\n",
       "      <th>V5</th>\n",
       "      <th>V6</th>\n",
       "      <th>V7</th>\n",
       "      <th>V8</th>\n",
       "      <th>V9</th>\n",
       "      <th>V10</th>\n",
       "      <th>...</th>\n",
       "      <th>V22</th>\n",
       "      <th>V23</th>\n",
       "      <th>V24</th>\n",
       "      <th>V25</th>\n",
       "      <th>V26</th>\n",
       "      <th>V27</th>\n",
       "      <th>V28</th>\n",
       "      <th>Amount_scaled</th>\n",
       "      <th>Time_scaled</th>\n",
       "      <th>Class</th>\n",
       "    </tr>\n",
       "  </thead>\n",
       "  <tbody>\n",
       "    <tr>\n",
       "      <th>0</th>\n",
       "      <td>-1.359807</td>\n",
       "      <td>-0.072781</td>\n",
       "      <td>2.536347</td>\n",
       "      <td>1.378155</td>\n",
       "      <td>-0.338321</td>\n",
       "      <td>0.462388</td>\n",
       "      <td>0.239599</td>\n",
       "      <td>0.098698</td>\n",
       "      <td>0.363787</td>\n",
       "      <td>0.090794</td>\n",
       "      <td>...</td>\n",
       "      <td>0.277838</td>\n",
       "      <td>-0.110474</td>\n",
       "      <td>0.066928</td>\n",
       "      <td>0.128539</td>\n",
       "      <td>-0.189115</td>\n",
       "      <td>0.133558</td>\n",
       "      <td>-0.021053</td>\n",
       "      <td>0.244964</td>\n",
       "      <td>-1.996583</td>\n",
       "      <td>0</td>\n",
       "    </tr>\n",
       "    <tr>\n",
       "      <th>1</th>\n",
       "      <td>1.191857</td>\n",
       "      <td>0.266151</td>\n",
       "      <td>0.166480</td>\n",
       "      <td>0.448154</td>\n",
       "      <td>0.060018</td>\n",
       "      <td>-0.082361</td>\n",
       "      <td>-0.078803</td>\n",
       "      <td>0.085102</td>\n",
       "      <td>-0.255425</td>\n",
       "      <td>-0.166974</td>\n",
       "      <td>...</td>\n",
       "      <td>-0.638672</td>\n",
       "      <td>0.101288</td>\n",
       "      <td>-0.339846</td>\n",
       "      <td>0.167170</td>\n",
       "      <td>0.125895</td>\n",
       "      <td>-0.008983</td>\n",
       "      <td>0.014724</td>\n",
       "      <td>-0.342475</td>\n",
       "      <td>-1.996583</td>\n",
       "      <td>0</td>\n",
       "    </tr>\n",
       "    <tr>\n",
       "      <th>2</th>\n",
       "      <td>-1.358354</td>\n",
       "      <td>-1.340163</td>\n",
       "      <td>1.773209</td>\n",
       "      <td>0.379780</td>\n",
       "      <td>-0.503198</td>\n",
       "      <td>1.800499</td>\n",
       "      <td>0.791461</td>\n",
       "      <td>0.247676</td>\n",
       "      <td>-1.514654</td>\n",
       "      <td>0.207643</td>\n",
       "      <td>...</td>\n",
       "      <td>0.771679</td>\n",
       "      <td>0.909412</td>\n",
       "      <td>-0.689281</td>\n",
       "      <td>-0.327642</td>\n",
       "      <td>-0.139097</td>\n",
       "      <td>-0.055353</td>\n",
       "      <td>-0.059752</td>\n",
       "      <td>1.160686</td>\n",
       "      <td>-1.996562</td>\n",
       "      <td>0</td>\n",
       "    </tr>\n",
       "    <tr>\n",
       "      <th>3</th>\n",
       "      <td>-0.966272</td>\n",
       "      <td>-0.185226</td>\n",
       "      <td>1.792993</td>\n",
       "      <td>-0.863291</td>\n",
       "      <td>-0.010309</td>\n",
       "      <td>1.247203</td>\n",
       "      <td>0.237609</td>\n",
       "      <td>0.377436</td>\n",
       "      <td>-1.387024</td>\n",
       "      <td>-0.054952</td>\n",
       "      <td>...</td>\n",
       "      <td>0.005274</td>\n",
       "      <td>-0.190321</td>\n",
       "      <td>-1.175575</td>\n",
       "      <td>0.647376</td>\n",
       "      <td>-0.221929</td>\n",
       "      <td>0.062723</td>\n",
       "      <td>0.061458</td>\n",
       "      <td>0.140534</td>\n",
       "      <td>-1.996562</td>\n",
       "      <td>0</td>\n",
       "    </tr>\n",
       "    <tr>\n",
       "      <th>4</th>\n",
       "      <td>-1.158233</td>\n",
       "      <td>0.877737</td>\n",
       "      <td>1.548718</td>\n",
       "      <td>0.403034</td>\n",
       "      <td>-0.407193</td>\n",
       "      <td>0.095921</td>\n",
       "      <td>0.592941</td>\n",
       "      <td>-0.270533</td>\n",
       "      <td>0.817739</td>\n",
       "      <td>0.753074</td>\n",
       "      <td>...</td>\n",
       "      <td>0.798278</td>\n",
       "      <td>-0.137458</td>\n",
       "      <td>0.141267</td>\n",
       "      <td>-0.206010</td>\n",
       "      <td>0.502292</td>\n",
       "      <td>0.219422</td>\n",
       "      <td>0.215153</td>\n",
       "      <td>-0.073403</td>\n",
       "      <td>-1.996541</td>\n",
       "      <td>0</td>\n",
       "    </tr>\n",
       "  </tbody>\n",
       "</table>\n",
       "<p>5 rows × 31 columns</p>\n",
       "</div>"
      ],
      "text/plain": [
       "         V1        V2        V3        V4        V5        V6        V7  \\\n",
       "0 -1.359807 -0.072781  2.536347  1.378155 -0.338321  0.462388  0.239599   \n",
       "1  1.191857  0.266151  0.166480  0.448154  0.060018 -0.082361 -0.078803   \n",
       "2 -1.358354 -1.340163  1.773209  0.379780 -0.503198  1.800499  0.791461   \n",
       "3 -0.966272 -0.185226  1.792993 -0.863291 -0.010309  1.247203  0.237609   \n",
       "4 -1.158233  0.877737  1.548718  0.403034 -0.407193  0.095921  0.592941   \n",
       "\n",
       "         V8        V9       V10  ...       V22       V23       V24       V25  \\\n",
       "0  0.098698  0.363787  0.090794  ...  0.277838 -0.110474  0.066928  0.128539   \n",
       "1  0.085102 -0.255425 -0.166974  ... -0.638672  0.101288 -0.339846  0.167170   \n",
       "2  0.247676 -1.514654  0.207643  ...  0.771679  0.909412 -0.689281 -0.327642   \n",
       "3  0.377436 -1.387024 -0.054952  ...  0.005274 -0.190321 -1.175575  0.647376   \n",
       "4 -0.270533  0.817739  0.753074  ...  0.798278 -0.137458  0.141267 -0.206010   \n",
       "\n",
       "        V26       V27       V28  Amount_scaled  Time_scaled  Class  \n",
       "0 -0.189115  0.133558 -0.021053       0.244964    -1.996583      0  \n",
       "1  0.125895 -0.008983  0.014724      -0.342475    -1.996583      0  \n",
       "2 -0.139097 -0.055353 -0.059752       1.160686    -1.996562      0  \n",
       "3 -0.221929  0.062723  0.061458       0.140534    -1.996562      0  \n",
       "4  0.502292  0.219422  0.215153      -0.073403    -1.996541      0  \n",
       "\n",
       "[5 rows x 31 columns]"
      ]
     },
     "execution_count": 7,
     "metadata": {},
     "output_type": "execute_result"
    }
   ],
   "source": [
    "#I changed the features order in the dataset. I like having my target variable at the end of the dataset. \n",
    "\n",
    "list(df.columns) \n",
    "df = df[['V1','V2','V3','V4','V5','V6','V7','V8','V9','V10','V11','V12','V13','V14','V15','V16','V17','V18','V19','V20','V21','V22','V23','V24','V25','V26','V27','V28','Amount_scaled','Time_scaled','Class']]\n",
    "df.head()"
   ]
  },
  {
   "cell_type": "markdown",
   "id": "bab023a0",
   "metadata": {},
   "source": [
    "## Correlation analysis"
   ]
  },
  {
   "cell_type": "code",
   "execution_count": 8,
   "id": "3f1bb855",
   "metadata": {
    "scrolled": false
   },
   "outputs": [
    {
     "data": {
      "text/plain": [
       "Class            1.000000\n",
       "V11              0.154876\n",
       "V4               0.133447\n",
       "V2               0.091289\n",
       "V21              0.040413\n",
       "V19              0.034783\n",
       "V20              0.020090\n",
       "V8               0.019875\n",
       "V27              0.017580\n",
       "V28              0.009536\n",
       "Amount_scaled    0.005632\n",
       "V26              0.004455\n",
       "V25              0.003308\n",
       "V22              0.000805\n",
       "V23             -0.002685\n",
       "V15             -0.004223\n",
       "V13             -0.004570\n",
       "V24             -0.007221\n",
       "Time_scaled     -0.012323\n",
       "V6              -0.043643\n",
       "V5              -0.094974\n",
       "V9              -0.097733\n",
       "V1              -0.101347\n",
       "V18             -0.111485\n",
       "V7              -0.187257\n",
       "V3              -0.192961\n",
       "V16             -0.196539\n",
       "V10             -0.216883\n",
       "V12             -0.260593\n",
       "V14             -0.302544\n",
       "V17             -0.326481\n",
       "Name: Class, dtype: float64"
      ]
     },
     "execution_count": 8,
     "metadata": {},
     "output_type": "execute_result"
    }
   ],
   "source": [
    "#Correlation between the features and the dependent variable \"Class\":\n",
    "\n",
    "df[df.columns[0:]].corr()['Class'][:].sort_values(ascending=False)"
   ]
  },
  {
   "cell_type": "code",
   "execution_count": 9,
   "id": "84fcc01a",
   "metadata": {},
   "outputs": [
    {
     "data": {
      "image/png": "[encoded data removed]",
      "text/plain": [
       "<Figure size 3000x2500 with 2 Axes>"
      ]
     },
     "metadata": {},
     "output_type": "display_data"
    }
   ],
   "source": [
    "#Correlation matrix:\n",
    "\n",
    "corr = df.corr()\n",
    "mask = np.zeros_like(corr)\n",
    "mask[np.triu_indices_from(mask)] = True\n",
    "with sns.axes_style(\"white\"):\n",
    "    f, ax = plt.subplots(figsize=(30, 25))\n",
    "    ax = sns.heatmap(corr, mask=mask,cmap='coolwarm', vmin=-1,vmax=1,annot=True, square=True)"
   ]
  },
  {
   "cell_type": "markdown",
   "id": "91ff87a3",
   "metadata": {},
   "source": [
    "## Class ambalance "
   ]
  },
  {
   "cell_type": "markdown",
   "id": "d30d4044",
   "metadata": {},
   "source": [
    "### Fraud/ non-Fraud ratio"
   ]
  },
  {
   "cell_type": "code",
   "execution_count": 10,
   "id": "622f2656",
   "metadata": {},
   "outputs": [
    {
     "data": {
      "text/plain": [
       "0    284315\n",
       "1       492\n",
       "Name: Class, dtype: int64"
      ]
     },
     "execution_count": 10,
     "metadata": {},
     "output_type": "execute_result"
    }
   ],
   "source": [
    "# Let's calculate the ration of fraudulent and no fraudulent transactions:\n",
    "y=df['Class'].value_counts()\n",
    "y"
   ]
  },
  {
   "cell_type": "code",
   "execution_count": 11,
   "id": "dc5474c7",
   "metadata": {},
   "outputs": [
    {
     "data": {
      "text/plain": [
       "0    0.998273\n",
       "1    0.001727\n",
       "Name: Class, dtype: float64"
      ]
     },
     "execution_count": 11,
     "metadata": {},
     "output_type": "execute_result"
    }
   ],
   "source": [
    "\n",
    "y/len(df)"
   ]
  },
  {
   "cell_type": "markdown",
   "id": "0f2f135a",
   "metadata": {},
   "source": [
    "As we already mentioned in the dataset description section. The dataset is highly unbalance with only 0.1727% of fraudulent transactions. "
   ]
  },
  {
   "cell_type": "markdown",
   "id": "faf6c765",
   "metadata": {},
   "source": [
    "### Class ambalance visual representation"
   ]
  },
  {
   "cell_type": "code",
   "execution_count": 12,
   "id": "416f768a",
   "metadata": {
    "scrolled": true
   },
   "outputs": [
    {
     "name": "stderr",
     "output_type": "stream",
     "text": [
      "C:\\Users\\Merche\\anaconda3\\envs\\Da_Env1\\lib\\site-packages\\seaborn\\_decorators.py:36: FutureWarning: Pass the following variable as a keyword arg: x. From version 0.12, the only valid positional argument will be `data`, and passing other arguments without an explicit keyword will result in an error or misinterpretation.\n",
      "  warnings.warn(\n"
     ]
    },
    {
     "data": {
      "text/plain": [
       "Text(0.5, 1.0, 'Class Distributions \\n (0: No Fraud || 1: Fraud)')"
      ]
     },
     "execution_count": 12,
     "metadata": {},
     "output_type": "execute_result"
    },
    {
     "data": {
      "image/png": "[encoded data removed]",
      "text/plain": [
       "<Figure size 400x400 with 1 Axes>"
      ]
     },
     "metadata": {},
     "output_type": "display_data"
    }
   ],
   "source": [
    "#Visualizations can be very a powerful tool to detect class imbalance. We can use different kind of charts to this purpose:\n",
    "\n",
    "# 1: Bar chart:\n",
    "\n",
    "fig,ax=plt.subplots(figsize=(4,4))\n",
    "sns.countplot('Class', data=df, palette=\"Set2\")\n",
    "plt.title('Class Distributions \\n (0: No Fraud || 1: Fraud)', fontsize=14)"
   ]
  },
  {
   "cell_type": "code",
   "execution_count": 13,
   "id": "74bcb9d1",
   "metadata": {},
   "outputs": [],
   "source": [
    "# 2: Scartter plot:\n",
    "\n",
    "#First step to create the scatter plot: we need to convert our dataframe in 2 variables:\n",
    "\n",
    "X=df.iloc[:,0:30].values\n",
    "y=df.Class.values\n"
   ]
  },
  {
   "cell_type": "code",
   "execution_count": 14,
   "id": "9c144b22",
   "metadata": {},
   "outputs": [],
   "source": [
    "def plot_data(X: np.ndarray, y: np.ndarray):\n",
    "    \n",
    " \n",
    "    sns.set_palette(\"Set2\")\n",
    "    \n",
    "    sns.scatterplot(X[y == 0, 0], X[y == 0, 1], label=\"Class #0\", alpha=0.5, linewidth=0.15)\n",
    "    sns.scatterplot(X[y == 1, 0], X[y == 1, 1], label=\"Class #1\", alpha=0.5, linewidth=0.15)\n",
    "    \n",
    "    plt.legend()\n",
    "    \n",
    "    return plt.show()"
   ]
  },
  {
   "cell_type": "code",
   "execution_count": 15,
   "id": "4657b8b7",
   "metadata": {},
   "outputs": [
    {
     "name": "stderr",
     "output_type": "stream",
     "text": [
      "C:\\Users\\Merche\\anaconda3\\envs\\Da_Env1\\lib\\site-packages\\seaborn\\_decorators.py:36: FutureWarning: Pass the following variables as keyword args: x, y. From version 0.12, the only valid positional argument will be `data`, and passing other arguments without an explicit keyword will result in an error or misinterpretation.\n",
      "  warnings.warn(\n",
      "C:\\Users\\Merche\\anaconda3\\envs\\Da_Env1\\lib\\site-packages\\seaborn\\_decorators.py:36: FutureWarning: Pass the following variables as keyword args: x, y. From version 0.12, the only valid positional argument will be `data`, and passing other arguments without an explicit keyword will result in an error or misinterpretation.\n",
      "  warnings.warn(\n"
     ]
    },
    {
     "data": {
      "image/png": "[encoded data removed]",
      "text/plain": [
       "<Figure size 640x480 with 1 Axes>"
      ]
     },
     "metadata": {},
     "output_type": "display_data"
    }
   ],
   "source": [
    "plot_data(X,y)"
   ]
  },
  {
   "cell_type": "markdown",
   "id": "03339d76",
   "metadata": {},
   "source": [
    "## Traditional way of cathing fraud: Rules "
   ]
  },
  {
   "cell_type": "markdown",
   "id": "70aeb387",
   "metadata": {},
   "source": [
    "Rules are the traditional way of catching fraudulent transactions. \n",
    "\n",
    "How do rules work? The idea is very simple; we just need to create a rule that send to manual review any transaction above a certain amount.\n",
    "We can set as many rules as we need, but keep in mind that some of them would result in a big number of false positives\n",
    "\n",
    "Can we set rules in our dataset? Sure!\n",
    "\n",
    "\n",
    "First we will define threshold values using common statistics, to split fraud and non-fraud. Then, use those thresholds on our features to detect fraud.\n",
    "\n",
    "Statistical thresholds are often determined by looking at the mean values of observations. Let's start this exercise by checking whether feature means differ between fraud and non-fraud cases. Then, we will use that information to create common sense thresholds. Finally, we will check how well this performs in fraud detection.\n"
   ]
  },
  {
   "cell_type": "code",
   "execution_count": 16,
   "id": "a6494d6e",
   "metadata": {},
   "outputs": [
    {
     "data": {
      "text/html": [
       "<div>\n",
       "<style scoped>\n",
       "    .dataframe tbody tr th:only-of-type {\n",
       "        vertical-align: middle;\n",
       "    }\n",
       "\n",
       "    .dataframe tbody tr th {\n",
       "        vertical-align: top;\n",
       "    }\n",
       "\n",
       "    .dataframe thead th {\n",
       "        text-align: right;\n",
       "    }\n",
       "</style>\n",
       "<table border=\"1\" class=\"dataframe\">\n",
       "  <thead>\n",
       "    <tr style=\"text-align: right;\">\n",
       "      <th></th>\n",
       "      <th>V1</th>\n",
       "      <th>V2</th>\n",
       "      <th>V3</th>\n",
       "      <th>V4</th>\n",
       "      <th>V5</th>\n",
       "      <th>V6</th>\n",
       "      <th>V7</th>\n",
       "      <th>V8</th>\n",
       "      <th>V9</th>\n",
       "      <th>V10</th>\n",
       "      <th>...</th>\n",
       "      <th>V21</th>\n",
       "      <th>V22</th>\n",
       "      <th>V23</th>\n",
       "      <th>V24</th>\n",
       "      <th>V25</th>\n",
       "      <th>V26</th>\n",
       "      <th>V27</th>\n",
       "      <th>V28</th>\n",
       "      <th>Amount_scaled</th>\n",
       "      <th>Time_scaled</th>\n",
       "    </tr>\n",
       "    <tr>\n",
       "      <th>Class</th>\n",
       "      <th></th>\n",
       "      <th></th>\n",
       "      <th></th>\n",
       "      <th></th>\n",
       "      <th></th>\n",
       "      <th></th>\n",
       "      <th></th>\n",
       "      <th></th>\n",
       "      <th></th>\n",
       "      <th></th>\n",
       "      <th></th>\n",
       "      <th></th>\n",
       "      <th></th>\n",
       "      <th></th>\n",
       "      <th></th>\n",
       "      <th></th>\n",
       "      <th></th>\n",
       "      <th></th>\n",
       "      <th></th>\n",
       "      <th></th>\n",
       "      <th></th>\n",
       "    </tr>\n",
       "  </thead>\n",
       "  <tbody>\n",
       "    <tr>\n",
       "      <th>0</th>\n",
       "      <td>0.008258</td>\n",
       "      <td>-0.006271</td>\n",
       "      <td>0.012171</td>\n",
       "      <td>-0.007860</td>\n",
       "      <td>0.005453</td>\n",
       "      <td>0.002419</td>\n",
       "      <td>0.009637</td>\n",
       "      <td>-0.000987</td>\n",
       "      <td>0.004467</td>\n",
       "      <td>0.009824</td>\n",
       "      <td>...</td>\n",
       "      <td>-0.001235</td>\n",
       "      <td>-0.000024</td>\n",
       "      <td>0.000070</td>\n",
       "      <td>0.000182</td>\n",
       "      <td>-0.000072</td>\n",
       "      <td>-0.000089</td>\n",
       "      <td>-0.000295</td>\n",
       "      <td>-0.000131</td>\n",
       "      <td>-0.000234</td>\n",
       "      <td>0.000513</td>\n",
       "    </tr>\n",
       "    <tr>\n",
       "      <th>1</th>\n",
       "      <td>-4.771948</td>\n",
       "      <td>3.623778</td>\n",
       "      <td>-7.033281</td>\n",
       "      <td>4.542029</td>\n",
       "      <td>-3.151225</td>\n",
       "      <td>-1.397737</td>\n",
       "      <td>-5.568731</td>\n",
       "      <td>0.570636</td>\n",
       "      <td>-2.581123</td>\n",
       "      <td>-5.676883</td>\n",
       "      <td>...</td>\n",
       "      <td>0.713588</td>\n",
       "      <td>0.014049</td>\n",
       "      <td>-0.040308</td>\n",
       "      <td>-0.105130</td>\n",
       "      <td>0.041449</td>\n",
       "      <td>0.051648</td>\n",
       "      <td>0.170575</td>\n",
       "      <td>0.075667</td>\n",
       "      <td>0.135382</td>\n",
       "      <td>-0.296223</td>\n",
       "    </tr>\n",
       "  </tbody>\n",
       "</table>\n",
       "<p>2 rows × 30 columns</p>\n",
       "</div>"
      ],
      "text/plain": [
       "             V1        V2        V3        V4        V5        V6        V7  \\\n",
       "Class                                                                         \n",
       "0      0.008258 -0.006271  0.012171 -0.007860  0.005453  0.002419  0.009637   \n",
       "1     -4.771948  3.623778 -7.033281  4.542029 -3.151225 -1.397737 -5.568731   \n",
       "\n",
       "             V8        V9       V10  ...       V21       V22       V23  \\\n",
       "Class                                ...                                 \n",
       "0     -0.000987  0.004467  0.009824  ... -0.001235 -0.000024  0.000070   \n",
       "1      0.570636 -2.581123 -5.676883  ...  0.713588  0.014049 -0.040308   \n",
       "\n",
       "            V24       V25       V26       V27       V28  Amount_scaled  \\\n",
       "Class                                                                    \n",
       "0      0.000182 -0.000072 -0.000089 -0.000295 -0.000131      -0.000234   \n",
       "1     -0.105130  0.041449  0.051648  0.170575  0.075667       0.135382   \n",
       "\n",
       "       Time_scaled  \n",
       "Class               \n",
       "0         0.000513  \n",
       "1        -0.296223  \n",
       "\n",
       "[2 rows x 30 columns]"
      ]
     },
     "execution_count": 16,
     "metadata": {},
     "output_type": "execute_result"
    }
   ],
   "source": [
    "df.groupby('Class').mean()"
   ]
  },
  {
   "cell_type": "code",
   "execution_count": 17,
   "id": "a08ec3a0",
   "metadata": {},
   "outputs": [],
   "source": [
    "# We will send to manual review all transactions from V1 that are  smaller than -3 and all transactions from V7 smaller than -5.\n",
    "\n",
    "df['predicted_fraud'] = np.where(np.logical_and(df['V1'] < -3, df['V7'] < -5), 1, 0)"
   ]
  },
  {
   "cell_type": "code",
   "execution_count": 18,
   "id": "b38bbda4",
   "metadata": {},
   "outputs": [
    {
     "name": "stdout",
     "output_type": "stream",
     "text": [
      "Predicted_Fraud       0    1\n",
      "Fraud                       \n",
      "0                283491  824\n",
      "1                   335  157\n"
     ]
    }
   ],
   "source": [
    "# Create a crosstab of flagged fraud cases versus the actual fraud cases\n",
    "\n",
    "print(pd.crosstab(df.Class, df.predicted_fraud, rownames=['Fraud'], colnames=['Predicted_Fraud']))"
   ]
  },
  {
   "cell_type": "markdown",
   "id": "6cbf14e2",
   "metadata": {},
   "source": [
    "We got our first results!\n",
    "\n",
    "using rules, we have detected 157 of 492 fraudulent cases (31.91%), and we got 824 false positives. Can Machine Learaning improve this result?"
   ]
  },
  {
   "cell_type": "code",
   "execution_count": 19,
   "id": "d5dcfc54",
   "metadata": {},
   "outputs": [],
   "source": [
    "#We do not need the feature \"flag as fraud\" anymore, so I will delete it\n",
    "df=df.drop(columns=['predicted_fraud'])"
   ]
  },
  {
   "cell_type": "markdown",
   "id": "f049b205",
   "metadata": {},
   "source": [
    "## Machine Learning models"
   ]
  },
  {
   "cell_type": "markdown",
   "id": "90cb15ba",
   "metadata": {},
   "source": [
    "In this section we will train and compare the results of 5 different ML models: Logistic Regression, Decision Tree Classifier, Random Forest Classifier, Adaboost Classifier and Gradient Boosting Classifier in order to find out which one is the more effective in detecting fraudulent transactions. \n",
    "\n",
    "Taking into account that our dataset is high unbalanced we can follow 3 different approaches:\n",
    "\n",
    "**Approach 1**: Ignore the imbalanced problem: In this case we cannot use \"accuracy\" to comparte the model performance but we can use other metrics instead such as \"roc_auc\",\"confussion matrix\", \"precision\", \"recall\" or \"f1\". \n",
    "\n",
    "Since we want our models finds the maximun number of fraud cases, we will choose the model with the highest recall score value. \n",
    "\n",
    "**Approach 2**: Oversampling the minotiry class using SMOTE until both clases are equally represented.\n",
    "\n",
    "**Approach 3**: Undersampling the mayority class until both classes are equally represented\n",
    "\n"
   ]
  },
  {
   "cell_type": "code",
   "execution_count": null,
   "id": "40f96240",
   "metadata": {},
   "outputs": [],
   "source": []
  },
  {
   "cell_type": "markdown",
   "id": "f125d67b",
   "metadata": {},
   "source": [
    "### Train / Test sets"
   ]
  },
  {
   "cell_type": "code",
   "execution_count": 20,
   "id": "8cc5c026",
   "metadata": {},
   "outputs": [],
   "source": [
    "# XY split:\n",
    "\n",
    "X=df.drop('Class', axis=1)\n",
    "y=df.Class\n"
   ]
  },
  {
   "cell_type": "code",
   "execution_count": 21,
   "id": "b267b7da",
   "metadata": {},
   "outputs": [],
   "source": [
    "#Create training and test set:\n",
    "\n",
    "X_train, X_test, y_train, y_test=train_test_split(X,y,test_size=0.30, random_state=1000)"
   ]
  },
  {
   "cell_type": "code",
   "execution_count": 22,
   "id": "75bc53ee",
   "metadata": {},
   "outputs": [
    {
     "name": "stdout",
     "output_type": "stream",
     "text": [
      "Logisitic Regression model recall score:0.6\n",
      "Decision Tree model recall score:0.74\n",
      "Random Forest Classifier model recall score:0.78\n",
      "Adaboost Classifier model recall score:0.65\n",
      "Gradient Boosting model recall score:0.52\n"
     ]
    }
   ],
   "source": [
    "models = {\n",
    "    \"Logisitic Regression\": LogisticRegression(),\n",
    "    \"Decision Tree\": DecisionTreeClassifier(),\n",
    "    \"Random Forest Classifier\": RandomForestClassifier(),\n",
    "    \"Adaboost Classifier\" :AdaBoostClassifier(),\n",
    "    \"Gradient Boosting\" :GradientBoostingClassifier()\n",
    "    \n",
    "      \n",
    "}\n",
    "\n",
    "\n",
    "# Cross validation score for different classifiers using \"recall\" as scoring:\n",
    "\n",
    "for key, model in models.items():\n",
    "    model.fit(X_train,y_train)\n",
    "    score = cross_val_score(model, X, y, scoring='recall',cv=5)\n",
    "    print(f'{key} model recall score:{round(score.mean(), 2)}')"
   ]
  },
  {
   "cell_type": "markdown",
   "id": "46c9dbab",
   "metadata": {},
   "source": [
    "Random Forest Classifier is the algorithm with the highest recall value:0.78."
   ]
  },
  {
   "cell_type": "code",
   "execution_count": 23,
   "id": "b8bc84f8",
   "metadata": {},
   "outputs": [],
   "source": [
    "#Let's see how many fraud cases we can detect with random forest:\n",
    "\n",
    "rfc=RandomForestClassifier()\n",
    "rfc.fit(X_train,y_train)\n",
    "y_pred=rfc.predict(X_test)\n"
   ]
  },
  {
   "cell_type": "code",
   "execution_count": 24,
   "id": "8881b2fb",
   "metadata": {
    "scrolled": true
   },
   "outputs": [
    {
     "name": "stdout",
     "output_type": "stream",
     "text": [
      "Random Forest Confusion matrix for the test set\n",
      "[[85286     5]\n",
      " [   41   111]]\n"
     ]
    },
    {
     "data": {
      "image/png": "[encoded data removed]",
      "text/plain": [
       "<Figure size 640x480 with 1 Axes>"
      ]
     },
     "metadata": {},
     "output_type": "display_data"
    }
   ],
   "source": [
    "print(\"Random Forest Confusion matrix for the test set\")\n",
    "print(confusion_matrix(y_test, y_pred))\n",
    "conf_mat = confusion_matrix(y_test,y_pred)\n",
    "sns.heatmap(conf_mat, square=True, annot=True, cmap='icefire', fmt='d', cbar=False)\n",
    "\n",
    "plt.show()"
   ]
  },
  {
   "cell_type": "markdown",
   "id": "b9efcade",
   "metadata": {},
   "source": [
    "We can see that **Random Forest** model detects the 73.02% of fraduluent transactions (111 of 152 cases) and we have only 5 falses positives. \n",
    "\n",
    "In Fraud analysis we have to find the balance between catching the maximum number of fraudulent transactions( this means to optimize the recall score) and keeping the number of false positives as low as possible. \n",
    "\n",
    "In this scenario a high number of falses positives would represents extra workload for Fraud Deparment because they have to review manually thousands of card transactions, and for Customer Service Department,since they have to deal with the customer's complaints whose transactions have been tagged as fraudulent by mistake.That is why it is important to keep the number of false positives as low as possible.  \n",
    "\n",
    "\n",
    "Let's see if we can improve these results by tunning the hyperparameters of our model \n"
   ]
  },
  {
   "cell_type": "markdown",
   "id": "4d194bc3",
   "metadata": {},
   "source": [
    "### Hyperparameter tunning\n",
    "\n",
    "\n"
   ]
  },
  {
   "cell_type": "markdown",
   "id": "a884cbe2",
   "metadata": {},
   "source": [
    "#### Logistic Regression"
   ]
  },
  {
   "cell_type": "code",
   "execution_count": 25,
   "id": "001ab0dd",
   "metadata": {
    "scrolled": true
   },
   "outputs": [
    {
     "name": "stderr",
     "output_type": "stream",
     "text": [
      "C:\\Users\\Merche\\anaconda3\\envs\\Da_Env1\\lib\\site-packages\\sklearn\\model_selection\\_validation.py:378: FitFailedWarning: \n",
      "20 fits failed out of a total of 40.\n",
      "The score on these train-test partitions for these parameters will be set to nan.\n",
      "If these failures are not expected, you can try to debug them by setting error_score='raise'.\n",
      "\n",
      "Below are more details about the failures:\n",
      "--------------------------------------------------------------------------------\n",
      "20 fits failed with the following error:\n",
      "Traceback (most recent call last):\n",
      "  File \"C:\\Users\\Merche\\anaconda3\\envs\\Da_Env1\\lib\\site-packages\\sklearn\\model_selection\\_validation.py\", line 686, in _fit_and_score\n",
      "    estimator.fit(X_train, y_train, **fit_params)\n",
      "  File \"C:\\Users\\Merche\\anaconda3\\envs\\Da_Env1\\lib\\site-packages\\sklearn\\linear_model\\_logistic.py\", line 1091, in fit\n",
      "    solver = _check_solver(self.solver, self.penalty, self.dual)\n",
      "  File \"C:\\Users\\Merche\\anaconda3\\envs\\Da_Env1\\lib\\site-packages\\sklearn\\linear_model\\_logistic.py\", line 61, in _check_solver\n",
      "    raise ValueError(\n",
      "ValueError: Solver lbfgs supports only 'l2' or 'none' penalties, got l1 penalty.\n",
      "\n",
      "  warnings.warn(some_fits_failed_message, FitFailedWarning)\n",
      "C:\\Users\\Merche\\anaconda3\\envs\\Da_Env1\\lib\\site-packages\\sklearn\\model_selection\\_search.py:953: UserWarning: One or more of the test scores are non-finite: [       nan 0.60588235        nan 0.63529412        nan 0.63235294\n",
      "        nan 0.63235294]\n",
      "  warnings.warn(\n"
     ]
    }
   ],
   "source": [
    "#Let's use GridSearch in order to find the best parameters for our models:\n",
    "\n",
    "\n",
    "# hyperparameter tunning for Logistic Regression:\n",
    "\n",
    "logreg_hyperparameters = {\"penalty\": ['l1','l2'], \n",
    "                          'C': [0.01,1,10,100]}\n",
    "\n",
    "search=GridSearchCV(LogisticRegression(), logreg_hyperparameters, scoring='recall',n_jobs=-1,cv=5)\n",
    "result_logreg=search.fit(X_train, y_train)\n",
    "\n",
    "y_pred_logreg=result_logreg.predict(X_test)\n",
    "y_pred_probs_logreg = result_logreg.predict_proba(X_test)[:,1]\n",
    "\n"
   ]
  },
  {
   "cell_type": "code",
   "execution_count": 27,
   "id": "d9b3a2d6",
   "metadata": {},
   "outputs": [
    {
     "name": "stdout",
     "output_type": "stream",
     "text": [
      "Best Recall Score: 0.6352941176470589\n",
      "Best Hyperparameters: {'C': 1, 'penalty': 'l2'}\n"
     ]
    }
   ],
   "source": [
    "print('Best Recall Score: %s' % result_logreg.best_score_)\n",
    "print('Best Hyperparameters: %s' % result_logreg.best_params_)\n"
   ]
  },
  {
   "cell_type": "markdown",
   "id": "d359db4e",
   "metadata": {},
   "source": [
    "#### Decision Tree"
   ]
  },
  {
   "cell_type": "code",
   "execution_count": 28,
   "id": "30b926c8",
   "metadata": {},
   "outputs": [],
   "source": [
    "hyperparameters = {\"criterion\": [\"gini\", \"entropy\"],\n",
    "                   \"max_depth\":list(range(2,4,1)), \n",
    "                   \"min_samples_leaf\": list(range(5,7,1))}\n",
    "\n",
    "search = GridSearchCV(DecisionTreeClassifier(), hyperparameters,scoring='recall', n_jobs=-1, cv=5)\n",
    "result_dtc=search.fit(X_train, y_train)\n",
    "\n",
    "y_pred_dtc=result_dtc.predict(X_test)\n",
    "y_pred_probs_dtc = result_dtc.predict_proba(X_test)[:,1]\n",
    "\n"
   ]
  },
  {
   "cell_type": "code",
   "execution_count": 29,
   "id": "d030fca0",
   "metadata": {},
   "outputs": [
    {
     "name": "stdout",
     "output_type": "stream",
     "text": [
      "Best Recall Score: 0.7764705882352942\n",
      "Best Hyperparameters: {'criterion': 'entropy', 'max_depth': 3, 'min_samples_leaf': 5}\n"
     ]
    }
   ],
   "source": [
    "print('Best Recall Score: %s' % result_dtc.best_score_)\n",
    "print('Best Hyperparameters: %s' % result_dtc.best_params_)\n"
   ]
  },
  {
   "cell_type": "markdown",
   "id": "26f3ae87",
   "metadata": {},
   "source": [
    "#### Random Forest"
   ]
  },
  {
   "cell_type": "code",
   "execution_count": 30,
   "id": "10995cf8",
   "metadata": {},
   "outputs": [],
   "source": [
    "# Hyperparameter tunning for random forest:\n",
    "\n",
    "\n",
    "rfc_hyperparameters = {'n_estimators': [1,30,60,100],\n",
    "              'max_features': ['sqrt', 'log2'], \n",
    "              'max_depth': [2,4,8,10],\n",
    "              'criterion': ['gini', 'entropy','log_loss']}\n",
    "\n",
    "\n",
    "search = GridSearchCV(RandomForestClassifier(), rfc_hyperparameters, scoring='recall', n_jobs=-1, cv=5)\n",
    "result_rfc=search.fit(X_train, y_train)\n",
    "\n",
    "y_pred_rfc=result_rfc.predict(X_test)\n",
    "y_pred_probs_rfc = result_rfc.predict_proba(X_test)[:,1]\n",
    "\n"
   ]
  },
  {
   "cell_type": "code",
   "execution_count": 31,
   "id": "19037cce",
   "metadata": {},
   "outputs": [
    {
     "name": "stdout",
     "output_type": "stream",
     "text": [
      "Best Recall Score: 0.7941176470588236\n",
      "Best Hyperparameters: {'criterion': 'log_loss', 'max_depth': 10, 'max_features': 'sqrt', 'n_estimators': 30}\n"
     ]
    }
   ],
   "source": [
    "print('Best Recall Score: %s' % result_rfc.best_score_)\n",
    "print('Best Hyperparameters: %s' % result_rfc.best_params_)"
   ]
  },
  {
   "cell_type": "markdown",
   "id": "f8903b12",
   "metadata": {},
   "source": [
    "#### Adaboost"
   ]
  },
  {
   "cell_type": "code",
   "execution_count": 32,
   "id": "5b773049",
   "metadata": {},
   "outputs": [],
   "source": [
    "# Hyperparameter tunning for adaboost:\n",
    "\n",
    "ada_hyperparameters = {'n_estimators': [1,30,60,100], \n",
    "                       'learning_rate': [0.01,0.1,0.2,0.5]}\n",
    "\n",
    "\n",
    "search = GridSearchCV(AdaBoostClassifier(), ada_hyperparameters, scoring='recall', n_jobs=-1, cv=5)\n",
    "result_ada=search.fit(X_train, y_train)\n",
    "\n",
    "y_pre_ada=result_ada.predict(X_test)\n",
    "y_pred_probs_ada = result_ada.predict_proba(X_test)[:,1]\n",
    "\n",
    "\n",
    "\n",
    "\n",
    "\n",
    "\n"
   ]
  },
  {
   "cell_type": "code",
   "execution_count": 33,
   "id": "aae8dbed",
   "metadata": {},
   "outputs": [
    {
     "name": "stdout",
     "output_type": "stream",
     "text": [
      "Best Recall Score: 0.7588235294117647\n",
      "Best Hyperparameters: {'learning_rate': 0.5, 'n_estimators': 100}\n"
     ]
    }
   ],
   "source": [
    "print('Best Recall Score: %s' % result_ada.best_score_)\n",
    "print('Best Hyperparameters: %s' % result_ada.best_params_)"
   ]
  },
  {
   "cell_type": "markdown",
   "id": "59601098",
   "metadata": {},
   "source": [
    "After the hyperparameter tunning **Random forest** improves its model result. It has the best recall_score. \n",
    "Let's see how many fraud cases we can catch now."
   ]
  },
  {
   "cell_type": "markdown",
   "id": "729bb13b",
   "metadata": {},
   "source": [
    "#### Gradient Boosting"
   ]
  },
  {
   "cell_type": "code",
   "execution_count": 34,
   "id": "80e67c32",
   "metadata": {},
   "outputs": [],
   "source": [
    "gb_hyperparameters = {\"n_estimators\":[1,30,60,100],\n",
    "                      \"max_depth\":[2,4,8,10],\n",
    "                      \"learning_rate\":[0.01,0.1,0.2,0.5],\n",
    "                     \"criterion\":[\"friedman_mse\", \"squared_error\",\"mse\"]}\n",
    "\n",
    "\n",
    "search = GridSearchCV(GradientBoostingClassifier(), gb_hyperparameters, scoring='recall', n_jobs=-1, cv=5)\n",
    "result_gb=search.fit(X_train, y_train)\n",
    "\n",
    "y_pre_gb=result_gb.predict(X_test)\n",
    "y_pred_probs_gb = result_gb.predict_proba(X_test)[:,1]\n"
   ]
  },
  {
   "cell_type": "code",
   "execution_count": 35,
   "id": "58575e1b",
   "metadata": {},
   "outputs": [
    {
     "name": "stdout",
     "output_type": "stream",
     "text": [
      "Best Recall Score: 0.8264705882352942\n",
      "Best Hyperparameters: {'criterion': 'friedman_mse', 'learning_rate': 0.5, 'max_depth': 4, 'n_estimators': 1}\n"
     ]
    }
   ],
   "source": [
    "print('Best Recall Score: %s' % result_gb.best_score_)\n",
    "print('Best Hyperparameters: %s' % result_gb.best_params_)"
   ]
  },
  {
   "cell_type": "markdown",
   "id": "98b4ddc1",
   "metadata": {},
   "source": [
    "After the hyperparameter tunning **Gradient Boosting** is our best model with a recall score of 0.82. \n",
    "\n"
   ]
  },
  {
   "cell_type": "code",
   "execution_count": 38,
   "id": "578ca8fc",
   "metadata": {},
   "outputs": [
    {
     "name": "stdout",
     "output_type": "stream",
     "text": [
      "roc_auc_score of Gradient Boosting classifier:  0.8649358481088583\n"
     ]
    }
   ],
   "source": [
    "print(\"roc_auc_score of Gradient Boosting classifier: \",roc_auc_score(y_test,y_pred_probs_gb ))"
   ]
  },
  {
   "cell_type": "code",
   "execution_count": 40,
   "id": "36c2bff1",
   "metadata": {},
   "outputs": [
    {
     "data": {
      "text/plain": [
       "[<matplotlib.lines.Line2D at 0x19e8998a830>]"
      ]
     },
     "execution_count": 40,
     "metadata": {},
     "output_type": "execute_result"
    },
    {
     "data": {
      "image/png": "[encoded data removed]",
      "text/plain": [
       "<Figure size 640x480 with 1 Axes>"
      ]
     },
     "metadata": {},
     "output_type": "display_data"
    }
   ],
   "source": [
    "\n",
    "#gradient boosting\n",
    "fpr, tpr, _ = metrics.roc_curve(y_test, y_pred_probs_gb )\n",
    "auc = round(roc_auc_score(y_test, y_pred_probs_gb), 4)\n",
    "plt.plot(fpr,tpr,label=\"Gradient Boosting, AUC=\"+str(auc))\n"
   ]
  },
  {
   "cell_type": "code",
   "execution_count": 41,
   "id": "35e67d31",
   "metadata": {},
   "outputs": [
    {
     "name": "stdout",
     "output_type": "stream",
     "text": [
      "Gradient Boosting Confusion matrix for the test set before hyperparameter tunning\n",
      "[[85207    84]\n",
      " [   36   116]]\n"
     ]
    },
    {
     "data": {
      "image/png": "[encoded data removed]",
      "text/plain": [
       "<Figure size 640x480 with 1 Axes>"
      ]
     },
     "metadata": {},
     "output_type": "display_data"
    }
   ],
   "source": [
    "\n",
    "print(\"Gradient Boosting Confusion matrix for the test set before hyperparameter tunning\")\n",
    "print(confusion_matrix(y_test, y_pre_gb))\n",
    "conf_mat = confusion_matrix(y_test,y_pre_gb)\n",
    "sns.heatmap(conf_mat, square=True, annot=True, cmap='icefire', fmt='d', cbar=False)\n",
    "\n",
    "plt.show()"
   ]
  },
  {
   "cell_type": "markdown",
   "id": "306bf513",
   "metadata": {},
   "source": [
    "**Gradient Boosting** is able to detect the 76.31% of the fraudulent transactions (116 of 152 cases) with a considerable low number of false positives(84)."
   ]
  },
  {
   "cell_type": "markdown",
   "id": "46efc388",
   "metadata": {},
   "source": [
    "## Hybrid Rule_Based Machine Learning Model"
   ]
  },
  {
   "cell_type": "code",
   "execution_count": null,
   "id": "0a68d090",
   "metadata": {},
   "outputs": [],
   "source": [
    "class RuleAugmentedEstimator(BaseEstimator):\n",
    "    \"\"\"Augments sklearn estimators with rule-based logic.\n",
    "    This class is a wrapper class for sklearn estimators with the additional\n",
    "    possibility of adding rule-based logic to the underlying estimator.\n",
    "    The provided rules are hard-coded and take precedence over the underlying\n",
    "    estimator's predictions.\n",
    "    \"\"\"\n",
    "\n",
    "    def __init__(self, base_model: BaseEstimator, rules: Dict, **base_params):\n",
    "        \"\"\"Initializes the RuleAugmentedEstimator instance.\n",
    "        Initializes the rule-augmented estimator by supplying the underlying\n",
    "        sklearn estimator as well as the hard-coded rules.\n",
    "        Args:\n",
    "            base_model: The underlying sklearn estimator.\n",
    "              Must implement a fit and predict method.\n",
    "            rules: The hard-coded rules in the format of a dictionary,\n",
    "              with keys being the pandas dataframe column name, and the values\n",
    "              being a tuple in the following form:\n",
    "              \n",
    "              (comparison operator, value, return value)\n",
    "              Acceptable comparison operators are:\n",
    "              \"=\", \"<\", \">\", \"<=\", \">=\"\n",
    "              Example:\n",
    "              \n",
    "              {\"House Type\": [\n",
    "                  (\"=\", \"Penthouse\", 1.0),\n",
    "                  (\"=\", \"Shack\", 0.0)\n",
    "               ],\n",
    "               \"House Price\": [\n",
    "                   (\"<\", 1000.0, 0.0),\n",
    "                   (\">=\", 500000.0, 1.0)\n",
    "              ]}\n",
    "            **base_params: Optional keyword arguments which will be passed on\n",
    "            to the ``base_model``.\n",
    "        Examples:\n",
    "            The below example illustrates how an instance of the \n",
    "            RuleAugmentedEstimator class can be initialized with a trained \n",
    "            sklearn GradientBoostingRegressor instance.\n",
    "            >>> gbr = GradientBoostingRegressor()\n",
    "            >>> rules = {\"House Type\": [\n",
    "                            (\"=\", \"Penthouse\", 1.0),\n",
    "                            (\"=\", \"Shack\", 0.0)\n",
    "                         ],\n",
    "                         \"House Price\": [\n",
    "                            (\"<\", 1000.0, 0.0),\n",
    "                            (\">=\", 500000.0, 1.0)\n",
    "                        ]}\n",
    "            >>> ra_estimator = RuleAugmentedEstimator(gbr, rules)\n",
    "        \"\"\"\n",
    "\n",
    "        self.rules = rules\n",
    "        self.base_model = base_model\n",
    "        self.base_model.set_params(**base_params)\n",
    "\n",
    "    def __repr__(self):\n",
    "        return \"Rule Augmented Estimator:\\n\\n\\t Base Model: {}\\n\\t Rules: {}\".format(self.base_model, self.rules)\n",
    "\n",
    "    def __str__(self):\n",
    "         return self.__str__\n",
    "   \n",
    "    def _get_base_model_data(self, X: pd.DataFrame, y: pd.Series) -> Tuple[pd.DataFrame, pd.Series]:\n",
    "        \"\"\"Filters the trainig data for data points not affected by the rules.\"\"\"\n",
    "        \n",
    "        train_x = X\n",
    "\n",
    "        for category, rules in self.rules.items():\n",
    "\n",
    "            if category not in train_x.columns.values: continue\n",
    "\n",
    "            for rule in rules:\n",
    "\n",
    "                if rule[0] == \"=\":\n",
    "                    train_x = train_x.loc[train_x[category] != rule[1]]\n",
    "\n",
    "                elif rule[0] == \"<\":\n",
    "                    train_x = train_x.loc[train_x[category] >= rule[1]]\n",
    "\n",
    "                elif rule[0] == \">\":\n",
    "                    train_x = train_x.loc[train_x[category] <= rule[1]]\n",
    "\n",
    "                elif rule[0] == \"<=\":\n",
    "                    train_x = train_x.loc[train_x[category] > rule[1]]\n",
    "\n",
    "                elif rule[0] == \">=\":\n",
    "                    train_x = train_x.loc[train_x[category] < rule[1]]\n",
    "\n",
    "                else:\n",
    "                    print(\"Invalid rule detected: {}\".format(rule))\n",
    "                \n",
    "        indices = train_x.index.values\n",
    "        train_y = y.iloc[indices]\n",
    "        \n",
    "        train_x = train_x.reset_index(drop=True)\n",
    "        train_y = train_y.reset_index(drop=True)\n",
    "        \n",
    "        return train_x, train_y   \n",
    "\n",
    "    def fit(self, X: pd.DataFrame, y: pd.Series, **kwargs):\n",
    "        \"\"\"Fits the estimator to the data.\n",
    "        \n",
    "        Fits the estimator to the data, only training the underlying estimator\n",
    "        on data which isn't affected by the hard-coded rules.\n",
    "        \n",
    "        Args:\n",
    "            X: The training feature data.\n",
    "            y: The training label data.\n",
    "            **kwargs: Optional keyword arguments passed to the underlying\n",
    "            estimator's fit function.\n",
    "            \n",
    "    \"\"\"\n",
    "        train_x, train_y = self._get_base_model_data(X, y)\n",
    "        self.base_model.fit(train_x, train_y, **kwargs)\n",
    "    \n",
    "    def predict(self, X: pd.DataFrame) -> np.array:\n",
    "        \"\"\"Gets predictions for the provided feature data.\n",
    "        \n",
    "        The predicitons are evaluated using the provided rules wherever possible\n",
    "        otherwise the underlying estimator is used.\n",
    "        \n",
    "        Args:\n",
    "            X: The feature data to evaluate predictions for.\n",
    "        \n",
    "        Returns:\n",
    "            np.array: Evaluated predictions.\n",
    "        \"\"\"\n",
    "        \n",
    "        p_X = X.copy()\n",
    "        p_X['prediction'] = np.nan\n",
    "\n",
    "        for category, rules in self.rules.items():\n",
    "\n",
    "            if category not in p_X.columns.values: continue\n",
    "\n",
    "            for rule in rules:\n",
    "\n",
    "                if rule[0] == \"=\":\n",
    "                    p_X.loc[p_X[category] == rule[1], 'prediction'] = rule[2]\n",
    "\n",
    "                elif rule[0] == \"<\":\n",
    "                    p_X.loc[p_X[category] < rule[1], 'prediction'] = rule[2]\n",
    "\n",
    "                elif rule[0] == \">\":\n",
    "                    p_X.loc[p_X[category] > rule[1], 'prediction'] = rule[2]\n",
    "\n",
    "                elif rule[0] == \"<=\":\n",
    "                    p_X.loc[p_X[category] <= rule[1], 'prediction'] = rule[2]\n",
    "\n",
    "                elif rule[0] == \">=\":\n",
    "                    p_X.loc[p_X[category] >= rule[1], 'prediction'] = rule[2]\n",
    "\n",
    "                else:\n",
    "                    print(\"Invalid rule detected: {}\".format(rule))\n",
    "\n",
    "        if len(p_X.loc[p_X['prediction'].isna()].index != 0):\n",
    "\n",
    "            base_X = p_X.loc[p_X['prediction'].isna()].copy()\n",
    "            base_X.drop('prediction', axis=1, inplace=True)\n",
    "            p_X.loc[p_X['prediction'].isna(), 'prediction'] = self.base_model.predict(base_X)\n",
    "\n",
    "        return p_X['prediction'].values\n",
    "    \n",
    "    def get_params(self, deep: bool = True) -> Dict:\n",
    "        \"\"\"Return the model's and base model's parameters.\n",
    "        Args:\n",
    "            deep: Whether to recursively return the base model's parameters.\n",
    "        Returns\n",
    "            Dict: The model's parameters.\n",
    "        \"\"\"\n",
    "        \n",
    "        params = {'base_model': self.base_model,\n",
    "                  'outcome_range': self.outcome_range,\n",
    "                  'rules': self.rules\n",
    "                 }\n",
    "    \n",
    "        params.update(self.base_model.get_params(deep=deep))\n",
    "        return params\n",
    "    \n",
    "    def set_params(self, **params):\n",
    "        \"\"\"Sets parameters for the model and base model.\n",
    "        Args:\n",
    "            **params: Optional keyword arguments.\n",
    "        \"\"\"\n",
    "                  \n",
    "        parameters = params\n",
    "        param_keys = parameters.keys()\n",
    "        \n",
    "        if 'base_model' in param_keys:\n",
    "            value = parameters.pop('base_model')\n",
    "            self.base_model = value\n",
    "            \n",
    "        if 'rules' in param_keys:\n",
    "            value = parameters.pop('rules')\n",
    "            self.rules = value\n",
    "        \n",
    "        self.base_model.set_params(**parameters)"
   ]
  },
  {
   "cell_type": "code",
   "execution_count": null,
   "id": "df309e93",
   "metadata": {},
   "outputs": [],
   "source": []
  },
  {
   "cell_type": "code",
   "execution_count": null,
   "id": "2fd77e7a",
   "metadata": {},
   "outputs": [],
   "source": []
  },
  {
   "cell_type": "code",
   "execution_count": null,
   "id": "b6c1e7d9",
   "metadata": {},
   "outputs": [],
   "source": []
  },
  {
   "cell_type": "markdown",
   "id": "c616e1ee",
   "metadata": {},
   "source": [
    "## Undersampling"
   ]
  },
  {
   "cell_type": "markdown",
   "id": "3bdf5ab5",
   "metadata": {},
   "source": [
    "We this technique we will reduce the number of observations of the mayority class(non-fraudulent transactions)"
   ]
  },
  {
   "cell_type": "code",
   "execution_count": 42,
   "id": "aeef1d54",
   "metadata": {},
   "outputs": [
    {
     "data": {
      "text/plain": [
       "0    284315\n",
       "1       492\n",
       "Name: Class, dtype: int64"
      ]
     },
     "execution_count": 42,
     "metadata": {},
     "output_type": "execute_result"
    }
   ],
   "source": [
    "# Remember the number of observations for fraud and non-fraud transactions in our original dataset. \n",
    "\n",
    "y=df['Class'].value_counts()\n",
    "y\n"
   ]
  },
  {
   "cell_type": "code",
   "execution_count": 43,
   "id": "f3be64a8",
   "metadata": {},
   "outputs": [],
   "source": [
    "\n",
    "class_1 = df.loc[df['Class'] == 1]\n",
    "class_0 =  df.loc[df['Class'] == 0][:492]"
   ]
  },
  {
   "cell_type": "code",
   "execution_count": 44,
   "id": "f3564d31",
   "metadata": {},
   "outputs": [],
   "source": [
    "under_df = pd.concat([class_0, class_1])\n"
   ]
  },
  {
   "cell_type": "code",
   "execution_count": 45,
   "id": "a25e1531",
   "metadata": {},
   "outputs": [
    {
     "data": {
      "text/plain": [
       "0    492\n",
       "1    492\n",
       "Name: Class, dtype: int64"
      ]
     },
     "execution_count": 45,
     "metadata": {},
     "output_type": "execute_result"
    }
   ],
   "source": [
    "#under_df has the same number of obersvations per clases\n",
    "under_df['Class'].value_counts()"
   ]
  },
  {
   "cell_type": "code",
   "execution_count": 46,
   "id": "db8dc334",
   "metadata": {
    "scrolled": true
   },
   "outputs": [
    {
     "data": {
      "text/html": [
       "<div>\n",
       "<style scoped>\n",
       "    .dataframe tbody tr th:only-of-type {\n",
       "        vertical-align: middle;\n",
       "    }\n",
       "\n",
       "    .dataframe tbody tr th {\n",
       "        vertical-align: top;\n",
       "    }\n",
       "\n",
       "    .dataframe thead th {\n",
       "        text-align: right;\n",
       "    }\n",
       "</style>\n",
       "<table border=\"1\" class=\"dataframe\">\n",
       "  <thead>\n",
       "    <tr style=\"text-align: right;\">\n",
       "      <th></th>\n",
       "      <th>V1</th>\n",
       "      <th>V2</th>\n",
       "      <th>V3</th>\n",
       "      <th>V4</th>\n",
       "      <th>V5</th>\n",
       "      <th>V6</th>\n",
       "      <th>V7</th>\n",
       "      <th>V8</th>\n",
       "      <th>V9</th>\n",
       "      <th>V10</th>\n",
       "      <th>...</th>\n",
       "      <th>V22</th>\n",
       "      <th>V23</th>\n",
       "      <th>V24</th>\n",
       "      <th>V25</th>\n",
       "      <th>V26</th>\n",
       "      <th>V27</th>\n",
       "      <th>V28</th>\n",
       "      <th>Amount_scaled</th>\n",
       "      <th>Time_scaled</th>\n",
       "      <th>Class</th>\n",
       "    </tr>\n",
       "  </thead>\n",
       "  <tbody>\n",
       "    <tr>\n",
       "      <th>0</th>\n",
       "      <td>-1.359807</td>\n",
       "      <td>-0.072781</td>\n",
       "      <td>2.536347</td>\n",
       "      <td>1.378155</td>\n",
       "      <td>-0.338321</td>\n",
       "      <td>0.462388</td>\n",
       "      <td>0.239599</td>\n",
       "      <td>0.098698</td>\n",
       "      <td>0.363787</td>\n",
       "      <td>0.090794</td>\n",
       "      <td>...</td>\n",
       "      <td>0.277838</td>\n",
       "      <td>-0.110474</td>\n",
       "      <td>0.066928</td>\n",
       "      <td>0.128539</td>\n",
       "      <td>-0.189115</td>\n",
       "      <td>0.133558</td>\n",
       "      <td>-0.021053</td>\n",
       "      <td>0.244964</td>\n",
       "      <td>-1.996583</td>\n",
       "      <td>0</td>\n",
       "    </tr>\n",
       "    <tr>\n",
       "      <th>1</th>\n",
       "      <td>1.191857</td>\n",
       "      <td>0.266151</td>\n",
       "      <td>0.166480</td>\n",
       "      <td>0.448154</td>\n",
       "      <td>0.060018</td>\n",
       "      <td>-0.082361</td>\n",
       "      <td>-0.078803</td>\n",
       "      <td>0.085102</td>\n",
       "      <td>-0.255425</td>\n",
       "      <td>-0.166974</td>\n",
       "      <td>...</td>\n",
       "      <td>-0.638672</td>\n",
       "      <td>0.101288</td>\n",
       "      <td>-0.339846</td>\n",
       "      <td>0.167170</td>\n",
       "      <td>0.125895</td>\n",
       "      <td>-0.008983</td>\n",
       "      <td>0.014724</td>\n",
       "      <td>-0.342475</td>\n",
       "      <td>-1.996583</td>\n",
       "      <td>0</td>\n",
       "    </tr>\n",
       "    <tr>\n",
       "      <th>2</th>\n",
       "      <td>-1.358354</td>\n",
       "      <td>-1.340163</td>\n",
       "      <td>1.773209</td>\n",
       "      <td>0.379780</td>\n",
       "      <td>-0.503198</td>\n",
       "      <td>1.800499</td>\n",
       "      <td>0.791461</td>\n",
       "      <td>0.247676</td>\n",
       "      <td>-1.514654</td>\n",
       "      <td>0.207643</td>\n",
       "      <td>...</td>\n",
       "      <td>0.771679</td>\n",
       "      <td>0.909412</td>\n",
       "      <td>-0.689281</td>\n",
       "      <td>-0.327642</td>\n",
       "      <td>-0.139097</td>\n",
       "      <td>-0.055353</td>\n",
       "      <td>-0.059752</td>\n",
       "      <td>1.160686</td>\n",
       "      <td>-1.996562</td>\n",
       "      <td>0</td>\n",
       "    </tr>\n",
       "    <tr>\n",
       "      <th>3</th>\n",
       "      <td>-0.966272</td>\n",
       "      <td>-0.185226</td>\n",
       "      <td>1.792993</td>\n",
       "      <td>-0.863291</td>\n",
       "      <td>-0.010309</td>\n",
       "      <td>1.247203</td>\n",
       "      <td>0.237609</td>\n",
       "      <td>0.377436</td>\n",
       "      <td>-1.387024</td>\n",
       "      <td>-0.054952</td>\n",
       "      <td>...</td>\n",
       "      <td>0.005274</td>\n",
       "      <td>-0.190321</td>\n",
       "      <td>-1.175575</td>\n",
       "      <td>0.647376</td>\n",
       "      <td>-0.221929</td>\n",
       "      <td>0.062723</td>\n",
       "      <td>0.061458</td>\n",
       "      <td>0.140534</td>\n",
       "      <td>-1.996562</td>\n",
       "      <td>0</td>\n",
       "    </tr>\n",
       "    <tr>\n",
       "      <th>4</th>\n",
       "      <td>-1.158233</td>\n",
       "      <td>0.877737</td>\n",
       "      <td>1.548718</td>\n",
       "      <td>0.403034</td>\n",
       "      <td>-0.407193</td>\n",
       "      <td>0.095921</td>\n",
       "      <td>0.592941</td>\n",
       "      <td>-0.270533</td>\n",
       "      <td>0.817739</td>\n",
       "      <td>0.753074</td>\n",
       "      <td>...</td>\n",
       "      <td>0.798278</td>\n",
       "      <td>-0.137458</td>\n",
       "      <td>0.141267</td>\n",
       "      <td>-0.206010</td>\n",
       "      <td>0.502292</td>\n",
       "      <td>0.219422</td>\n",
       "      <td>0.215153</td>\n",
       "      <td>-0.073403</td>\n",
       "      <td>-1.996541</td>\n",
       "      <td>0</td>\n",
       "    </tr>\n",
       "    <tr>\n",
       "      <th>...</th>\n",
       "      <td>...</td>\n",
       "      <td>...</td>\n",
       "      <td>...</td>\n",
       "      <td>...</td>\n",
       "      <td>...</td>\n",
       "      <td>...</td>\n",
       "      <td>...</td>\n",
       "      <td>...</td>\n",
       "      <td>...</td>\n",
       "      <td>...</td>\n",
       "      <td>...</td>\n",
       "      <td>...</td>\n",
       "      <td>...</td>\n",
       "      <td>...</td>\n",
       "      <td>...</td>\n",
       "      <td>...</td>\n",
       "      <td>...</td>\n",
       "      <td>...</td>\n",
       "      <td>...</td>\n",
       "      <td>...</td>\n",
       "      <td>...</td>\n",
       "    </tr>\n",
       "    <tr>\n",
       "      <th>279863</th>\n",
       "      <td>-1.927883</td>\n",
       "      <td>1.125653</td>\n",
       "      <td>-4.518331</td>\n",
       "      <td>1.749293</td>\n",
       "      <td>-1.566487</td>\n",
       "      <td>-2.010494</td>\n",
       "      <td>-0.882850</td>\n",
       "      <td>0.697211</td>\n",
       "      <td>-2.064945</td>\n",
       "      <td>-5.587794</td>\n",
       "      <td>...</td>\n",
       "      <td>-0.319189</td>\n",
       "      <td>0.639419</td>\n",
       "      <td>-0.294885</td>\n",
       "      <td>0.537503</td>\n",
       "      <td>0.788395</td>\n",
       "      <td>0.292680</td>\n",
       "      <td>0.147968</td>\n",
       "      <td>1.206024</td>\n",
       "      <td>1.565196</td>\n",
       "      <td>1</td>\n",
       "    </tr>\n",
       "    <tr>\n",
       "      <th>280143</th>\n",
       "      <td>1.378559</td>\n",
       "      <td>1.289381</td>\n",
       "      <td>-5.004247</td>\n",
       "      <td>1.411850</td>\n",
       "      <td>0.442581</td>\n",
       "      <td>-1.326536</td>\n",
       "      <td>-1.413170</td>\n",
       "      <td>0.248525</td>\n",
       "      <td>-1.127396</td>\n",
       "      <td>-3.232153</td>\n",
       "      <td>...</td>\n",
       "      <td>0.028234</td>\n",
       "      <td>-0.145640</td>\n",
       "      <td>-0.081049</td>\n",
       "      <td>0.521875</td>\n",
       "      <td>0.739467</td>\n",
       "      <td>0.389152</td>\n",
       "      <td>0.186637</td>\n",
       "      <td>-0.350191</td>\n",
       "      <td>1.569513</td>\n",
       "      <td>1</td>\n",
       "    </tr>\n",
       "    <tr>\n",
       "      <th>280149</th>\n",
       "      <td>-0.676143</td>\n",
       "      <td>1.126366</td>\n",
       "      <td>-2.213700</td>\n",
       "      <td>0.468308</td>\n",
       "      <td>-1.120541</td>\n",
       "      <td>-0.003346</td>\n",
       "      <td>-2.234739</td>\n",
       "      <td>1.210158</td>\n",
       "      <td>-0.652250</td>\n",
       "      <td>-3.463891</td>\n",
       "      <td>...</td>\n",
       "      <td>0.834108</td>\n",
       "      <td>0.190944</td>\n",
       "      <td>0.032070</td>\n",
       "      <td>-0.739695</td>\n",
       "      <td>0.471111</td>\n",
       "      <td>0.385107</td>\n",
       "      <td>0.194361</td>\n",
       "      <td>-0.041818</td>\n",
       "      <td>1.569597</td>\n",
       "      <td>1</td>\n",
       "    </tr>\n",
       "    <tr>\n",
       "      <th>281144</th>\n",
       "      <td>-3.113832</td>\n",
       "      <td>0.585864</td>\n",
       "      <td>-5.399730</td>\n",
       "      <td>1.817092</td>\n",
       "      <td>-0.840618</td>\n",
       "      <td>-2.943548</td>\n",
       "      <td>-2.208002</td>\n",
       "      <td>1.058733</td>\n",
       "      <td>-1.632333</td>\n",
       "      <td>-5.245984</td>\n",
       "      <td>...</td>\n",
       "      <td>-0.269209</td>\n",
       "      <td>-0.456108</td>\n",
       "      <td>-0.183659</td>\n",
       "      <td>-0.328168</td>\n",
       "      <td>0.606116</td>\n",
       "      <td>0.884876</td>\n",
       "      <td>-0.253700</td>\n",
       "      <td>0.626302</td>\n",
       "      <td>1.582548</td>\n",
       "      <td>1</td>\n",
       "    </tr>\n",
       "    <tr>\n",
       "      <th>281674</th>\n",
       "      <td>1.991976</td>\n",
       "      <td>0.158476</td>\n",
       "      <td>-2.583441</td>\n",
       "      <td>0.408670</td>\n",
       "      <td>1.151147</td>\n",
       "      <td>-0.096695</td>\n",
       "      <td>0.223050</td>\n",
       "      <td>-0.068384</td>\n",
       "      <td>0.577829</td>\n",
       "      <td>-0.888722</td>\n",
       "      <td>...</td>\n",
       "      <td>-0.295135</td>\n",
       "      <td>-0.072173</td>\n",
       "      <td>-0.450261</td>\n",
       "      <td>0.313267</td>\n",
       "      <td>-0.289617</td>\n",
       "      <td>0.002988</td>\n",
       "      <td>-0.015309</td>\n",
       "      <td>-0.183191</td>\n",
       "      <td>1.590592</td>\n",
       "      <td>1</td>\n",
       "    </tr>\n",
       "  </tbody>\n",
       "</table>\n",
       "<p>984 rows × 31 columns</p>\n",
       "</div>"
      ],
      "text/plain": [
       "              V1        V2        V3        V4        V5        V6        V7  \\\n",
       "0      -1.359807 -0.072781  2.536347  1.378155 -0.338321  0.462388  0.239599   \n",
       "1       1.191857  0.266151  0.166480  0.448154  0.060018 -0.082361 -0.078803   \n",
       "2      -1.358354 -1.340163  1.773209  0.379780 -0.503198  1.800499  0.791461   \n",
       "3      -0.966272 -0.185226  1.792993 -0.863291 -0.010309  1.247203  0.237609   \n",
       "4      -1.158233  0.877737  1.548718  0.403034 -0.407193  0.095921  0.592941   \n",
       "...          ...       ...       ...       ...       ...       ...       ...   \n",
       "279863 -1.927883  1.125653 -4.518331  1.749293 -1.566487 -2.010494 -0.882850   \n",
       "280143  1.378559  1.289381 -5.004247  1.411850  0.442581 -1.326536 -1.413170   \n",
       "280149 -0.676143  1.126366 -2.213700  0.468308 -1.120541 -0.003346 -2.234739   \n",
       "281144 -3.113832  0.585864 -5.399730  1.817092 -0.840618 -2.943548 -2.208002   \n",
       "281674  1.991976  0.158476 -2.583441  0.408670  1.151147 -0.096695  0.223050   \n",
       "\n",
       "              V8        V9       V10  ...       V22       V23       V24  \\\n",
       "0       0.098698  0.363787  0.090794  ...  0.277838 -0.110474  0.066928   \n",
       "1       0.085102 -0.255425 -0.166974  ... -0.638672  0.101288 -0.339846   \n",
       "2       0.247676 -1.514654  0.207643  ...  0.771679  0.909412 -0.689281   \n",
       "3       0.377436 -1.387024 -0.054952  ...  0.005274 -0.190321 -1.175575   \n",
       "4      -0.270533  0.817739  0.753074  ...  0.798278 -0.137458  0.141267   \n",
       "...          ...       ...       ...  ...       ...       ...       ...   \n",
       "279863  0.697211 -2.064945 -5.587794  ... -0.319189  0.639419 -0.294885   \n",
       "280143  0.248525 -1.127396 -3.232153  ...  0.028234 -0.145640 -0.081049   \n",
       "280149  1.210158 -0.652250 -3.463891  ...  0.834108  0.190944  0.032070   \n",
       "281144  1.058733 -1.632333 -5.245984  ... -0.269209 -0.456108 -0.183659   \n",
       "281674 -0.068384  0.577829 -0.888722  ... -0.295135 -0.072173 -0.450261   \n",
       "\n",
       "             V25       V26       V27       V28  Amount_scaled  Time_scaled  \\\n",
       "0       0.128539 -0.189115  0.133558 -0.021053       0.244964    -1.996583   \n",
       "1       0.167170  0.125895 -0.008983  0.014724      -0.342475    -1.996583   \n",
       "2      -0.327642 -0.139097 -0.055353 -0.059752       1.160686    -1.996562   \n",
       "3       0.647376 -0.221929  0.062723  0.061458       0.140534    -1.996562   \n",
       "4      -0.206010  0.502292  0.219422  0.215153      -0.073403    -1.996541   \n",
       "...          ...       ...       ...       ...            ...          ...   \n",
       "279863  0.537503  0.788395  0.292680  0.147968       1.206024     1.565196   \n",
       "280143  0.521875  0.739467  0.389152  0.186637      -0.350191     1.569513   \n",
       "280149 -0.739695  0.471111  0.385107  0.194361      -0.041818     1.569597   \n",
       "281144 -0.328168  0.606116  0.884876 -0.253700       0.626302     1.582548   \n",
       "281674  0.313267 -0.289617  0.002988 -0.015309      -0.183191     1.590592   \n",
       "\n",
       "        Class  \n",
       "0           0  \n",
       "1           0  \n",
       "2           0  \n",
       "3           0  \n",
       "4           0  \n",
       "...       ...  \n",
       "279863      1  \n",
       "280143      1  \n",
       "280149      1  \n",
       "281144      1  \n",
       "281674      1  \n",
       "\n",
       "[984 rows x 31 columns]"
      ]
     },
     "execution_count": 46,
     "metadata": {},
     "output_type": "execute_result"
    }
   ],
   "source": [
    "under_df"
   ]
  },
  {
   "cell_type": "markdown",
   "id": "9b5e3dd0",
   "metadata": {},
   "source": [
    "### Visual representation"
   ]
  },
  {
   "cell_type": "code",
   "execution_count": 47,
   "id": "8113981d",
   "metadata": {},
   "outputs": [
    {
     "name": "stderr",
     "output_type": "stream",
     "text": [
      "C:\\Users\\Merche\\anaconda3\\envs\\Da_Env1\\lib\\site-packages\\seaborn\\_decorators.py:36: FutureWarning: Pass the following variable as a keyword arg: x. From version 0.12, the only valid positional argument will be `data`, and passing other arguments without an explicit keyword will result in an error or misinterpretation.\n",
      "  warnings.warn(\n"
     ]
    },
    {
     "data": {
      "text/plain": [
       "Text(0.5, 1.0, 'Class Distributions \\n (0: No Fraud || 1: Fraud)')"
      ]
     },
     "execution_count": 47,
     "metadata": {},
     "output_type": "execute_result"
    },
    {
     "data": {
      "image/png": "[encoded data removed]",
      "text/plain": [
       "<Figure size 400x400 with 1 Axes>"
      ]
     },
     "metadata": {},
     "output_type": "display_data"
    }
   ],
   "source": [
    "#Bar chart: Bar chart is very straightforward\n",
    "\n",
    "fig,ax=plt.subplots(figsize=(4,4))\n",
    "sns.countplot('Class', data=under_df, palette=\"Set2\")\n",
    "plt.title('Class Distributions \\n (0: No Fraud || 1: Fraud)', fontsize=14)"
   ]
  },
  {
   "cell_type": "code",
   "execution_count": 48,
   "id": "b87a4d28",
   "metadata": {},
   "outputs": [],
   "source": [
    "#Of ocurse, we can also use the scatter plot.\n",
    "\n",
    "X_under=under_df.iloc[:,0:30].values\n",
    "y_under=under_df.Class.values"
   ]
  },
  {
   "cell_type": "code",
   "execution_count": 49,
   "id": "c76860eb",
   "metadata": {},
   "outputs": [],
   "source": [
    "def plot_data(X_under: np.ndarray, y_under: np.ndarray):\n",
    "    \n",
    " \n",
    "    sns.set_palette(\"Set2\")\n",
    "    \n",
    "    sns.scatterplot(X_under[y_under == 0, 0], X_under[y_under == 0, 1], label=\"Class #0\", alpha=0.5, linewidth=0.15)\n",
    "    sns.scatterplot(X_under[y_under == 1, 0], X_under[y_under == 1, 1], label=\"Class #1\", alpha=0.5, linewidth=0.15)\n",
    "    \n",
    "    plt.legend()\n",
    "    \n",
    "    return plt.show()"
   ]
  },
  {
   "cell_type": "code",
   "execution_count": 50,
   "id": "16e741db",
   "metadata": {},
   "outputs": [
    {
     "name": "stderr",
     "output_type": "stream",
     "text": [
      "C:\\Users\\Merche\\anaconda3\\envs\\Da_Env1\\lib\\site-packages\\seaborn\\_decorators.py:36: FutureWarning: Pass the following variables as keyword args: x, y. From version 0.12, the only valid positional argument will be `data`, and passing other arguments without an explicit keyword will result in an error or misinterpretation.\n",
      "  warnings.warn(\n",
      "C:\\Users\\Merche\\anaconda3\\envs\\Da_Env1\\lib\\site-packages\\seaborn\\_decorators.py:36: FutureWarning: Pass the following variables as keyword args: x, y. From version 0.12, the only valid positional argument will be `data`, and passing other arguments without an explicit keyword will result in an error or misinterpretation.\n",
      "  warnings.warn(\n"
     ]
    },
    {
     "data": {
      "image/png": "[encoded data removed]",
      "text/plain": [
       "<Figure size 640x480 with 1 Axes>"
      ]
     },
     "metadata": {},
     "output_type": "display_data"
    }
   ],
   "source": [
    "plot_data(X_under,y_under)"
   ]
  },
  {
   "cell_type": "code",
   "execution_count": 51,
   "id": "50b57d48",
   "metadata": {},
   "outputs": [],
   "source": [
    "X = under_df.drop('Class', axis=1)\n",
    "y = under_df['Class']"
   ]
  },
  {
   "cell_type": "code",
   "execution_count": 52,
   "id": "c42d66a4",
   "metadata": {},
   "outputs": [],
   "source": [
    "X_train, X_test, y_train, y_test = train_test_split(X, y, test_size=0.3, random_state=1000)"
   ]
  },
  {
   "cell_type": "code",
   "execution_count": 68,
   "id": "3fba7c48",
   "metadata": {},
   "outputs": [
    {
     "name": "stdout",
     "output_type": "stream",
     "text": [
      "Logisitic Regression model recall score:0.98\n",
      "Decision Trees model recall score:0.91\n",
      "Random Forest  model recall score:0.98\n",
      "Adaboost model recall score:0.91\n",
      "Gradient Boosting model recall score:0.91\n"
     ]
    }
   ],
   "source": [
    "# Classifier Selection\n",
    "\n",
    "models = {\n",
    "    \"Logisitic Regression\": LogisticRegression(),\n",
    "    \"Decision Trees\": DecisionTreeClassifier(),\n",
    "    \"Random Forest \": RandomForestClassifier(),\n",
    "    \"Adaboost\": AdaBoostClassifier(),\n",
    "    \"Gradient Boosting\": GradientBoostingClassifier()\n",
    "}\n",
    "\n",
    "\n",
    "# Cross validation score for different classifiers\n",
    "\n",
    "\n",
    "for key, model in models.items():\n",
    "    model.fit(X_train,y_train)\n",
    "    score = cross_val_score(model, X, y, scoring='recall',cv=5)\n",
    "    print(f'{key} model recall score:{round(score.mean(), 2)}')"
   ]
  },
  {
   "cell_type": "markdown",
   "id": "c829fc23",
   "metadata": {},
   "source": [
    "### Hyperparameter tunning"
   ]
  },
  {
   "cell_type": "markdown",
   "id": "4f65cca7",
   "metadata": {},
   "source": [
    "#### Logistic Regression"
   ]
  },
  {
   "cell_type": "code",
   "execution_count": 69,
   "id": "1a5d5544",
   "metadata": {},
   "outputs": [
    {
     "name": "stderr",
     "output_type": "stream",
     "text": [
      "C:\\Users\\Merche\\anaconda3\\envs\\Da_Env1\\lib\\site-packages\\sklearn\\model_selection\\_validation.py:378: FitFailedWarning: \n",
      "20 fits failed out of a total of 40.\n",
      "The score on these train-test partitions for these parameters will be set to nan.\n",
      "If these failures are not expected, you can try to debug them by setting error_score='raise'.\n",
      "\n",
      "Below are more details about the failures:\n",
      "--------------------------------------------------------------------------------\n",
      "20 fits failed with the following error:\n",
      "Traceback (most recent call last):\n",
      "  File \"C:\\Users\\Merche\\anaconda3\\envs\\Da_Env1\\lib\\site-packages\\sklearn\\model_selection\\_validation.py\", line 686, in _fit_and_score\n",
      "    estimator.fit(X_train, y_train, **fit_params)\n",
      "  File \"C:\\Users\\Merche\\anaconda3\\envs\\Da_Env1\\lib\\site-packages\\sklearn\\linear_model\\_logistic.py\", line 1091, in fit\n",
      "    solver = _check_solver(self.solver, self.penalty, self.dual)\n",
      "  File \"C:\\Users\\Merche\\anaconda3\\envs\\Da_Env1\\lib\\site-packages\\sklearn\\linear_model\\_logistic.py\", line 61, in _check_solver\n",
      "    raise ValueError(\n",
      "ValueError: Solver lbfgs supports only 'l2' or 'none' penalties, got l1 penalty.\n",
      "\n",
      "  warnings.warn(some_fits_failed_message, FitFailedWarning)\n",
      "C:\\Users\\Merche\\anaconda3\\envs\\Da_Env1\\lib\\site-packages\\sklearn\\model_selection\\_search.py:953: UserWarning: One or more of the test scores are non-finite: [       nan 0.90328218        nan 0.98827792        nan 0.99117647\n",
      "        nan 0.99117647]\n",
      "  warnings.warn(\n"
     ]
    }
   ],
   "source": [
    "logreg_hyperparameters = {\"penalty\": ['l1','l2'], \n",
    "                          'C': [0.01,1,10,100]}\n",
    "\n",
    "search=GridSearchCV(LogisticRegression(), logreg_hyperparameters, scoring='recall',n_jobs=-1,cv=5)\n",
    "result_logreg_under=search.fit(X_train, y_train)\n",
    "\n",
    "y_pred_logreg_under=result_logreg_under.predict(X_test)\n",
    "y_pred_probs_logreg_under = result_logreg_under.predict_proba(X_test)[:,1]\n"
   ]
  },
  {
   "cell_type": "code",
   "execution_count": 70,
   "id": "eeeb0f59",
   "metadata": {},
   "outputs": [
    {
     "name": "stdout",
     "output_type": "stream",
     "text": [
      "Best recall Score: 0.9911764705882353\n",
      "Best Hyperparameters: {'C': 10, 'penalty': 'l2'}\n"
     ]
    }
   ],
   "source": [
    "print('Best recall Score: %s' % result_logreg_under.best_score_)\n",
    "print('Best Hyperparameters: %s' % result_logreg_under.best_params_)"
   ]
  },
  {
   "cell_type": "markdown",
   "id": "9c5114ee",
   "metadata": {},
   "source": [
    "#### Decision Tree"
   ]
  },
  {
   "cell_type": "code",
   "execution_count": 71,
   "id": "5aeab8c4",
   "metadata": {},
   "outputs": [],
   "source": [
    "hyperparameters = {\"criterion\": [\"gini\", \"entropy\"],\n",
    "                   \"max_depth\":list(range(2,4,1)),\n",
    "                   \"min_samples_leaf\": list(range(5,7,1))}\n",
    "\n",
    "search = GridSearchCV(DecisionTreeClassifier(), hyperparameters,scoring='recall', n_jobs=-1, cv=5)\n",
    "result_dtc_under=search.fit(X_train, y_train)\n",
    "\n",
    "y_pred_dtc_under=result_dtc_under.predict(X_test)\n",
    "y_pred_probs_dtc_under = result_dtc_under.predict_proba(X_test)[:,1]"
   ]
  },
  {
   "cell_type": "code",
   "execution_count": 72,
   "id": "a300746a",
   "metadata": {},
   "outputs": [
    {
     "name": "stdout",
     "output_type": "stream",
     "text": [
      "Best recall Score: 0.9970588235294118\n",
      "Best Hyperparameters: {'criterion': 'gini', 'max_depth': 2, 'min_samples_leaf': 5}\n"
     ]
    }
   ],
   "source": [
    "print('Best recall Score: %s' % result_dtc_under.best_score_)\n",
    "print('Best Hyperparameters: %s' % result_dtc_under.best_params_)"
   ]
  },
  {
   "cell_type": "markdown",
   "id": "343a53c4",
   "metadata": {},
   "source": [
    "#### Random Forest"
   ]
  },
  {
   "cell_type": "code",
   "execution_count": 73,
   "id": "acee7b39",
   "metadata": {},
   "outputs": [],
   "source": [
    "# Hyperparameter tunning for random forest:\n",
    "\n",
    "\n",
    "rfc_hyperparameters = {'n_estimators': [1,30],\n",
    "              'max_features': ['sqrt', 'log2'], \n",
    "              'max_depth': [2,4,8,10],\n",
    "              'criterion': ['gini', 'entropy']}\n",
    "\n",
    "\n",
    "search = GridSearchCV(RandomForestClassifier(), rfc_hyperparameters, scoring='recall', n_jobs=-1, cv=5)\n",
    "result_rfc_under=search.fit(X_train, y_train)\n",
    "\n",
    "y_pred_rfc_under=result_rfc_under.predict(X_test)\n",
    "y_pred_probs_rfc_under = result_rfc_under.predict_proba(X_test)[:,1]"
   ]
  },
  {
   "cell_type": "code",
   "execution_count": 74,
   "id": "77d17e9a",
   "metadata": {},
   "outputs": [
    {
     "name": "stdout",
     "output_type": "stream",
     "text": [
      "Best recall Score: 0.9970588235294118\n",
      "Best Hyperparameters: {'criterion': 'gini', 'max_depth': 8, 'max_features': 'sqrt', 'n_estimators': 30}\n"
     ]
    }
   ],
   "source": [
    "print('Best recall Score: %s' % result_rfc_under.best_score_)\n",
    "print('Best Hyperparameters: %s' % result_rfc_under.best_params_)"
   ]
  },
  {
   "cell_type": "markdown",
   "id": "0e86fdfe",
   "metadata": {},
   "source": [
    "#### Adaboost"
   ]
  },
  {
   "cell_type": "code",
   "execution_count": 79,
   "id": "a6e15589",
   "metadata": {},
   "outputs": [],
   "source": [
    "ada_hyperparameters = {'n_estimators': [50,100,150],\n",
    "                       'learning_rate': [0.01,0.1,0.2,0.5]}\n",
    "\n",
    "\n",
    "search = GridSearchCV(AdaBoostClassifier(), ada_hyperparameters, scoring='recall', n_jobs=-1, cv=5,refit=True)\n",
    "result_ada_under=search.fit(X_train, y_train)\n",
    "y_pre_ada_under=result_ada_under.predict(X_test)\n",
    "y_pred_probs_ada_under = result_ada_under.predict_proba(X_test)[:,1]"
   ]
  },
  {
   "cell_type": "code",
   "execution_count": 76,
   "id": "85ab770a",
   "metadata": {},
   "outputs": [
    {
     "name": "stdout",
     "output_type": "stream",
     "text": [
      "Best recall Score: 0.9970588235294118\n",
      "Best Hyperparameters: {'learning_rate': 0.01, 'n_estimators': 50}\n"
     ]
    }
   ],
   "source": [
    "print('Best recall Score: %s' % result_ada_under.best_score_)\n",
    "print('Best Hyperparameters: %s' % result_ada_under.best_params_)"
   ]
  },
  {
   "cell_type": "markdown",
   "id": "5fcb5575",
   "metadata": {},
   "source": [
    "#### Gradient Boosting"
   ]
  },
  {
   "cell_type": "code",
   "execution_count": 81,
   "id": "7e9359a4",
   "metadata": {},
   "outputs": [],
   "source": [
    "gb_hyperparameters = {\"n_estimators\":[1,30,60,100],\n",
    "                      \"max_depth\":[2,4,8,10],\n",
    "                      \"learning_rate\":[0.01,0.1,0.2,0.5],\n",
    "                     \"criterion\":[\"friedman_mse\", \"squared_error\",\"mse\"]}\n",
    "\n",
    "\n",
    "search = GridSearchCV(GradientBoostingClassifier(), gb_hyperparameters, scoring='recall', n_jobs=-1, cv=5)\n",
    "result_gb_under=search.fit(X_train, y_train)\n",
    "\n",
    "y_pre_gb_under=result_gb_under.predict(X_test)\n",
    "y_pred_probs_gb_under = result_gb_under.predict_proba(X_test)[:,1]"
   ]
  },
  {
   "cell_type": "code",
   "execution_count": 78,
   "id": "ccf48819",
   "metadata": {},
   "outputs": [
    {
     "name": "stdout",
     "output_type": "stream",
     "text": [
      "Best recall Score: 0.9970588235294118\n",
      "Best Hyperparameters: {'criterion': 'friedman_mse', 'learning_rate': 0.01, 'max_depth': 2, 'n_estimators': 30}\n"
     ]
    }
   ],
   "source": [
    "print('Best recall Score: %s' % result_gb_under.best_score_)\n",
    "print('Best Hyperparameters: %s' % result_gb_under.best_params_)"
   ]
  },
  {
   "cell_type": "markdown",
   "id": "b178b661",
   "metadata": {},
   "source": [
    "### Model Comparison"
   ]
  },
  {
   "cell_type": "code",
   "execution_count": 84,
   "id": "475b16fd",
   "metadata": {},
   "outputs": [
    {
     "data": {
      "text/plain": [
       "[<matplotlib.lines.Line2D at 0x19e8a192da0>]"
      ]
     },
     "execution_count": 84,
     "metadata": {},
     "output_type": "execute_result"
    },
    {
     "data": {
      "image/png": "[encoded data removed]",
      "text/plain": [
       "<Figure size 640x480 with 1 Axes>"
      ]
     },
     "metadata": {},
     "output_type": "display_data"
    }
   ],
   "source": [
    "#decision tree\n",
    "fpr, tpr, _ = metrics.roc_curve(y_test, y_pred_probs_dtc_under)\n",
    "auc = round(metrics.roc_auc_score(y_test, y_pred_probs_dtc_under), 4)\n",
    "plt.plot(fpr,tpr,label=\"Descision Tree, AUC=\"+str(auc))\n"
   ]
  },
  {
   "cell_type": "code",
   "execution_count": null,
   "id": "81da20a1",
   "metadata": {},
   "outputs": [],
   "source": [
    "#decision tree\n",
    "fpr, tpr, _ = metrics.roc_curve(y_test, y_pred_probs_dtc_under)\n",
    "auc = round(metrics.roc_auc_score(y_test, y_pred_probs_dtc_under), 4)\n",
    "plt.plot(fpr,tpr,label=\"Descision Tree, AUC=\"+str(auc))\n",
    "\n",
    "\n",
    "#random forest\n",
    "fpr, tpr, _ = metrics.roc_curve(y_test, y_pred_probs_rfc_under)\n",
    "auc = round(metrics.roc_auc_score(y_test, y_pred_probs_rfc_under), 4)\n",
    "plt.plot(fpr,tpr,label=\"Random forest, AUC=\"+str(auc))\n",
    "\n",
    "\n",
    "#adaboost\n",
    "fpr, tpr, _ = metrics.roc_curve(y_test, y_pred_probs_ada_under)\n",
    "auc = round(metrics.roc_auc_score(y_test,y_pred_probs_ada_under), 4)\n",
    "plt.plot(fpr,tpr,label=\"Adaboost, AUC=\"+str(auc))\n",
    "\n",
    "#gradient boosting\n",
    "fpr, tpr, _ = metrics.roc_curve(y_test, y_pred_probs_gb_under )\n",
    "auc = round(roc_auc_score(y_test, y_pred_probs_gb_under), 4)\n",
    "plt.plot(fpr,tpr,label=\"Gradient Boosting, AUC=\"+str(auc))\n"
   ]
  },
  {
   "cell_type": "markdown",
   "id": "bb23067a",
   "metadata": {},
   "source": [
    "##  Synthetic Minority Oversampling Technique (SMOTE)"
   ]
  },
  {
   "cell_type": "markdown",
   "id": "dc37c3f7",
   "metadata": {},
   "source": [
    "One of the techniques to handle the class imbalance problem is to resample the original training dataset. Resampling can be done either by oversampling the minority class(fraud transactions) or undersampling the majority class (non-fraudulent transactions) until both classes are equally represented.\n",
    "\n",
    "SMOTE is an oversampling techniques that create new synthetic points along the segments connecting a group of neighbors."
   ]
  },
  {
   "cell_type": "code",
   "execution_count": null,
   "id": "3c1f31a4",
   "metadata": {},
   "outputs": [],
   "source": [
    "\n",
    "X=df.iloc[:,0:30].values\n",
    "y=df.Class.values"
   ]
  },
  {
   "cell_type": "code",
   "execution_count": null,
   "id": "e3a0cf11",
   "metadata": {},
   "outputs": [],
   "source": [
    "print(f'X shape: {X.shape}\\ny shape: {y.shape}')"
   ]
  },
  {
   "cell_type": "code",
   "execution_count": null,
   "id": "e7784b66",
   "metadata": {},
   "outputs": [],
   "source": [
    "\n",
    "# Define the resampling method\n",
    "method = SMOTE(random_state=42)\n"
   ]
  },
  {
   "cell_type": "code",
   "execution_count": null,
   "id": "097b7ec1",
   "metadata": {},
   "outputs": [],
   "source": [
    "# Create the resampled feature set\n",
    "X_sm, y_sm = method.fit_resample(X, y)"
   ]
  },
  {
   "cell_type": "code",
   "execution_count": null,
   "id": "aebccb8d",
   "metadata": {},
   "outputs": [],
   "source": [
    "# confirm there is the same number of fraudulent and no-fraudulent transactions. \n",
    "\n",
    "pd.value_counts(pd.Series(y_sm))\n"
   ]
  },
  {
   "cell_type": "code",
   "execution_count": null,
   "id": "2810cea0",
   "metadata": {},
   "outputs": [],
   "source": [
    "# Plot the resampled data\n",
    "plot_data(X_sm, y_sm)"
   ]
  },
  {
   "cell_type": "code",
   "execution_count": null,
   "id": "b5c96395",
   "metadata": {},
   "outputs": [],
   "source": [
    "def compare_plot(X: np.ndarray, y: np.ndarray, X_resampled: np.ndarray, y_resampled: np.ndarray, method: str):\n",
    "    sns.set_palette(\"Set2\")\n",
    "    plt.subplot(1, 2, 1)\n",
    "    plt.scatter(X[y == 0, 0], X[y == 0, 1], label=\"Class #0\", alpha=0.5, linewidth=0.15)\n",
    "    plt.scatter(X[y == 1, 0], X[y == 1, 1], label=\"Class #1\", alpha=0.5, linewidth=0.15)\n",
    "    plt.title('Original Set')\n",
    "    plt.subplot(1, 2, 2)\n",
    "    plt.scatter(X_sm[y_sm == 0, 0], X_sm[y_sm == 0, 1], label=\"Class #0\", alpha=0.5, linewidth=0.15)\n",
    "    plt.scatter(X_sm[y_sm == 1, 0], X_sm[y_sm == 1, 1], label=\"Class #1\", alpha=0.5, linewidth=0.15)\n",
    "    plt.title(method)\n",
    "    plt.legend()\n",
    "    plt.show()"
   ]
  },
  {
   "cell_type": "code",
   "execution_count": null,
   "id": "d8d8fd6e",
   "metadata": {
    "scrolled": false
   },
   "outputs": [],
   "source": [
    "compare_plot(X, y, X_sm, y_sm, method='SMOTE')"
   ]
  },
  {
   "cell_type": "markdown",
   "id": "8ea128a9",
   "metadata": {},
   "source": [
    "## XY split"
   ]
  },
  {
   "cell_type": "code",
   "execution_count": null,
   "id": "8f49a827",
   "metadata": {},
   "outputs": [],
   "source": [
    "X_sm_train, X_sm_test, y_sm_train, y_sm_test=train_test_split(X_sm,y_sm,test_size=0.30, random_state=1000)"
   ]
  },
  {
   "cell_type": "markdown",
   "id": "be05e504",
   "metadata": {},
   "source": [
    "### Logistic Regression with SMOTE"
   ]
  },
  {
   "cell_type": "code",
   "execution_count": null,
   "id": "c8f2d80c",
   "metadata": {},
   "outputs": [],
   "source": [
    "#Define the resampling method and the model the model:\n",
    "resampling = SMOTE()\n",
    "logreg = LogisticRegression()\n",
    "  \n",
    "\n",
    "# Define the pipeline, tell it to combine SMOTE with the Logistic Regression model\n",
    "pipeline = Pipeline([('SMOTE', resampling), ('Logistic Regression', logreg)])\n",
    "\n",
    "# XY split:\n",
    "X_train, X_test, y_train, y_test=train_test_split(X,y,test_size=0.30, random_state=1000)\n",
    "\n",
    "\n",
    "#fit the pipeline into the training set:\n",
    "pipeline.fit(X_train, y_train) \n",
    "\n",
    "#Get predictions:\n",
    "predicted_logreg_sm = pipeline.predict(X_test)\n",
    "\n"
   ]
  },
  {
   "cell_type": "code",
   "execution_count": null,
   "id": "da9e1858",
   "metadata": {},
   "outputs": [],
   "source": [
    "#Calculate the accuracy\n",
    "print(\"accuracy for Logistic Regression with SMOTE: \",accuracy_score(y_test, predicted_logreg_sm))"
   ]
  },
  {
   "cell_type": "code",
   "execution_count": null,
   "id": "a274015e",
   "metadata": {},
   "outputs": [],
   "source": [
    "#print classification report for the test set\n",
    "print(\"Classification report for the test set\")\n",
    "print(classification_report(y_test,predicted_logreg_sm))"
   ]
  },
  {
   "cell_type": "markdown",
   "id": "1d2c7d6a",
   "metadata": {},
   "source": [
    "### Decision Tree with SMOTE"
   ]
  },
  {
   "cell_type": "code",
   "execution_count": null,
   "id": "a9d2c69c",
   "metadata": {},
   "outputs": [],
   "source": [
    "#Define the resampling method and the model the model:\n",
    "resampling = SMOTE()\n",
    "model = DecisionTreeClassifier()\n",
    "\n",
    "# Define the pipeline, tell it to combine SMOTE with the Logistic Regression model\n",
    "pipeline = Pipeline([('SMOTE', resampling), ('Decision Tree', model)])\n",
    "\n",
    "# XY split:\n",
    "X_train, X_test, y_train, y_test=train_test_split(X,y,test_size=0.30, random_state=1000)\n",
    "\n",
    "\n",
    "#fit the pipeline into the training set:\n",
    "pipeline.fit(X_train, y_train) \n",
    "\n",
    "#Get predictions:\n",
    "predicted_dtc_sm = pipeline.predict(X_test)\n",
    "\n",
    "#Calculate the accuracy\n",
    "print(\"accuracy for Decision Tree with SMOTE: \",accuracy_score(y_test, predicted_dtc_sm))"
   ]
  },
  {
   "cell_type": "code",
   "execution_count": null,
   "id": "4aecf2b6",
   "metadata": {},
   "outputs": [],
   "source": [
    "#print classification report for the test set\n",
    "print(\"Classification report for the test set\")\n",
    "print(classification_report(y_test,predicted_dtc_sm))"
   ]
  },
  {
   "cell_type": "markdown",
   "id": "756f94ce",
   "metadata": {},
   "source": [
    "### Random Forest with SMOTE"
   ]
  },
  {
   "cell_type": "code",
   "execution_count": null,
   "id": "cd2b33c3",
   "metadata": {},
   "outputs": [],
   "source": [
    "#Define the resampling method and the model the model:\n",
    "resampling = SMOTE()\n",
    "model = RandomForestClassifier()\n",
    "\n",
    "# Define the pipeline, tell it to combine SMOTE with the Logistic Regression model\n",
    "pipeline = Pipeline([('SMOTE', resampling), ('Random Forest', model)])\n",
    "\n",
    "# XY split:\n",
    "X_train, X_test, y_train, y_test=train_test_split(X,y,test_size=0.30, random_state=1000)\n",
    "\n",
    "\n",
    "#fit the pipeline into the training set:\n",
    "pipeline.fit(X_train, y_train) \n",
    "\n",
    "#Get predictions:\n",
    "predicted_rfc_sm = pipeline.predict(X_test)\n",
    "\n",
    "#Calculate the accuracy\n",
    "print(\"accuracy for Random Forest with SMOTE: \",accuracy_score(y_test, predicted_rfc_sm))"
   ]
  },
  {
   "cell_type": "code",
   "execution_count": null,
   "id": "aae3e2fc",
   "metadata": {},
   "outputs": [],
   "source": [
    "#print classification report for the test set\n",
    "print(\"Classification report for the test set\")\n",
    "print(classification_report(y_test,predicted_rfc_sm))"
   ]
  },
  {
   "cell_type": "markdown",
   "id": "be06df54",
   "metadata": {},
   "source": [
    "### Adaboost with SMOTE"
   ]
  },
  {
   "cell_type": "code",
   "execution_count": null,
   "id": "4c94b54c",
   "metadata": {},
   "outputs": [],
   "source": [
    "#Define the resampling method and the model the model:\n",
    "resampling = SMOTE()\n",
    "model = AdaBoostClassifier(learning_rate= 0.8, n_estimators= 100)\n",
    "\n",
    "# Define the pipeline, tell it to combine SMOTE with the Logistic Regression model\n",
    "pipeline = Pipeline([('SMOTE', resampling), ('Adaboost', model)])\n",
    "\n",
    "# XY split:\n",
    "X_train, X_test, y_train, y_test= train_test_split(X,y,test_size=0.30, random_state=1000)\n",
    "\n",
    "\n",
    "#fit the pipeline into the training set:\n",
    "pipeline.fit(X_train, y_train) \n",
    "\n",
    "#Get predictions:\n",
    "predicted_ada_sm = pipeline.predict(X_test)\n",
    "\n",
    "#Calculate the accuracy\n",
    "print(\"accuracy for Adaboost with SMOTE: \",accuracy_score(y_test, predicted_ada_sm))"
   ]
  },
  {
   "cell_type": "code",
   "execution_count": null,
   "id": "cea3c72f",
   "metadata": {},
   "outputs": [],
   "source": [
    "#print classification report for the test set\n",
    "print(\"Classification report for the test set\")\n",
    "print(classification_report(y_test,predicted_ada_sm))"
   ]
  },
  {
   "cell_type": "markdown",
   "id": "aac6dd06",
   "metadata": {},
   "source": [
    "In general terms, Logistic Regression, Decision Trees and Adaboost model do not improve after applying SMOTE. In all these model the precision decreased which means the number of falses positives (False alarms) increases. \n",
    "\n",
    "Random Forest model with the best balance between precision and recall, Besides of getting an accuracy of 0.999426.\n",
    "\n",
    "Let's see how many fraudulent cases we can detect now. "
   ]
  },
  {
   "cell_type": "code",
   "execution_count": null,
   "id": "1ff5636e",
   "metadata": {
    "scrolled": false
   },
   "outputs": [],
   "source": [
    "print(\"Confusion matrix for the test set\")\n",
    "print(confusion_matrix(y_test, predicted_rfc_sm))\n",
    "conf_mat = confusion_matrix(y_test,predicted_rfc_sm)\n",
    "sns.heatmap(conf_mat, square=True, annot=True, cmap='icefire', fmt='d', cbar=False)\n",
    "\n",
    "plt.show()"
   ]
  },
  {
   "cell_type": "markdown",
   "id": "e05c9e00",
   "metadata": {},
   "source": [
    "After SMOTE, Random Forest model can detect the 82.23% of fraudulent transactions (125 of 152 cases) with a relative slow number a false positives. "
   ]
  },
  {
   "cell_type": "markdown",
   "id": "f5116798",
   "metadata": {},
   "source": [
    "## Model comparison"
   ]
  },
  {
   "cell_type": "code",
   "execution_count": null,
   "id": "7dbfe163",
   "metadata": {},
   "outputs": [],
   "source": [
    "#\n",
    "fpr, tpr, _ = metrics.roc_curve(y_test, y_pred_probs)\n",
    "auc = round(metrics.roc_auc_score(y_test, y_pred_probs), 4)\n",
    "plt.plot(fpr,tpr,label=\"Logistic Regression, AUC=\"+str(auc))\n",
    "\n",
    "\n",
    "\n",
    "\n",
    "#knn\n",
    "fpr, tpr, _ = metrics.roc_curve(y_test, y_pred_probs_knn)\n",
    "auc = round(metrics.roc_auc_score(y_test, y_pred_probs_knn), 4)\n",
    "plt.plot(fpr,tpr,label=\"Knn, AUC=\"+str(auc))\n",
    "\n",
    "\n",
    "\n",
    "#decision tree\n",
    "fpr, tpr, _ = metrics.roc_curve(y_test, y_pred_probs_dtc)\n",
    "auc = round(metrics.roc_auc_score(y_test, y_pred_probs_dtc), 4)\n",
    "plt.plot(fpr,tpr,label=\"Descision Tree, AUC=\"+str(auc))\n",
    "\n",
    "\n",
    "#random forest\n",
    "fpr, tpr, _ = metrics.roc_curve(y_test, y_pred_probs_rfc)\n",
    "auc = round(metrics.roc_auc_score(y_test, y_pred_probs_rfc), 4)\n",
    "plt.plot(fpr,tpr,label=\"Random forest, AUC=\"+str(auc))\n",
    "\n",
    "\n",
    "#adaboost\n",
    "fpr, tpr, _ = metrics.roc_curve(y_test, y_pred_probs_ada )\n",
    "auc = round(metrics.roc_auc_score(y_test, y_pred_probs_ada), 4)\n",
    "plt.plot(fpr,tpr,label=\"Adaboost, AUC=\"+str(auc))\n"
   ]
  }
 ],
 "metadata": {
  "kernelspec": {
   "display_name": "Python 3 (ipykernel)",
   "language": "python",
   "name": "python3"
  },
  "language_info": {
   "codemirror_mode": {
    "name": "ipython",
    "version": 3
   },
   "file_extension": ".py",
   "mimetype": "text/x-python",
   "name": "python",
   "nbconvert_exporter": "python",
   "pygments_lexer": "ipython3",
   "version": "3.10.4"
  },
  "toc": {
   "base_numbering": "",
   "nav_menu": {},
   "number_sections": false,
   "sideBar": true,
   "skip_h1_title": true,
   "title_cell": "Table of Contents",
   "title_sidebar": "Contents",
   "toc_cell": true,
   "toc_position": {
    "height": "757px",
    "left": "1501px",
    "top": "123px",
    "width": "383.965px"
   },
   "toc_section_display": true,
   "toc_window_display": true
  }
 },
 "nbformat": 4,
 "nbformat_minor": 5
}
