{
 "cells": [
  {
   "cell_type": "markdown",
   "id": "c11abdb4",
   "metadata": {},
   "source": [
    "#  Credit Card Fraud Detection"
   ]
  },
  {
   "cell_type": "markdown",
   "id": "d1afab95",
   "metadata": {},
   "source": [
    "![fraude](fraude.jpg)"
   ]
  },
  {
   "cell_type": "markdown",
   "id": "b76fe549",
   "metadata": {
    "toc": true
   },
   "source": [
    "<h1>Table of Contents<span class=\"tocSkip\"></span></h1>\n",
    "<div class=\"toc\"><ul class=\"toc-item\"><li><span><a href=\"#Welcome\" data-toc-modified-id=\"Welcome-0\">Welcome</a></span></li><li><span><a href=\"#Dataset-description\" data-toc-modified-id=\"Dataset-description-1\">Dataset description</a></span></li><li><span><a href=\"#Important-libraries\" data-toc-modified-id=\"Important-libraries-2\">Important libraries</a></span></li><li><span><a href=\"#What-does-it-mean-Fraud?\" data-toc-modified-id=\"What-does-it-mean-Fraud?-3\">What does it mean Fraud?</a></span></li><li><span><a href=\"#Understanding-our-data\" data-toc-modified-id=\"Understanding-our-data-4\">Understanding our data</a></span></li><li><span><a href=\"#Correlation-analysis\" data-toc-modified-id=\"Correlation-analysis-5\">Correlation analysis</a></span></li><li><span><a href=\"#Class-ambalance\" data-toc-modified-id=\"Class-ambalance-6\">Class ambalance</a></span><ul class=\"toc-item\"><li><span><a href=\"#Fraud/-non-Fraud-ratio\" data-toc-modified-id=\"Fraud/-non-Fraud-ratio-6.1\">Fraud/ non-Fraud ratio</a></span></li><li><span><a href=\"#Class-ambalance-visual-representation\" data-toc-modified-id=\"Class-ambalance-visual-representation-6.2\">Class ambalance visual representation</a></span></li></ul></li><li><span><a href=\"#Traditional-way-of-cathing-fraud:-Rules\" data-toc-modified-id=\"Traditional-way-of-cathing-fraud:-Rules-7\">Traditional way of cathing fraud: Rules</a></span></li><li><span><a href=\"#Machine-Learning-models\" data-toc-modified-id=\"Machine-Learning-models-8\">Machine Learning models</a></span><ul class=\"toc-item\"><li><span><a href=\"#Train-/-Test-sets\" data-toc-modified-id=\"Train-/-Test-sets-8.1\">Train / Test sets</a></span></li><li><span><a href=\"#Hyperparameter-tunning\" data-toc-modified-id=\"Hyperparameter-tunning-8.2\">Hyperparameter tunning</a></span><ul class=\"toc-item\"><li><span><a href=\"#Logistic-Regression\" data-toc-modified-id=\"Logistic-Regression-8.2.1\">Logistic Regression</a></span></li><li><span><a href=\"#Decision-Tree\" data-toc-modified-id=\"Decision-Tree-8.2.2\">Decision Tree</a></span></li><li><span><a href=\"#Random-Forest\" data-toc-modified-id=\"Random-Forest-8.2.3\">Random Forest</a></span></li><li><span><a href=\"#Adaboost\" data-toc-modified-id=\"Adaboost-8.2.4\">Adaboost</a></span></li></ul></li></ul></li><li><span><a href=\"#Synthetic-Minority-Oversampling-Technique-(SMOTE)\" data-toc-modified-id=\"Synthetic-Minority-Oversampling-Technique-(SMOTE)-9\">Synthetic Minority Oversampling Technique (SMOTE)</a></span></li><li><span><a href=\"#XY-split\" data-toc-modified-id=\"XY-split-10\">XY split</a></span><ul class=\"toc-item\"><li><span><a href=\"#Logistic-Regression-with-SMOTE\" data-toc-modified-id=\"Logistic-Regression-with-SMOTE-10.1\">Logistic Regression with SMOTE</a></span></li><li><span><a href=\"#Decision-Tree-with-SMOTE\" data-toc-modified-id=\"Decision-Tree-with-SMOTE-10.2\">Decision Tree with SMOTE</a></span></li><li><span><a href=\"#Random-Forest-with-SMOTE\" data-toc-modified-id=\"Random-Forest-with-SMOTE-10.3\">Random Forest with SMOTE</a></span></li><li><span><a href=\"#Adaboost-with-SMOTE\" data-toc-modified-id=\"Adaboost-with-SMOTE-10.4\">Adaboost with SMOTE</a></span></li></ul></li><li><span><a href=\"#Undersampling\" data-toc-modified-id=\"Undersampling-11\">Undersampling</a></span><ul class=\"toc-item\"><li><span><a href=\"#Visual-representation\" data-toc-modified-id=\"Visual-representation-11.1\">Visual representation</a></span></li></ul></li></ul></div>"
   ]
  },
  {
   "cell_type": "markdown",
   "id": "73d47713",
   "metadata": {},
   "source": [
    "## Welcome"
   ]
  },
  {
   "cell_type": "markdown",
   "id": "b5fb56c7",
   "metadata": {},
   "source": [
    "Hi, welcome to this noteboock!\n",
    "\n",
    "I find that Fraud prevention analytics is an amazing field for data analysis, and I hope that at the end of this notebook you think the same and want to learn a bit more about it. \n",
    "\n",
    "The aims of this project are the following:\n",
    "\n",
    "-To understand the concept of \"Fraud\". <br>\n",
    "-To explain how fraud prevention analysts caught fraudulent transactions before using Machine Learning(ML). <br>\n",
    "-To develop a ML model to estimate if a transaction is fraudulent or not. <br>\n",
    "\n",
    "Sounds interesting, isn't it?\n",
    "\n",
    "Let's start\n",
    "\n",
    "\n"
   ]
  },
  {
   "cell_type": "markdown",
   "id": "bca9cf5c",
   "metadata": {},
   "source": [
    "## Dataset description"
   ]
  },
  {
   "cell_type": "markdown",
   "id": "63b4b68f",
   "metadata": {},
   "source": [
    "For this project we will use the dataset ([Credit Card Fraud Detection](https://www.kaggle.com/datasets/mlg-ulb/creditcardfraud)) from Kaggle.\n",
    "\n",
    "In the dataset we will find a total of 284.807 transactions made by credit card in two different days in September 2013,  where only 492 of them are marked as fraud. Fraudulent transactions represent only the 0.172% of the dataset which show us that the dataset is highly unbalanced. \n",
    "\n",
    "All the variables from the dataset are numeric and features from \"V1\" to \"V28\" are the result of PCA transformation (Due to privacy reasons we cannot have the information about the original variables). Only two feautures were not transformed with PCA: \"Time\" and \"Amount\". The feature \"Class\" is our target variable and it has two possible values:\n",
    "    \n",
    "    1= fraud\n",
    "    0= non-fraud  "
   ]
  },
  {
   "cell_type": "markdown",
   "id": "c772480d",
   "metadata": {},
   "source": [
    "## Important libraries"
   ]
  },
  {
   "cell_type": "code",
   "execution_count": 1,
   "id": "aabe5d06",
   "metadata": {},
   "outputs": [],
   "source": [
    "#pandas and numpy\n",
    "import pandas as pd\n",
    "import numpy as np\n",
    "\n",
    "#ploting libraries\n",
    "import matplotlib.pyplot as plt\n",
    "import seaborn as sns\n",
    "\n",
    "#hyperparameters tuning\n",
    "from sklearn.model_selection import RepeatedStratifiedKFold\n",
    "from sklearn.model_selection import GridSearchCV\n",
    "from sklearn.model_selection import RandomizedSearchCV\n",
    "\n",
    "#models\n",
    "from sklearn.tree import DecisionTreeClassifier\n",
    "from sklearn.linear_model import LogisticRegression\n",
    "from sklearn.neighbors import KNeighborsClassifier\n",
    "from sklearn.ensemble import RandomForestClassifier\n",
    "from sklearn.neighbors import NearestNeighbors\n",
    "from sklearn.ensemble import AdaBoostClassifier\n",
    "from sklearn.ensemble import GradientBoostingClassifier\n",
    "from sklearn.experimental import enable_hist_gradient_boosting\n",
    "from sklearn.ensemble import HistGradientBoostingClassifier\n",
    "\n",
    "#model performance evaluation\n",
    "from sklearn.metrics import accuracy_score\n",
    "from sklearn.metrics import precision_score\n",
    "from sklearn.metrics import recall_score\n",
    "from sklearn.metrics import confusion_matrix\n",
    "from sklearn.metrics import plot_confusion_matrix\n",
    "from imblearn.over_sampling import SMOTE\n",
    "from sklearn.model_selection import cross_val_score\n",
    "from sklearn.model_selection import cross_val_predict\n",
    "from sklearn.metrics import classification_report\n",
    "from imblearn.pipeline import Pipeline \n",
    "from sklearn.datasets import make_classification\n",
    "from sklearn.metrics import roc_curve\n",
    "from sklearn.metrics import roc_auc_score\n",
    "from sklearn.model_selection import KFold\n",
    "from collections import Counter\n",
    "from sklearn.model_selection import cross_validate\n",
    "from sklearn.metrics import recall_score\n",
    "\n",
    "#others\n",
    "from sklearn.neighbors import NearestNeighbors\n",
    "from sklearn.model_selection import train_test_split\n",
    "from sklearn.preprocessing import StandardScaler\n",
    "from imblearn.over_sampling import SMOTE\n",
    "from sklearn.tree import plot_tree\n",
    "from sklearn import metrics\n",
    "\n"
   ]
  },
  {
   "cell_type": "markdown",
   "id": "f155b369",
   "metadata": {},
   "source": [
    "## What does it mean Fraud?"
   ]
  },
  {
   "cell_type": "code",
   "execution_count": null,
   "id": "402f4013",
   "metadata": {},
   "outputs": [],
   "source": []
  },
  {
   "cell_type": "code",
   "execution_count": null,
   "id": "6a7a6387",
   "metadata": {},
   "outputs": [],
   "source": []
  },
  {
   "cell_type": "markdown",
   "id": "c7df1ab3",
   "metadata": {},
   "source": [
    "## Understanding our data\n"
   ]
  },
  {
   "cell_type": "code",
   "execution_count": 2,
   "id": "9072aef5",
   "metadata": {
    "scrolled": true
   },
   "outputs": [
    {
     "data": {
      "text/html": [
       "<div>\n",
       "<style scoped>\n",
       "    .dataframe tbody tr th:only-of-type {\n",
       "        vertical-align: middle;\n",
       "    }\n",
       "\n",
       "    .dataframe tbody tr th {\n",
       "        vertical-align: top;\n",
       "    }\n",
       "\n",
       "    .dataframe thead th {\n",
       "        text-align: right;\n",
       "    }\n",
       "</style>\n",
       "<table border=\"1\" class=\"dataframe\">\n",
       "  <thead>\n",
       "    <tr style=\"text-align: right;\">\n",
       "      <th></th>\n",
       "      <th>Unnamed: 0</th>\n",
       "      <th>Time</th>\n",
       "      <th>V1</th>\n",
       "      <th>V2</th>\n",
       "      <th>V3</th>\n",
       "      <th>V4</th>\n",
       "      <th>V5</th>\n",
       "      <th>V6</th>\n",
       "      <th>V7</th>\n",
       "      <th>V8</th>\n",
       "      <th>...</th>\n",
       "      <th>V21</th>\n",
       "      <th>V22</th>\n",
       "      <th>V23</th>\n",
       "      <th>V24</th>\n",
       "      <th>V25</th>\n",
       "      <th>V26</th>\n",
       "      <th>V27</th>\n",
       "      <th>V28</th>\n",
       "      <th>Amount</th>\n",
       "      <th>Class</th>\n",
       "    </tr>\n",
       "  </thead>\n",
       "  <tbody>\n",
       "    <tr>\n",
       "      <th>0</th>\n",
       "      <td>0</td>\n",
       "      <td>64</td>\n",
       "      <td>1.212511</td>\n",
       "      <td>-0.099054</td>\n",
       "      <td>-1.192094</td>\n",
       "      <td>0.286324</td>\n",
       "      <td>2.160516</td>\n",
       "      <td>3.616314</td>\n",
       "      <td>-0.404207</td>\n",
       "      <td>0.842331</td>\n",
       "      <td>...</td>\n",
       "      <td>-0.167496</td>\n",
       "      <td>-0.494695</td>\n",
       "      <td>-0.149785</td>\n",
       "      <td>1.011227</td>\n",
       "      <td>0.883548</td>\n",
       "      <td>-0.329434</td>\n",
       "      <td>0.020370</td>\n",
       "      <td>0.017037</td>\n",
       "      <td>34.70</td>\n",
       "      <td>0</td>\n",
       "    </tr>\n",
       "    <tr>\n",
       "      <th>1</th>\n",
       "      <td>1</td>\n",
       "      <td>64</td>\n",
       "      <td>-0.658305</td>\n",
       "      <td>0.406791</td>\n",
       "      <td>2.037461</td>\n",
       "      <td>-0.291298</td>\n",
       "      <td>0.147910</td>\n",
       "      <td>-0.350857</td>\n",
       "      <td>0.945373</td>\n",
       "      <td>-0.172560</td>\n",
       "      <td>...</td>\n",
       "      <td>-0.156096</td>\n",
       "      <td>-0.238805</td>\n",
       "      <td>0.089877</td>\n",
       "      <td>0.421195</td>\n",
       "      <td>-0.352487</td>\n",
       "      <td>0.074783</td>\n",
       "      <td>-0.094192</td>\n",
       "      <td>-0.092493</td>\n",
       "      <td>54.99</td>\n",
       "      <td>0</td>\n",
       "    </tr>\n",
       "    <tr>\n",
       "      <th>2</th>\n",
       "      <td>2</td>\n",
       "      <td>124</td>\n",
       "      <td>1.105253</td>\n",
       "      <td>0.541842</td>\n",
       "      <td>0.839421</td>\n",
       "      <td>2.570933</td>\n",
       "      <td>-0.279517</td>\n",
       "      <td>-0.423062</td>\n",
       "      <td>0.088019</td>\n",
       "      <td>0.011622</td>\n",
       "      <td>...</td>\n",
       "      <td>-0.137434</td>\n",
       "      <td>-0.460991</td>\n",
       "      <td>0.189397</td>\n",
       "      <td>0.556329</td>\n",
       "      <td>0.185786</td>\n",
       "      <td>-0.189030</td>\n",
       "      <td>0.000208</td>\n",
       "      <td>0.026167</td>\n",
       "      <td>6.24</td>\n",
       "      <td>0</td>\n",
       "    </tr>\n",
       "    <tr>\n",
       "      <th>3</th>\n",
       "      <td>3</td>\n",
       "      <td>128</td>\n",
       "      <td>1.239495</td>\n",
       "      <td>-0.182609</td>\n",
       "      <td>0.155058</td>\n",
       "      <td>-0.928892</td>\n",
       "      <td>-0.746227</td>\n",
       "      <td>-1.235608</td>\n",
       "      <td>-0.061695</td>\n",
       "      <td>-0.125223</td>\n",
       "      <td>...</td>\n",
       "      <td>0.146077</td>\n",
       "      <td>0.481119</td>\n",
       "      <td>-0.140019</td>\n",
       "      <td>0.538261</td>\n",
       "      <td>0.710720</td>\n",
       "      <td>-0.621382</td>\n",
       "      <td>0.036867</td>\n",
       "      <td>0.010963</td>\n",
       "      <td>8.80</td>\n",
       "      <td>0</td>\n",
       "    </tr>\n",
       "    <tr>\n",
       "      <th>4</th>\n",
       "      <td>4</td>\n",
       "      <td>132</td>\n",
       "      <td>-1.571359</td>\n",
       "      <td>1.687508</td>\n",
       "      <td>0.734670</td>\n",
       "      <td>1.293350</td>\n",
       "      <td>-0.217532</td>\n",
       "      <td>-0.002677</td>\n",
       "      <td>0.147364</td>\n",
       "      <td>0.515362</td>\n",
       "      <td>...</td>\n",
       "      <td>0.048549</td>\n",
       "      <td>0.377256</td>\n",
       "      <td>-0.030436</td>\n",
       "      <td>0.117608</td>\n",
       "      <td>-0.060520</td>\n",
       "      <td>-0.296550</td>\n",
       "      <td>-0.481570</td>\n",
       "      <td>-0.167897</td>\n",
       "      <td>10.00</td>\n",
       "      <td>0</td>\n",
       "    </tr>\n",
       "  </tbody>\n",
       "</table>\n",
       "<p>5 rows × 32 columns</p>\n",
       "</div>"
      ],
      "text/plain": [
       "   Unnamed: 0  Time        V1        V2        V3        V4        V5  \\\n",
       "0           0    64  1.212511 -0.099054 -1.192094  0.286324  2.160516   \n",
       "1           1    64 -0.658305  0.406791  2.037461 -0.291298  0.147910   \n",
       "2           2   124  1.105253  0.541842  0.839421  2.570933 -0.279517   \n",
       "3           3   128  1.239495 -0.182609  0.155058 -0.928892 -0.746227   \n",
       "4           4   132 -1.571359  1.687508  0.734670  1.293350 -0.217532   \n",
       "\n",
       "         V6        V7        V8  ...       V21       V22       V23       V24  \\\n",
       "0  3.616314 -0.404207  0.842331  ... -0.167496 -0.494695 -0.149785  1.011227   \n",
       "1 -0.350857  0.945373 -0.172560  ... -0.156096 -0.238805  0.089877  0.421195   \n",
       "2 -0.423062  0.088019  0.011622  ... -0.137434 -0.460991  0.189397  0.556329   \n",
       "3 -1.235608 -0.061695 -0.125223  ...  0.146077  0.481119 -0.140019  0.538261   \n",
       "4 -0.002677  0.147364  0.515362  ...  0.048549  0.377256 -0.030436  0.117608   \n",
       "\n",
       "        V25       V26       V27       V28  Amount  Class  \n",
       "0  0.883548 -0.329434  0.020370  0.017037   34.70      0  \n",
       "1 -0.352487  0.074783 -0.094192 -0.092493   54.99      0  \n",
       "2  0.185786 -0.189030  0.000208  0.026167    6.24      0  \n",
       "3  0.710720 -0.621382  0.036867  0.010963    8.80      0  \n",
       "4 -0.060520 -0.296550 -0.481570 -0.167897   10.00      0  \n",
       "\n",
       "[5 rows x 32 columns]"
      ]
     },
     "execution_count": 2,
     "metadata": {},
     "output_type": "execute_result"
    }
   ],
   "source": [
    "#Loading the data:\n",
    "\n",
    "df=pd.read_csv(\"Data/creditcard/creditcard_sampledata.csv\")\n",
    "df.head()\n"
   ]
  },
  {
   "cell_type": "code",
   "execution_count": 3,
   "id": "e5c73f8f",
   "metadata": {},
   "outputs": [
    {
     "data": {
      "text/html": [
       "<div>\n",
       "<style scoped>\n",
       "    .dataframe tbody tr th:only-of-type {\n",
       "        vertical-align: middle;\n",
       "    }\n",
       "\n",
       "    .dataframe tbody tr th {\n",
       "        vertical-align: top;\n",
       "    }\n",
       "\n",
       "    .dataframe thead th {\n",
       "        text-align: right;\n",
       "    }\n",
       "</style>\n",
       "<table border=\"1\" class=\"dataframe\">\n",
       "  <thead>\n",
       "    <tr style=\"text-align: right;\">\n",
       "      <th></th>\n",
       "      <th>Unnamed: 0</th>\n",
       "      <th>Time</th>\n",
       "      <th>V1</th>\n",
       "      <th>V2</th>\n",
       "      <th>V3</th>\n",
       "      <th>V4</th>\n",
       "      <th>V5</th>\n",
       "      <th>V6</th>\n",
       "      <th>V7</th>\n",
       "      <th>V8</th>\n",
       "      <th>...</th>\n",
       "      <th>V21</th>\n",
       "      <th>V22</th>\n",
       "      <th>V23</th>\n",
       "      <th>V24</th>\n",
       "      <th>V25</th>\n",
       "      <th>V26</th>\n",
       "      <th>V27</th>\n",
       "      <th>V28</th>\n",
       "      <th>Amount</th>\n",
       "      <th>Class</th>\n",
       "    </tr>\n",
       "  </thead>\n",
       "  <tbody>\n",
       "    <tr>\n",
       "      <th>count</th>\n",
       "      <td>8000.00000</td>\n",
       "      <td>8000.000000</td>\n",
       "      <td>8000.000000</td>\n",
       "      <td>8000.000000</td>\n",
       "      <td>8000.000000</td>\n",
       "      <td>8000.000000</td>\n",
       "      <td>8000.000000</td>\n",
       "      <td>8000.000000</td>\n",
       "      <td>8000.000000</td>\n",
       "      <td>8000.000000</td>\n",
       "      <td>...</td>\n",
       "      <td>8000.000000</td>\n",
       "      <td>8000.000000</td>\n",
       "      <td>8000.000000</td>\n",
       "      <td>8000.000000</td>\n",
       "      <td>8000.000000</td>\n",
       "      <td>8000.000000</td>\n",
       "      <td>8000.000000</td>\n",
       "      <td>8000.000000</td>\n",
       "      <td>8000.000000</td>\n",
       "      <td>8000.000000</td>\n",
       "    </tr>\n",
       "    <tr>\n",
       "      <th>mean</th>\n",
       "      <td>3999.50000</td>\n",
       "      <td>95357.290375</td>\n",
       "      <td>0.016628</td>\n",
       "      <td>-0.005726</td>\n",
       "      <td>-0.010398</td>\n",
       "      <td>-0.028731</td>\n",
       "      <td>-0.022065</td>\n",
       "      <td>0.000739</td>\n",
       "      <td>0.016121</td>\n",
       "      <td>-0.004941</td>\n",
       "      <td>...</td>\n",
       "      <td>-0.003501</td>\n",
       "      <td>0.028278</td>\n",
       "      <td>0.006422</td>\n",
       "      <td>-0.000855</td>\n",
       "      <td>-0.000284</td>\n",
       "      <td>0.000740</td>\n",
       "      <td>-0.006161</td>\n",
       "      <td>0.005893</td>\n",
       "      <td>89.669246</td>\n",
       "      <td>0.002125</td>\n",
       "    </tr>\n",
       "    <tr>\n",
       "      <th>std</th>\n",
       "      <td>2309.54541</td>\n",
       "      <td>46956.240862</td>\n",
       "      <td>1.899212</td>\n",
       "      <td>1.545809</td>\n",
       "      <td>1.477050</td>\n",
       "      <td>1.426184</td>\n",
       "      <td>1.401964</td>\n",
       "      <td>1.332905</td>\n",
       "      <td>1.305012</td>\n",
       "      <td>1.174568</td>\n",
       "      <td>...</td>\n",
       "      <td>0.678019</td>\n",
       "      <td>0.714746</td>\n",
       "      <td>0.553929</td>\n",
       "      <td>0.606846</td>\n",
       "      <td>0.513374</td>\n",
       "      <td>0.485101</td>\n",
       "      <td>0.394584</td>\n",
       "      <td>0.348770</td>\n",
       "      <td>260.188804</td>\n",
       "      <td>0.046052</td>\n",
       "    </tr>\n",
       "    <tr>\n",
       "      <th>min</th>\n",
       "      <td>0.00000</td>\n",
       "      <td>64.000000</td>\n",
       "      <td>-29.973363</td>\n",
       "      <td>-29.198899</td>\n",
       "      <td>-19.947726</td>\n",
       "      <td>-5.416315</td>\n",
       "      <td>-40.427726</td>\n",
       "      <td>-7.810116</td>\n",
       "      <td>-21.234463</td>\n",
       "      <td>-26.069936</td>\n",
       "      <td>...</td>\n",
       "      <td>-13.950186</td>\n",
       "      <td>-4.910197</td>\n",
       "      <td>-12.667179</td>\n",
       "      <td>-2.814898</td>\n",
       "      <td>-3.223535</td>\n",
       "      <td>-1.511259</td>\n",
       "      <td>-5.809357</td>\n",
       "      <td>-3.693525</td>\n",
       "      <td>0.000000</td>\n",
       "      <td>0.000000</td>\n",
       "    </tr>\n",
       "    <tr>\n",
       "      <th>25%</th>\n",
       "      <td>1999.75000</td>\n",
       "      <td>55189.750000</td>\n",
       "      <td>-0.915243</td>\n",
       "      <td>-0.610001</td>\n",
       "      <td>-0.893566</td>\n",
       "      <td>-0.903137</td>\n",
       "      <td>-0.714806</td>\n",
       "      <td>-0.790640</td>\n",
       "      <td>-0.560447</td>\n",
       "      <td>-0.215935</td>\n",
       "      <td>...</td>\n",
       "      <td>-0.221765</td>\n",
       "      <td>-0.519427</td>\n",
       "      <td>-0.159989</td>\n",
       "      <td>-0.345288</td>\n",
       "      <td>-0.311490</td>\n",
       "      <td>-0.327823</td>\n",
       "      <td>-0.071358</td>\n",
       "      <td>-0.052957</td>\n",
       "      <td>5.990000</td>\n",
       "      <td>0.000000</td>\n",
       "    </tr>\n",
       "    <tr>\n",
       "      <th>50%</th>\n",
       "      <td>3999.50000</td>\n",
       "      <td>85758.000000</td>\n",
       "      <td>0.025737</td>\n",
       "      <td>0.040064</td>\n",
       "      <td>0.165369</td>\n",
       "      <td>-0.035525</td>\n",
       "      <td>-0.076317</td>\n",
       "      <td>-0.282476</td>\n",
       "      <td>0.043119</td>\n",
       "      <td>0.019278</td>\n",
       "      <td>...</td>\n",
       "      <td>-0.026597</td>\n",
       "      <td>0.031274</td>\n",
       "      <td>-0.008716</td>\n",
       "      <td>0.038126</td>\n",
       "      <td>0.023790</td>\n",
       "      <td>-0.061720</td>\n",
       "      <td>0.000514</td>\n",
       "      <td>0.011239</td>\n",
       "      <td>22.855000</td>\n",
       "      <td>0.000000</td>\n",
       "    </tr>\n",
       "    <tr>\n",
       "      <th>75%</th>\n",
       "      <td>5999.25000</td>\n",
       "      <td>139042.750000</td>\n",
       "      <td>1.321858</td>\n",
       "      <td>0.784179</td>\n",
       "      <td>0.991859</td>\n",
       "      <td>0.752604</td>\n",
       "      <td>0.601602</td>\n",
       "      <td>0.403259</td>\n",
       "      <td>0.581711</td>\n",
       "      <td>0.331131</td>\n",
       "      <td>...</td>\n",
       "      <td>0.191495</td>\n",
       "      <td>0.549468</td>\n",
       "      <td>0.144751</td>\n",
       "      <td>0.440633</td>\n",
       "      <td>0.344371</td>\n",
       "      <td>0.246298</td>\n",
       "      <td>0.086333</td>\n",
       "      <td>0.076835</td>\n",
       "      <td>78.432500</td>\n",
       "      <td>0.000000</td>\n",
       "    </tr>\n",
       "    <tr>\n",
       "      <th>max</th>\n",
       "      <td>7999.00000</td>\n",
       "      <td>172766.000000</td>\n",
       "      <td>2.373022</td>\n",
       "      <td>11.447082</td>\n",
       "      <td>3.985446</td>\n",
       "      <td>9.074932</td>\n",
       "      <td>13.815072</td>\n",
       "      <td>23.917837</td>\n",
       "      <td>44.054461</td>\n",
       "      <td>9.561121</td>\n",
       "      <td>...</td>\n",
       "      <td>14.507345</td>\n",
       "      <td>4.222704</td>\n",
       "      <td>19.228169</td>\n",
       "      <td>3.577753</td>\n",
       "      <td>2.520869</td>\n",
       "      <td>2.693658</td>\n",
       "      <td>5.352193</td>\n",
       "      <td>15.649134</td>\n",
       "      <td>10199.440000</td>\n",
       "      <td>1.000000</td>\n",
       "    </tr>\n",
       "  </tbody>\n",
       "</table>\n",
       "<p>8 rows × 32 columns</p>\n",
       "</div>"
      ],
      "text/plain": [
       "       Unnamed: 0           Time           V1           V2           V3  \\\n",
       "count  8000.00000    8000.000000  8000.000000  8000.000000  8000.000000   \n",
       "mean   3999.50000   95357.290375     0.016628    -0.005726    -0.010398   \n",
       "std    2309.54541   46956.240862     1.899212     1.545809     1.477050   \n",
       "min       0.00000      64.000000   -29.973363   -29.198899   -19.947726   \n",
       "25%    1999.75000   55189.750000    -0.915243    -0.610001    -0.893566   \n",
       "50%    3999.50000   85758.000000     0.025737     0.040064     0.165369   \n",
       "75%    5999.25000  139042.750000     1.321858     0.784179     0.991859   \n",
       "max    7999.00000  172766.000000     2.373022    11.447082     3.985446   \n",
       "\n",
       "                V4           V5           V6           V7           V8  ...  \\\n",
       "count  8000.000000  8000.000000  8000.000000  8000.000000  8000.000000  ...   \n",
       "mean     -0.028731    -0.022065     0.000739     0.016121    -0.004941  ...   \n",
       "std       1.426184     1.401964     1.332905     1.305012     1.174568  ...   \n",
       "min      -5.416315   -40.427726    -7.810116   -21.234463   -26.069936  ...   \n",
       "25%      -0.903137    -0.714806    -0.790640    -0.560447    -0.215935  ...   \n",
       "50%      -0.035525    -0.076317    -0.282476     0.043119     0.019278  ...   \n",
       "75%       0.752604     0.601602     0.403259     0.581711     0.331131  ...   \n",
       "max       9.074932    13.815072    23.917837    44.054461     9.561121  ...   \n",
       "\n",
       "               V21          V22          V23          V24          V25  \\\n",
       "count  8000.000000  8000.000000  8000.000000  8000.000000  8000.000000   \n",
       "mean     -0.003501     0.028278     0.006422    -0.000855    -0.000284   \n",
       "std       0.678019     0.714746     0.553929     0.606846     0.513374   \n",
       "min     -13.950186    -4.910197   -12.667179    -2.814898    -3.223535   \n",
       "25%      -0.221765    -0.519427    -0.159989    -0.345288    -0.311490   \n",
       "50%      -0.026597     0.031274    -0.008716     0.038126     0.023790   \n",
       "75%       0.191495     0.549468     0.144751     0.440633     0.344371   \n",
       "max      14.507345     4.222704    19.228169     3.577753     2.520869   \n",
       "\n",
       "               V26          V27          V28        Amount        Class  \n",
       "count  8000.000000  8000.000000  8000.000000   8000.000000  8000.000000  \n",
       "mean      0.000740    -0.006161     0.005893     89.669246     0.002125  \n",
       "std       0.485101     0.394584     0.348770    260.188804     0.046052  \n",
       "min      -1.511259    -5.809357    -3.693525      0.000000     0.000000  \n",
       "25%      -0.327823    -0.071358    -0.052957      5.990000     0.000000  \n",
       "50%      -0.061720     0.000514     0.011239     22.855000     0.000000  \n",
       "75%       0.246298     0.086333     0.076835     78.432500     0.000000  \n",
       "max       2.693658     5.352193    15.649134  10199.440000     1.000000  \n",
       "\n",
       "[8 rows x 32 columns]"
      ]
     },
     "execution_count": 3,
     "metadata": {},
     "output_type": "execute_result"
    }
   ],
   "source": [
    "#Knowing our data:\n",
    "\n",
    "df.describe()"
   ]
  },
  {
   "cell_type": "code",
   "execution_count": 4,
   "id": "de84672b",
   "metadata": {},
   "outputs": [
    {
     "name": "stdout",
     "output_type": "stream",
     "text": [
      "<class 'pandas.core.frame.DataFrame'>\n",
      "RangeIndex: 8000 entries, 0 to 7999\n",
      "Data columns (total 32 columns):\n",
      " #   Column      Non-Null Count  Dtype  \n",
      "---  ------      --------------  -----  \n",
      " 0   Unnamed: 0  8000 non-null   int64  \n",
      " 1   Time        8000 non-null   int64  \n",
      " 2   V1          8000 non-null   float64\n",
      " 3   V2          8000 non-null   float64\n",
      " 4   V3          8000 non-null   float64\n",
      " 5   V4          8000 non-null   float64\n",
      " 6   V5          8000 non-null   float64\n",
      " 7   V6          8000 non-null   float64\n",
      " 8   V7          8000 non-null   float64\n",
      " 9   V8          8000 non-null   float64\n",
      " 10  V9          8000 non-null   float64\n",
      " 11  V10         8000 non-null   float64\n",
      " 12  V11         8000 non-null   float64\n",
      " 13  V12         8000 non-null   float64\n",
      " 14  V13         8000 non-null   float64\n",
      " 15  V14         8000 non-null   float64\n",
      " 16  V15         8000 non-null   float64\n",
      " 17  V16         8000 non-null   float64\n",
      " 18  V17         8000 non-null   float64\n",
      " 19  V18         8000 non-null   float64\n",
      " 20  V19         8000 non-null   float64\n",
      " 21  V20         8000 non-null   float64\n",
      " 22  V21         8000 non-null   float64\n",
      " 23  V22         8000 non-null   float64\n",
      " 24  V23         8000 non-null   float64\n",
      " 25  V24         8000 non-null   float64\n",
      " 26  V25         8000 non-null   float64\n",
      " 27  V26         8000 non-null   float64\n",
      " 28  V27         8000 non-null   float64\n",
      " 29  V28         8000 non-null   float64\n",
      " 30  Amount      8000 non-null   float64\n",
      " 31  Class       8000 non-null   int64  \n",
      "dtypes: float64(29), int64(3)\n",
      "memory usage: 2.0 MB\n"
     ]
    }
   ],
   "source": [
    "#data type:\n",
    "\n",
    "df.info()"
   ]
  },
  {
   "cell_type": "code",
   "execution_count": 5,
   "id": "4653aaa8",
   "metadata": {},
   "outputs": [
    {
     "data": {
      "text/plain": [
       "Unnamed: 0    0\n",
       "Time          0\n",
       "V1            0\n",
       "V2            0\n",
       "V3            0\n",
       "V4            0\n",
       "V5            0\n",
       "V6            0\n",
       "V7            0\n",
       "V8            0\n",
       "V9            0\n",
       "V10           0\n",
       "V11           0\n",
       "V12           0\n",
       "V13           0\n",
       "V14           0\n",
       "V15           0\n",
       "V16           0\n",
       "V17           0\n",
       "V18           0\n",
       "V19           0\n",
       "V20           0\n",
       "V21           0\n",
       "V22           0\n",
       "V23           0\n",
       "V24           0\n",
       "V25           0\n",
       "V26           0\n",
       "V27           0\n",
       "V28           0\n",
       "Amount        0\n",
       "Class         0\n",
       "dtype: int64"
      ]
     },
     "execution_count": 5,
     "metadata": {},
     "output_type": "execute_result"
    }
   ],
   "source": [
    "#Do we have any missing value?\n",
    "df.isna().sum()"
   ]
  },
  {
   "cell_type": "code",
   "execution_count": 6,
   "id": "c51c918e",
   "metadata": {},
   "outputs": [],
   "source": [
    "#According to the dataset description, the features from \"V1\" to \"V28\" are the result of PCA(Principal Components Analysis). \n",
    "#We know that features must be scaled before using this technique. \n",
    "#However the features \"Time\" and \"Amount\" are not scaled we should scaled them before continuing with our analysis. \n",
    "\n",
    "df['Amount_scaled'] = StandardScaler().fit_transform(df['Amount'].values.reshape(-1, 1))\n",
    "df['Time_scaled'] = StandardScaler().fit_transform(df['Time'].values.reshape(-1, 1))\n",
    "\n",
    "#Now we have to drop from our dataset the features \"Time\" and \"Amount\":\n",
    "df=df.drop(columns=['Amount', 'Time'],axis=1)\n"
   ]
  },
  {
   "cell_type": "code",
   "execution_count": 7,
   "id": "d838b375",
   "metadata": {},
   "outputs": [
    {
     "data": {
      "text/html": [
       "<div>\n",
       "<style scoped>\n",
       "    .dataframe tbody tr th:only-of-type {\n",
       "        vertical-align: middle;\n",
       "    }\n",
       "\n",
       "    .dataframe tbody tr th {\n",
       "        vertical-align: top;\n",
       "    }\n",
       "\n",
       "    .dataframe thead th {\n",
       "        text-align: right;\n",
       "    }\n",
       "</style>\n",
       "<table border=\"1\" class=\"dataframe\">\n",
       "  <thead>\n",
       "    <tr style=\"text-align: right;\">\n",
       "      <th></th>\n",
       "      <th>V1</th>\n",
       "      <th>V2</th>\n",
       "      <th>V3</th>\n",
       "      <th>V4</th>\n",
       "      <th>V5</th>\n",
       "      <th>V6</th>\n",
       "      <th>V7</th>\n",
       "      <th>V8</th>\n",
       "      <th>V9</th>\n",
       "      <th>V10</th>\n",
       "      <th>...</th>\n",
       "      <th>V22</th>\n",
       "      <th>V23</th>\n",
       "      <th>V24</th>\n",
       "      <th>V25</th>\n",
       "      <th>V26</th>\n",
       "      <th>V27</th>\n",
       "      <th>V28</th>\n",
       "      <th>Amount_scaled</th>\n",
       "      <th>Time_scaled</th>\n",
       "      <th>Class</th>\n",
       "    </tr>\n",
       "  </thead>\n",
       "  <tbody>\n",
       "    <tr>\n",
       "      <th>0</th>\n",
       "      <td>1.212511</td>\n",
       "      <td>-0.099054</td>\n",
       "      <td>-1.192094</td>\n",
       "      <td>0.286324</td>\n",
       "      <td>2.160516</td>\n",
       "      <td>3.616314</td>\n",
       "      <td>-0.404207</td>\n",
       "      <td>0.842331</td>\n",
       "      <td>0.169360</td>\n",
       "      <td>-0.030522</td>\n",
       "      <td>...</td>\n",
       "      <td>-0.494695</td>\n",
       "      <td>-0.149785</td>\n",
       "      <td>1.011227</td>\n",
       "      <td>0.883548</td>\n",
       "      <td>-0.329434</td>\n",
       "      <td>0.020370</td>\n",
       "      <td>0.017037</td>\n",
       "      <td>-0.211280</td>\n",
       "      <td>-2.029533</td>\n",
       "      <td>0</td>\n",
       "    </tr>\n",
       "    <tr>\n",
       "      <th>1</th>\n",
       "      <td>-0.658305</td>\n",
       "      <td>0.406791</td>\n",
       "      <td>2.037461</td>\n",
       "      <td>-0.291298</td>\n",
       "      <td>0.147910</td>\n",
       "      <td>-0.350857</td>\n",
       "      <td>0.945373</td>\n",
       "      <td>-0.172560</td>\n",
       "      <td>0.025133</td>\n",
       "      <td>-0.778135</td>\n",
       "      <td>...</td>\n",
       "      <td>-0.238805</td>\n",
       "      <td>0.089877</td>\n",
       "      <td>0.421195</td>\n",
       "      <td>-0.352487</td>\n",
       "      <td>0.074783</td>\n",
       "      <td>-0.094192</td>\n",
       "      <td>-0.092493</td>\n",
       "      <td>-0.133293</td>\n",
       "      <td>-2.029533</td>\n",
       "      <td>0</td>\n",
       "    </tr>\n",
       "    <tr>\n",
       "      <th>2</th>\n",
       "      <td>1.105253</td>\n",
       "      <td>0.541842</td>\n",
       "      <td>0.839421</td>\n",
       "      <td>2.570933</td>\n",
       "      <td>-0.279517</td>\n",
       "      <td>-0.423062</td>\n",
       "      <td>0.088019</td>\n",
       "      <td>0.011622</td>\n",
       "      <td>-0.715756</td>\n",
       "      <td>0.651379</td>\n",
       "      <td>...</td>\n",
       "      <td>-0.460991</td>\n",
       "      <td>0.189397</td>\n",
       "      <td>0.556329</td>\n",
       "      <td>0.185786</td>\n",
       "      <td>-0.189030</td>\n",
       "      <td>0.000208</td>\n",
       "      <td>0.026167</td>\n",
       "      <td>-0.320669</td>\n",
       "      <td>-2.028255</td>\n",
       "      <td>0</td>\n",
       "    </tr>\n",
       "    <tr>\n",
       "      <th>3</th>\n",
       "      <td>1.239495</td>\n",
       "      <td>-0.182609</td>\n",
       "      <td>0.155058</td>\n",
       "      <td>-0.928892</td>\n",
       "      <td>-0.746227</td>\n",
       "      <td>-1.235608</td>\n",
       "      <td>-0.061695</td>\n",
       "      <td>-0.125223</td>\n",
       "      <td>0.984938</td>\n",
       "      <td>-0.746625</td>\n",
       "      <td>...</td>\n",
       "      <td>0.481119</td>\n",
       "      <td>-0.140019</td>\n",
       "      <td>0.538261</td>\n",
       "      <td>0.710720</td>\n",
       "      <td>-0.621382</td>\n",
       "      <td>0.036867</td>\n",
       "      <td>0.010963</td>\n",
       "      <td>-0.310829</td>\n",
       "      <td>-2.028170</td>\n",
       "      <td>0</td>\n",
       "    </tr>\n",
       "    <tr>\n",
       "      <th>4</th>\n",
       "      <td>-1.571359</td>\n",
       "      <td>1.687508</td>\n",
       "      <td>0.734670</td>\n",
       "      <td>1.293350</td>\n",
       "      <td>-0.217532</td>\n",
       "      <td>-0.002677</td>\n",
       "      <td>0.147364</td>\n",
       "      <td>0.515362</td>\n",
       "      <td>-0.372442</td>\n",
       "      <td>0.078021</td>\n",
       "      <td>...</td>\n",
       "      <td>0.377256</td>\n",
       "      <td>-0.030436</td>\n",
       "      <td>0.117608</td>\n",
       "      <td>-0.060520</td>\n",
       "      <td>-0.296550</td>\n",
       "      <td>-0.481570</td>\n",
       "      <td>-0.167897</td>\n",
       "      <td>-0.306217</td>\n",
       "      <td>-2.028085</td>\n",
       "      <td>0</td>\n",
       "    </tr>\n",
       "  </tbody>\n",
       "</table>\n",
       "<p>5 rows × 31 columns</p>\n",
       "</div>"
      ],
      "text/plain": [
       "         V1        V2        V3        V4        V5        V6        V7  \\\n",
       "0  1.212511 -0.099054 -1.192094  0.286324  2.160516  3.616314 -0.404207   \n",
       "1 -0.658305  0.406791  2.037461 -0.291298  0.147910 -0.350857  0.945373   \n",
       "2  1.105253  0.541842  0.839421  2.570933 -0.279517 -0.423062  0.088019   \n",
       "3  1.239495 -0.182609  0.155058 -0.928892 -0.746227 -1.235608 -0.061695   \n",
       "4 -1.571359  1.687508  0.734670  1.293350 -0.217532 -0.002677  0.147364   \n",
       "\n",
       "         V8        V9       V10  ...       V22       V23       V24       V25  \\\n",
       "0  0.842331  0.169360 -0.030522  ... -0.494695 -0.149785  1.011227  0.883548   \n",
       "1 -0.172560  0.025133 -0.778135  ... -0.238805  0.089877  0.421195 -0.352487   \n",
       "2  0.011622 -0.715756  0.651379  ... -0.460991  0.189397  0.556329  0.185786   \n",
       "3 -0.125223  0.984938 -0.746625  ...  0.481119 -0.140019  0.538261  0.710720   \n",
       "4  0.515362 -0.372442  0.078021  ...  0.377256 -0.030436  0.117608 -0.060520   \n",
       "\n",
       "        V26       V27       V28  Amount_scaled  Time_scaled  Class  \n",
       "0 -0.329434  0.020370  0.017037      -0.211280    -2.029533      0  \n",
       "1  0.074783 -0.094192 -0.092493      -0.133293    -2.029533      0  \n",
       "2 -0.189030  0.000208  0.026167      -0.320669    -2.028255      0  \n",
       "3 -0.621382  0.036867  0.010963      -0.310829    -2.028170      0  \n",
       "4 -0.296550 -0.481570 -0.167897      -0.306217    -2.028085      0  \n",
       "\n",
       "[5 rows x 31 columns]"
      ]
     },
     "execution_count": 7,
     "metadata": {},
     "output_type": "execute_result"
    }
   ],
   "source": [
    "#I changed the features order in the dataset. I like having my target variable at the end of the dataset. \n",
    "\n",
    "list(df.columns) \n",
    "df = df[['V1','V2','V3','V4','V5','V6','V7','V8','V9','V10','V11','V12','V13','V14','V15','V16','V17','V18','V19','V20','V21','V22','V23','V24','V25','V26','V27','V28','Amount_scaled','Time_scaled','Class']]\n",
    "df.head()"
   ]
  },
  {
   "cell_type": "markdown",
   "id": "bab023a0",
   "metadata": {},
   "source": [
    "## Correlation analysis"
   ]
  },
  {
   "cell_type": "code",
   "execution_count": 8,
   "id": "3f1bb855",
   "metadata": {
    "scrolled": false
   },
   "outputs": [
    {
     "data": {
      "text/plain": [
       "Class            1.000000\n",
       "V11              0.121299\n",
       "V4               0.091571\n",
       "V2               0.039491\n",
       "V27              0.031831\n",
       "V21              0.024850\n",
       "V19              0.024780\n",
       "V28              0.016667\n",
       "V25              0.014009\n",
       "V22              0.008454\n",
       "V26              0.003618\n",
       "V8              -0.004084\n",
       "Amount_scaled   -0.004325\n",
       "V15             -0.006357\n",
       "V23             -0.010480\n",
       "V24             -0.010892\n",
       "Time_scaled     -0.012145\n",
       "V20             -0.017368\n",
       "V13             -0.027589\n",
       "V5              -0.030261\n",
       "V6              -0.041044\n",
       "V9              -0.063941\n",
       "V1              -0.079022\n",
       "V18             -0.089163\n",
       "V3              -0.117224\n",
       "V7              -0.125326\n",
       "V16             -0.166754\n",
       "V10             -0.170283\n",
       "V12             -0.209598\n",
       "V14             -0.242450\n",
       "V17             -0.281689\n",
       "Name: Class, dtype: float64"
      ]
     },
     "execution_count": 8,
     "metadata": {},
     "output_type": "execute_result"
    }
   ],
   "source": [
    "#Correlation between the features and the dependent variable \"Class\":\n",
    "\n",
    "df[df.columns[0:]].corr()['Class'][:].sort_values(ascending=False)"
   ]
  },
  {
   "cell_type": "code",
   "execution_count": 9,
   "id": "84fcc01a",
   "metadata": {},
   "outputs": [
    {
     "data": {
      "image/png": "[encoded data removed]",
      "text/plain": [
       "<Figure size 2160x1800 with 2 Axes>"
      ]
     },
     "metadata": {},
     "output_type": "display_data"
    }
   ],
   "source": [
    "#Correlation matrix:\n",
    "\n",
    "corr = df.corr()\n",
    "mask = np.zeros_like(corr)\n",
    "mask[np.triu_indices_from(mask)] = True\n",
    "with sns.axes_style(\"white\"):\n",
    "    f, ax = plt.subplots(figsize=(30, 25))\n",
    "    ax = sns.heatmap(corr, mask=mask,cmap='coolwarm', vmin=-1,vmax=1,annot=True, square=True)"
   ]
  },
  {
   "cell_type": "markdown",
   "id": "91ff87a3",
   "metadata": {},
   "source": [
    "## Class ambalance "
   ]
  },
  {
   "cell_type": "markdown",
   "id": "d30d4044",
   "metadata": {},
   "source": [
    "### Fraud/ non-Fraud ratio"
   ]
  },
  {
   "cell_type": "code",
   "execution_count": 10,
   "id": "622f2656",
   "metadata": {},
   "outputs": [
    {
     "data": {
      "text/plain": [
       "0    7983\n",
       "1      17\n",
       "Name: Class, dtype: int64"
      ]
     },
     "execution_count": 10,
     "metadata": {},
     "output_type": "execute_result"
    }
   ],
   "source": [
    "# Let's calculate the ration of fraudulent and no fraudulent transactions:\n",
    "y=df['Class'].value_counts()\n",
    "y"
   ]
  },
  {
   "cell_type": "code",
   "execution_count": 11,
   "id": "dc5474c7",
   "metadata": {},
   "outputs": [
    {
     "data": {
      "text/plain": [
       "0    0.997875\n",
       "1    0.002125\n",
       "Name: Class, dtype: float64"
      ]
     },
     "execution_count": 11,
     "metadata": {},
     "output_type": "execute_result"
    }
   ],
   "source": [
    "\n",
    "y/len(df)"
   ]
  },
  {
   "cell_type": "markdown",
   "id": "0f2f135a",
   "metadata": {},
   "source": [
    "As we already mentioned in the dataset description section. The dataset is highly unbalance with only 0.1727% of fraudulent transactions. Please be in mind that we need to handle the class ambalance later.\n",
    "\n",
    "that ML algorithms works better when the different classes are equally represented"
   ]
  },
  {
   "cell_type": "markdown",
   "id": "faf6c765",
   "metadata": {},
   "source": [
    "### Class ambalance visual representation"
   ]
  },
  {
   "cell_type": "code",
   "execution_count": 12,
   "id": "416f768a",
   "metadata": {
    "scrolled": true
   },
   "outputs": [
    {
     "name": "stderr",
     "output_type": "stream",
     "text": [
      "C:\\Users\\merce\\anaconda3\\envs\\Da_Env1\\lib\\site-packages\\seaborn\\_decorators.py:36: FutureWarning: Pass the following variable as a keyword arg: x. From version 0.12, the only valid positional argument will be `data`, and passing other arguments without an explicit keyword will result in an error or misinterpretation.\n",
      "  warnings.warn(\n"
     ]
    },
    {
     "data": {
      "text/plain": [
       "Text(0.5, 1.0, 'Class Distributions \\n (0: No Fraud || 1: Fraud)')"
      ]
     },
     "execution_count": 12,
     "metadata": {},
     "output_type": "execute_result"
    },
    {
     "data": {
      "image/png": "[encoded data removed]",
      "text/plain": [
       "<Figure size 288x288 with 1 Axes>"
      ]
     },
     "metadata": {
      "needs_background": "light"
     },
     "output_type": "display_data"
    }
   ],
   "source": [
    "#Visualizations can be very a powerful tool to detect class imbalance and we can use different kind of plots:\n",
    "\n",
    "# 1: Bar chart:\n",
    "\n",
    "fig,ax=plt.subplots(figsize=(4,4))\n",
    "sns.countplot('Class', data=df, palette=\"Set2\")\n",
    "plt.title('Class Distributions \\n (0: No Fraud || 1: Fraud)', fontsize=14)"
   ]
  },
  {
   "cell_type": "code",
   "execution_count": 13,
   "id": "74bcb9d1",
   "metadata": {},
   "outputs": [],
   "source": [
    "# 2: Scartter plot:\n",
    "\n",
    "#First step to create the scatter plot: we need to convert our dataframe in 2 variables:\n",
    "\n",
    "X=df.iloc[:,0:30].values\n",
    "y=df.Class.values\n"
   ]
  },
  {
   "cell_type": "code",
   "execution_count": 14,
   "id": "9c144b22",
   "metadata": {},
   "outputs": [],
   "source": [
    "def plot_data(X: np.ndarray, y: np.ndarray):\n",
    "    \n",
    " \n",
    "    sns.set_palette(\"Set2\")\n",
    "    \n",
    "    sns.scatterplot(X[y == 0, 0], X[y == 0, 1], label=\"Class #0\", alpha=0.5, linewidth=0.15)\n",
    "    sns.scatterplot(X[y == 1, 0], X[y == 1, 1], label=\"Class #1\", alpha=0.5, linewidth=0.15)\n",
    "    \n",
    "    plt.legend()\n",
    "    \n",
    "    return plt.show()"
   ]
  },
  {
   "cell_type": "code",
   "execution_count": 15,
   "id": "4657b8b7",
   "metadata": {},
   "outputs": [
    {
     "name": "stderr",
     "output_type": "stream",
     "text": [
      "C:\\Users\\merce\\anaconda3\\envs\\Da_Env1\\lib\\site-packages\\seaborn\\_decorators.py:36: FutureWarning: Pass the following variables as keyword args: x, y. From version 0.12, the only valid positional argument will be `data`, and passing other arguments without an explicit keyword will result in an error or misinterpretation.\n",
      "  warnings.warn(\n",
      "C:\\Users\\merce\\anaconda3\\envs\\Da_Env1\\lib\\site-packages\\seaborn\\_decorators.py:36: FutureWarning: Pass the following variables as keyword args: x, y. From version 0.12, the only valid positional argument will be `data`, and passing other arguments without an explicit keyword will result in an error or misinterpretation.\n",
      "  warnings.warn(\n"
     ]
    },
    {
     "data": {
      "image/png": "[encoded data removed]",
      "text/plain": [
       "<Figure size 432x288 with 1 Axes>"
      ]
     },
     "metadata": {
      "needs_background": "light"
     },
     "output_type": "display_data"
    }
   ],
   "source": [
    "plot_data(X,y)"
   ]
  },
  {
   "cell_type": "markdown",
   "id": "03339d76",
   "metadata": {},
   "source": [
    "## Traditional way of cathing fraud: Rules "
   ]
  },
  {
   "cell_type": "markdown",
   "id": "70aeb387",
   "metadata": {},
   "source": [
    "Rules are the traditional way of catching fraudulent transactions. \n",
    "\n",
    "How do rules work? The idea is very simple; the transactions flows through a system, which can select some characteristics. For example, we can create a rule that send to manual review any transaction above a certain amount.\n",
    "We can set as many rules as we need, but keep in mind that some of them would result in a big number of false positives\n",
    "\n",
    "Can we set rules in our dataset? Sure!\n",
    "\n",
    "\n",
    "First we will define threshold values using common statistics, to split fraud and non-fraud. Then, use those thresholds on our features to detect fraud.\n",
    "\n",
    "Statistical thresholds are often determined by looking at the mean values of observations. Let's start this exercise by checking whether feature means differ between fraud and non-fraud cases. Then, we will use that information to create common sense thresholds. Finally, we will check how well this performs in fraud detection.\n"
   ]
  },
  {
   "cell_type": "code",
   "execution_count": 16,
   "id": "a6494d6e",
   "metadata": {},
   "outputs": [
    {
     "data": {
      "text/html": [
       "<div>\n",
       "<style scoped>\n",
       "    .dataframe tbody tr th:only-of-type {\n",
       "        vertical-align: middle;\n",
       "    }\n",
       "\n",
       "    .dataframe tbody tr th {\n",
       "        vertical-align: top;\n",
       "    }\n",
       "\n",
       "    .dataframe thead th {\n",
       "        text-align: right;\n",
       "    }\n",
       "</style>\n",
       "<table border=\"1\" class=\"dataframe\">\n",
       "  <thead>\n",
       "    <tr style=\"text-align: right;\">\n",
       "      <th></th>\n",
       "      <th>V1</th>\n",
       "      <th>V2</th>\n",
       "      <th>V3</th>\n",
       "      <th>V4</th>\n",
       "      <th>V5</th>\n",
       "      <th>V6</th>\n",
       "      <th>V7</th>\n",
       "      <th>V8</th>\n",
       "      <th>V9</th>\n",
       "      <th>V10</th>\n",
       "      <th>...</th>\n",
       "      <th>V21</th>\n",
       "      <th>V22</th>\n",
       "      <th>V23</th>\n",
       "      <th>V24</th>\n",
       "      <th>V25</th>\n",
       "      <th>V26</th>\n",
       "      <th>V27</th>\n",
       "      <th>V28</th>\n",
       "      <th>Amount_scaled</th>\n",
       "      <th>Time_scaled</th>\n",
       "    </tr>\n",
       "    <tr>\n",
       "      <th>Class</th>\n",
       "      <th></th>\n",
       "      <th></th>\n",
       "      <th></th>\n",
       "      <th></th>\n",
       "      <th></th>\n",
       "      <th></th>\n",
       "      <th></th>\n",
       "      <th></th>\n",
       "      <th></th>\n",
       "      <th></th>\n",
       "      <th></th>\n",
       "      <th></th>\n",
       "      <th></th>\n",
       "      <th></th>\n",
       "      <th></th>\n",
       "      <th></th>\n",
       "      <th></th>\n",
       "      <th></th>\n",
       "      <th></th>\n",
       "      <th></th>\n",
       "      <th></th>\n",
       "    </tr>\n",
       "  </thead>\n",
       "  <tbody>\n",
       "    <tr>\n",
       "      <th>0</th>\n",
       "      <td>0.023553</td>\n",
       "      <td>-0.008543</td>\n",
       "      <td>-0.002408</td>\n",
       "      <td>-0.034757</td>\n",
       "      <td>-0.020108</td>\n",
       "      <td>0.003264</td>\n",
       "      <td>0.023668</td>\n",
       "      <td>-0.004720</td>\n",
       "      <td>-0.010660</td>\n",
       "      <td>0.012242</td>\n",
       "      <td>...</td>\n",
       "      <td>-0.004279</td>\n",
       "      <td>0.027999</td>\n",
       "      <td>0.006689</td>\n",
       "      <td>-0.000550</td>\n",
       "      <td>-0.000616</td>\n",
       "      <td>0.000659</td>\n",
       "      <td>-0.006740</td>\n",
       "      <td>0.005625</td>\n",
       "      <td>0.000200</td>\n",
       "      <td>0.000560</td>\n",
       "    </tr>\n",
       "    <tr>\n",
       "      <th>1</th>\n",
       "      <td>-3.235382</td>\n",
       "      <td>1.317054</td>\n",
       "      <td>-3.762234</td>\n",
       "      <td>2.801140</td>\n",
       "      <td>-0.941354</td>\n",
       "      <td>-1.184692</td>\n",
       "      <td>-3.527826</td>\n",
       "      <td>-0.108892</td>\n",
       "      <td>-1.546536</td>\n",
       "      <td>-4.112638</td>\n",
       "      <td>...</td>\n",
       "      <td>0.361582</td>\n",
       "      <td>0.159210</td>\n",
       "      <td>-0.119366</td>\n",
       "      <td>-0.144082</td>\n",
       "      <td>0.155552</td>\n",
       "      <td>0.038765</td>\n",
       "      <td>0.265996</td>\n",
       "      <td>0.131853</td>\n",
       "      <td>-0.093713</td>\n",
       "      <td>-0.263179</td>\n",
       "    </tr>\n",
       "  </tbody>\n",
       "</table>\n",
       "<p>2 rows × 30 columns</p>\n",
       "</div>"
      ],
      "text/plain": [
       "             V1        V2        V3        V4        V5        V6        V7  \\\n",
       "Class                                                                         \n",
       "0      0.023553 -0.008543 -0.002408 -0.034757 -0.020108  0.003264  0.023668   \n",
       "1     -3.235382  1.317054 -3.762234  2.801140 -0.941354 -1.184692 -3.527826   \n",
       "\n",
       "             V8        V9       V10  ...       V21       V22       V23  \\\n",
       "Class                                ...                                 \n",
       "0     -0.004720 -0.010660  0.012242  ... -0.004279  0.027999  0.006689   \n",
       "1     -0.108892 -1.546536 -4.112638  ...  0.361582  0.159210 -0.119366   \n",
       "\n",
       "            V24       V25       V26       V27       V28  Amount_scaled  \\\n",
       "Class                                                                    \n",
       "0     -0.000550 -0.000616  0.000659 -0.006740  0.005625       0.000200   \n",
       "1     -0.144082  0.155552  0.038765  0.265996  0.131853      -0.093713   \n",
       "\n",
       "       Time_scaled  \n",
       "Class               \n",
       "0         0.000560  \n",
       "1        -0.263179  \n",
       "\n",
       "[2 rows x 30 columns]"
      ]
     },
     "execution_count": 16,
     "metadata": {},
     "output_type": "execute_result"
    }
   ],
   "source": [
    "df.groupby('Class').mean()"
   ]
  },
  {
   "cell_type": "code",
   "execution_count": 28,
   "id": "a08ec3a0",
   "metadata": {},
   "outputs": [],
   "source": [
    "# We will send to manual review all transactions from V1 that are  smaller than -3 and all transactions from V7 smaller than -5.\n",
    "\n",
    "df['predicted_fraud'] = np.where(np.logical_and(df['V1'] < -2, df['V7'] < -3), 1, 0)"
   ]
  },
  {
   "cell_type": "code",
   "execution_count": 29,
   "id": "b38bbda4",
   "metadata": {},
   "outputs": [
    {
     "name": "stdout",
     "output_type": "stream",
     "text": [
      "Predicted_Fraud     0   1\n",
      "Fraud                    \n",
      "0                7915  68\n",
      "1                  13   4\n"
     ]
    }
   ],
   "source": [
    "# Create a crosstab of flagged fraud cases versus the actual fraud cases\n",
    "\n",
    "print(pd.crosstab(df.Class, df.predicted_fraud, rownames=['Fraud'], colnames=['Predicted_Fraud']))"
   ]
  },
  {
   "cell_type": "markdown",
   "id": "6cbf14e2",
   "metadata": {},
   "source": [
    "We get our first results!\n",
    "\n",
    "using rules, we have detected 157 of 492 fraudulent cases (31.91%), and we got 824 false positives. Can ML improve this result?"
   ]
  },
  {
   "cell_type": "code",
   "execution_count": 19,
   "id": "d5dcfc54",
   "metadata": {},
   "outputs": [],
   "source": [
    "#We do not need the feature \"flag as fraud\" anymore, so I will delete it\n",
    "df=df.drop(columns=['predicted_fraud'])"
   ]
  },
  {
   "cell_type": "markdown",
   "id": "f049b205",
   "metadata": {},
   "source": [
    "## Machine Learning models"
   ]
  },
  {
   "cell_type": "markdown",
   "id": "90cb15ba",
   "metadata": {},
   "source": [
    "In this section we will train 4 different ML models: Logistic Regression, Decision Tree, Random Forest and Adaboost and compare them in order to see which one is the more effective in detecting fraudulent transactions. \n",
    "\n",
    "Taking into account that our dataset is high unbalanced we can follow 3 different approaches:\n",
    "\n",
    "1: Ignore the unbalanced problem: In this case we cannot use \"accuracy as metric but we can use other metrics instead such as \"roc_auc\",\"confussion matrix\", \"precision\", \"recall\" or \"f1\". Since we want our model finds the maximun number of fraud cases, we will choose the model with the highest recall score value. \n",
    "\n",
    "2: Oversampling the minotiry class using SMOTE until both clases are equally represented.\n",
    "\n",
    "3: Undersampling the mayority class until both classes are equally represented\n",
    "\n"
   ]
  },
  {
   "cell_type": "markdown",
   "id": "f125d67b",
   "metadata": {},
   "source": [
    "### Train / Test sets"
   ]
  },
  {
   "cell_type": "code",
   "execution_count": 30,
   "id": "8cc5c026",
   "metadata": {},
   "outputs": [],
   "source": [
    "# XY split:\n",
    "\n",
    "X=df.drop('Class', axis=1)\n",
    "y=df.Class\n"
   ]
  },
  {
   "cell_type": "code",
   "execution_count": 31,
   "id": "b267b7da",
   "metadata": {},
   "outputs": [],
   "source": [
    "#Create training and test set:\n",
    "\n",
    "X_train, X_test, y_train, y_test=train_test_split(X,y,test_size=0.30, random_state=1000,stratify=y)"
   ]
  },
  {
   "cell_type": "code",
   "execution_count": 32,
   "id": "75bc53ee",
   "metadata": {},
   "outputs": [
    {
     "name": "stdout",
     "output_type": "stream",
     "text": [
      "Logisitic Regression model recall score:0.37\n",
      "Decision Tree model recall score:0.38\n",
      "Random Forest Classifier model recall score:0.32\n",
      "AdaBoost model recall score:0.32\n"
     ]
    }
   ],
   "source": [
    "models = {\n",
    "    \"Logisitic Regression\": LogisticRegression(),\n",
    "    \"Decision Tree\": DecisionTreeClassifier(),\n",
    "    \"Random Forest Classifier\": RandomForestClassifier(),\n",
    "    \"AdaBoost\": AdaBoostClassifier()  \n",
    "}\n",
    "\n",
    "\n",
    "# Cross validation score for different classifiers\n",
    "\n",
    "for key, model in models.items():\n",
    "    model.fit(X_train,y_train)\n",
    "    score = cross_val_score(model, X, y, scoring='recall',cv=5)\n",
    "    print(f'{key} model recall score:{round(score.mean(), 2)}')"
   ]
  },
  {
   "cell_type": "code",
   "execution_count": 35,
   "id": "f325d8b5",
   "metadata": {},
   "outputs": [],
   "source": [
    "#Let's see how many fraud cases the random forest can get. \n",
    "dtc=DecisionTreeClassifier()\n",
    "dtc.fit(X_train,y_train)\n",
    "y_pred=dtc.predict(X_test)\n"
   ]
  },
  {
   "cell_type": "code",
   "execution_count": 36,
   "id": "8881b2fb",
   "metadata": {},
   "outputs": [
    {
     "name": "stdout",
     "output_type": "stream",
     "text": [
      "Random Forest Confusion matrix for the test set\n",
      "[[2392    3]\n",
      " [   3    2]]\n"
     ]
    },
    {
     "data": {
      "image/png": "[encoded data removed]",
      "text/plain": [
       "<Figure size 432x288 with 1 Axes>"
      ]
     },
     "metadata": {
      "needs_background": "light"
     },
     "output_type": "display_data"
    }
   ],
   "source": [
    "print(\"Random Forest Confusion matrix for the test set\")\n",
    "print(confusion_matrix(y_test, y_pred))\n",
    "conf_mat = confusion_matrix(y_test,y_pred)\n",
    "sns.heatmap(conf_mat, square=True, annot=True, cmap='icefire', fmt='d', cbar=False)\n",
    "\n",
    "plt.show()"
   ]
  },
  {
   "cell_type": "markdown",
   "id": "b9efcade",
   "metadata": {},
   "source": [
    "We can see that **Random Forest** model detects the 73.02% of fraduluent transactions (112 of 152 cases) and we have 5 falses positives. \n",
    "\n",
    "In Fraud analysis we have to find the balance between catching the maximum number of fraudulent transactions( this means to optimize the recall_score) and keeping the number of false positives as low as possible. \n",
    "\n",
    "In this scenario a high number of falses positives represents extra workload for Fraud Deparment because they have to review manually thousands of card transactions, and for Customer Service Department that have to deal with customer's complaints whose transactions have been tagged as fraudulent by mistake.That is why it is important to keep the number of false positives as low as possible.  \n",
    "\n",
    "\n",
    "Let's see if we can improve these results by tunning the hyperparameters of our model \n"
   ]
  },
  {
   "cell_type": "markdown",
   "id": "4d194bc3",
   "metadata": {},
   "source": [
    "### Hyperparameter tunning\n",
    "\n",
    "\n"
   ]
  },
  {
   "cell_type": "markdown",
   "id": "a884cbe2",
   "metadata": {},
   "source": [
    "#### Logistic Regression"
   ]
  },
  {
   "cell_type": "code",
   "execution_count": 37,
   "id": "001ab0dd",
   "metadata": {
    "scrolled": true
   },
   "outputs": [
    {
     "name": "stderr",
     "output_type": "stream",
     "text": [
      "C:\\Users\\merce\\anaconda3\\envs\\Da_Env1\\lib\\site-packages\\sklearn\\model_selection\\_search.py:922: UserWarning: One or more of the test scores are non-finite: [       nan 0.                nan 0.03333333        nan 0.18333333\n",
      "        nan 0.21666667        nan 0.23333333        nan 0.41666667]\n",
      "  warnings.warn(\n",
      "C:\\Users\\merce\\anaconda3\\envs\\Da_Env1\\lib\\site-packages\\sklearn\\linear_model\\_logistic.py:763: ConvergenceWarning: lbfgs failed to converge (status=1):\n",
      "STOP: TOTAL NO. of ITERATIONS REACHED LIMIT.\n",
      "\n",
      "Increase the number of iterations (max_iter) or scale the data as shown in:\n",
      "    https://scikit-learn.org/stable/modules/preprocessing.html\n",
      "Please also refer to the documentation for alternative solver options:\n",
      "    https://scikit-learn.org/stable/modules/linear_model.html#logistic-regression\n",
      "  n_iter_i = _check_optimize_result(\n"
     ]
    }
   ],
   "source": [
    "#Let's use GridSearch in order to find the best parameters for our models:\n",
    "\n",
    "#First we define the evaluation metrics:\n",
    "cv = RepeatedStratifiedKFold(n_splits=10, n_repeats=3, random_state=1)\n",
    "\n",
    "# hyperparameter tunning for Logistic Regression:\n",
    "\n",
    "logreg_hyperparameters = {\"penalty\": ['l1', 'l2'], 'C': [0.001, 0.01, 0.1, 1, 10, 100]}\n",
    "\n",
    "logreg_grid= GridSearchCV(LogisticRegression(), logreg_hyperparameters, scoring='recall', n_jobs=-1, cv=cv)\n",
    "logreg_grid.fit(X_train, y_train)\n",
    "logreg_rd = logreg_grid.best_estimator_\n",
    "y_pred_logreg=logreg_grid.predict(X_test)\n",
    "\n"
   ]
  },
  {
   "cell_type": "code",
   "execution_count": 38,
   "id": "d9b3a2d6",
   "metadata": {},
   "outputs": [
    {
     "name": "stdout",
     "output_type": "stream",
     "text": [
      "Best recall score: 0.4166666666666667\n",
      "{'C': 100, 'penalty': 'l2'}\n"
     ]
    }
   ],
   "source": [
    "print('Best recall score:', logreg_grid.best_score_)\n",
    "print(logreg_grid.best_params_)\n",
    "\n"
   ]
  },
  {
   "cell_type": "markdown",
   "id": "d359db4e",
   "metadata": {},
   "source": [
    "#### Decision Tree"
   ]
  },
  {
   "cell_type": "code",
   "execution_count": 39,
   "id": "7bee6067",
   "metadata": {},
   "outputs": [],
   "source": [
    "hyperparameters = {\"criterion\": [\"gini\", \"entropy\"],\"max_depth\":[2,3,4], \"min_samples_leaf\": [1,2,3]}\n",
    "\n",
    "dtc_grid = GridSearchCV(DecisionTreeClassifier(), hyperparameters,scoring='recall', n_jobs=-1, cv=cv)\n",
    "dtc_grid.fit(X_train, y_train)\n",
    "y_pred_dtc=dtc_grid.predict(X_test)\n",
    "\n"
   ]
  },
  {
   "cell_type": "code",
   "execution_count": 27,
   "id": "d030fca0",
   "metadata": {},
   "outputs": [
    {
     "ename": "NameError",
     "evalue": "name 'dtc_grid' is not defined",
     "output_type": "error",
     "traceback": [
      "\u001b[1;31m---------------------------------------------------------------------------\u001b[0m",
      "\u001b[1;31mNameError\u001b[0m                                 Traceback (most recent call last)",
      "\u001b[1;32m~\\AppData\\Local\\Temp/ipykernel_16516/3245343864.py\u001b[0m in \u001b[0;36m<module>\u001b[1;34m\u001b[0m\n\u001b[1;32m----> 1\u001b[1;33m \u001b[0mprint\u001b[0m\u001b[1;33m(\u001b[0m\u001b[1;34m'Best recall score:'\u001b[0m\u001b[1;33m,\u001b[0m \u001b[0mdtc_grid\u001b[0m\u001b[1;33m.\u001b[0m\u001b[0mbest_score_\u001b[0m\u001b[1;33m)\u001b[0m\u001b[1;33m\u001b[0m\u001b[1;33m\u001b[0m\u001b[0m\n\u001b[0m\u001b[0;32m      2\u001b[0m \u001b[0mprint\u001b[0m\u001b[1;33m(\u001b[0m\u001b[0mdtc_grid\u001b[0m\u001b[1;33m.\u001b[0m\u001b[0mbest_params_\u001b[0m\u001b[1;33m)\u001b[0m\u001b[1;33m\u001b[0m\u001b[1;33m\u001b[0m\u001b[0m\n",
      "\u001b[1;31mNameError\u001b[0m: name 'dtc_grid' is not defined"
     ]
    }
   ],
   "source": [
    "print('Best recall score:', dtc_grid.best_score_)\n",
    "print(dtc_grid.best_params_)\n"
   ]
  },
  {
   "cell_type": "markdown",
   "id": "26f3ae87",
   "metadata": {},
   "source": [
    "#### Random Forest"
   ]
  },
  {
   "cell_type": "code",
   "execution_count": null,
   "id": "10995cf8",
   "metadata": {},
   "outputs": [],
   "source": [
    "# Hyperparameter tunning for random forest:\n",
    "rfc_hyperparameters = {'n_estimators': [100,150,200],\n",
    "              'max_features': ['sqrt', 'log2'], \n",
    "              'max_depth': ['none',1,3,5],\n",
    "              'criterion': ['gini', 'entropy']}\n",
    "\n",
    "\n",
    "grid_rfc = GridSearchCV(RandomForestClassifier(), rfc_hyperparameters, scoring='recall', n_jobs=-1, cv=cv)\n",
    "grid_rfc.fit(X_train, y_train)\n",
    "y_pred_rfc=grid_rfc.predict(X_test)\n",
    "\n"
   ]
  },
  {
   "cell_type": "code",
   "execution_count": null,
   "id": "19037cce",
   "metadata": {},
   "outputs": [],
   "source": [
    "print('Best recall score:', grid_rfc.best_score_)\n",
    "print(grid_rfc.best_params_)"
   ]
  },
  {
   "cell_type": "markdown",
   "id": "f8903b12",
   "metadata": {},
   "source": [
    "#### Adaboost"
   ]
  },
  {
   "cell_type": "code",
   "execution_count": null,
   "id": "bdac7f79",
   "metadata": {},
   "outputs": [],
   "source": [
    "# Hyperparameter tunning for adaboost:\n",
    "\n",
    "ada_hyperparameters = {'n_estimators': [50,100,150], 'learning_rate': [0.01,0.1,0.2,0.5]}\n",
    "\n",
    "\n",
    "grid_ada = GridSearchCV(AdaBoostClassifier(), ada_hyperparameters, scoring='recall', n_jobs=-1, cv=cv)\n",
    "grid_ada.fit(X_train, y_train)\n",
    "y_pred=grid_ada.predict(X_test)\n",
    "\n",
    "\n",
    "\n"
   ]
  },
  {
   "cell_type": "code",
   "execution_count": null,
   "id": "b2e7d2c3",
   "metadata": {},
   "outputs": [],
   "source": [
    "print('Best recall score:', grid_ada.best_score_)\n",
    "print(grid_ada.best_params_)"
   ]
  },
  {
   "cell_type": "markdown",
   "id": "59601098",
   "metadata": {},
   "source": [
    "After the hyperparameter tunning **Random forest** improves its model result. It has the best auc_roc score and the best recall_score. \n",
    "Let's see how many fraud cases we can catch now."
   ]
  },
  {
   "cell_type": "code",
   "execution_count": null,
   "id": "cf48f318",
   "metadata": {},
   "outputs": [],
   "source": [
    "\n",
    "print(\"Random Forest Confusion matrix for the test set before hyperparameter tunning\")\n",
    "print(confusion_matrix(y_test, y_pred_rfc))\n",
    "conf_mat = confusion_matrix(y_test,y_pred_rfc)\n",
    "sns.heatmap(conf_mat, square=True, annot=True, cmap='icefire', fmt='d', cbar=False)\n",
    "\n",
    "plt.show()"
   ]
  },
  {
   "cell_type": "markdown",
   "id": "306bf513",
   "metadata": {},
   "source": [
    "Now, the model is able to detect one more case of fraud and reduce in one the number of false positives."
   ]
  },
  {
   "cell_type": "markdown",
   "id": "bb23067a",
   "metadata": {},
   "source": [
    "##  Synthetic Minority Oversampling Technique (SMOTE)"
   ]
  },
  {
   "cell_type": "markdown",
   "id": "dc37c3f7",
   "metadata": {},
   "source": [
    "One of the techniques to handle the class imbalance problem is to resample the original training dataset. Resampling can be done either by oversampling the minority class(fraud transactions) or undersampling the majority class (non-fraudulent transactions) until both classes are equally represented.\n",
    "\n",
    "SMOTE is an oversampling techniques that create new synthetic points along the segments connecting a group of neighbors."
   ]
  },
  {
   "cell_type": "code",
   "execution_count": null,
   "id": "3c1f31a4",
   "metadata": {},
   "outputs": [],
   "source": [
    "\n",
    "X=df.iloc[:,0:30].values\n",
    "y=df.Class.values"
   ]
  },
  {
   "cell_type": "code",
   "execution_count": null,
   "id": "e3a0cf11",
   "metadata": {},
   "outputs": [],
   "source": [
    "print(f'X shape: {X.shape}\\ny shape: {y.shape}')"
   ]
  },
  {
   "cell_type": "code",
   "execution_count": null,
   "id": "e7784b66",
   "metadata": {},
   "outputs": [],
   "source": [
    "\n",
    "# Define the resampling method\n",
    "method = SMOTE(random_state=42)\n"
   ]
  },
  {
   "cell_type": "code",
   "execution_count": null,
   "id": "097b7ec1",
   "metadata": {},
   "outputs": [],
   "source": [
    "# Create the resampled feature set\n",
    "X_sm, y_sm = method.fit_resample(X, y)"
   ]
  },
  {
   "cell_type": "code",
   "execution_count": null,
   "id": "aebccb8d",
   "metadata": {},
   "outputs": [],
   "source": [
    "# confirm there is the same number of fraudulent and no-fraudulent transactions. \n",
    "\n",
    "pd.value_counts(pd.Series(y_sm))\n"
   ]
  },
  {
   "cell_type": "code",
   "execution_count": null,
   "id": "2810cea0",
   "metadata": {},
   "outputs": [],
   "source": [
    "# Plot the resampled data\n",
    "plot_data(X_sm, y_sm)"
   ]
  },
  {
   "cell_type": "code",
   "execution_count": null,
   "id": "b5c96395",
   "metadata": {},
   "outputs": [],
   "source": [
    "def compare_plot(X: np.ndarray, y: np.ndarray, X_resampled: np.ndarray, y_resampled: np.ndarray, method: str):\n",
    "    sns.set_palette(\"Set2\")\n",
    "    plt.subplot(1, 2, 1)\n",
    "    plt.scatter(X[y == 0, 0], X[y == 0, 1], label=\"Class #0\", alpha=0.5, linewidth=0.15)\n",
    "    plt.scatter(X[y == 1, 0], X[y == 1, 1], label=\"Class #1\", alpha=0.5, linewidth=0.15)\n",
    "    plt.title('Original Set')\n",
    "    plt.subplot(1, 2, 2)\n",
    "    plt.scatter(X_sm[y_sm == 0, 0], X_sm[y_sm == 0, 1], label=\"Class #0\", alpha=0.5, linewidth=0.15)\n",
    "    plt.scatter(X_sm[y_sm == 1, 0], X_sm[y_sm == 1, 1], label=\"Class #1\", alpha=0.5, linewidth=0.15)\n",
    "    plt.title(method)\n",
    "    plt.legend()\n",
    "    plt.show()"
   ]
  },
  {
   "cell_type": "code",
   "execution_count": null,
   "id": "d8d8fd6e",
   "metadata": {
    "scrolled": false
   },
   "outputs": [],
   "source": [
    "compare_plot(X, y, X_sm, y_sm, method='SMOTE')"
   ]
  },
  {
   "cell_type": "markdown",
   "id": "8ea128a9",
   "metadata": {},
   "source": [
    "## XY split"
   ]
  },
  {
   "cell_type": "code",
   "execution_count": null,
   "id": "8f49a827",
   "metadata": {},
   "outputs": [],
   "source": [
    "X_sm_train, X_sm_test, y_sm_train, y_sm_test=train_test_split(X_sm,y_sm,test_size=0.30, random_state=1000)"
   ]
  },
  {
   "cell_type": "markdown",
   "id": "be05e504",
   "metadata": {},
   "source": [
    "### Logistic Regression with SMOTE"
   ]
  },
  {
   "cell_type": "code",
   "execution_count": null,
   "id": "0b1cf068",
   "metadata": {},
   "outputs": [],
   "source": [
    "#Logistic Regression\n",
    "logreg=[\"logreg\"]\n",
    "logreg=LogisticRegression()\n",
    "logreg.fit(X_sm_train,y_sm_train)\n",
    "y_pred_logreg=logreg.predict(X_sm_test)\n"
   ]
  },
  {
   "cell_type": "code",
   "execution_count": null,
   "id": "c8f2d80c",
   "metadata": {},
   "outputs": [],
   "source": [
    "#Define the resampling method and the model the model:\n",
    "resampling = SMOTE()\n",
    "logreg = LogisticRegression(C= 0.001, penalty= 'l2')\n",
    "\n",
    "# Define the pipeline, tell it to combine SMOTE with the Logistic Regression model\n",
    "pipeline = Pipeline([('SMOTE', resampling), ('Logistic Regression', logreg)])\n",
    "\n",
    "# XY split:\n",
    "X_train, X_test, y_train, y_test=train_test_split(X,y,test_size=0.30, random_state=1000)\n",
    "\n",
    "\n",
    "#fit the pipeline into the training set:\n",
    "pipeline.fit(X_train, y_train) \n",
    "\n",
    "#Get predictions:\n",
    "predicted_logreg_sm = pipeline.predict(X_test)\n",
    "\n"
   ]
  },
  {
   "cell_type": "code",
   "execution_count": null,
   "id": "a274015e",
   "metadata": {},
   "outputs": [],
   "source": [
    "#print classification report for the test set\n",
    "print(\"Classification report for the test set\")\n",
    "print(classification_report(y_test,predicted_logreg_sm))"
   ]
  },
  {
   "cell_type": "code",
   "execution_count": null,
   "id": "315c033e",
   "metadata": {},
   "outputs": [],
   "source": [
    "scores=cross_val_score(logreg, X_train, y_train, cv=10)\n",
    "scores"
   ]
  },
  {
   "cell_type": "code",
   "execution_count": null,
   "id": "b7c18f5b",
   "metadata": {},
   "outputs": [],
   "source": [
    "print(\"%0.2f accuracy with a standard deviation of %0.2f\" % (scores.mean(), scores.std()))"
   ]
  },
  {
   "cell_type": "markdown",
   "id": "1d2c7d6a",
   "metadata": {},
   "source": [
    "### Decision Tree with SMOTE"
   ]
  },
  {
   "cell_type": "code",
   "execution_count": null,
   "id": "a9d2c69c",
   "metadata": {},
   "outputs": [],
   "source": [
    "#Define the resampling method and the model the model:\n",
    "resampling = SMOTE()\n",
    "model = DecisionTreeClassifier(criterion= 'entropy', max_depth= 3, min_samples_leaf= 5)\n",
    "\n",
    "# Define the pipeline, tell it to combine SMOTE with the Logistic Regression model\n",
    "pipeline = Pipeline([('SMOTE', resampling), ('Decision Tree', model)])\n",
    "\n",
    "# XY split:\n",
    "X_train, X_test, y_train, y_test=train_test_split(X,y,test_size=0.30, random_state=1000)\n",
    "\n",
    "\n",
    "#fit the pipeline into the training set:\n",
    "pipeline.fit(X_train, y_train) \n",
    "\n",
    "#Get predictions:\n",
    "predicted_dtc_sm = pipeline.predict(X_test)\n",
    "\n",
    "#Calculate the accuracy\n",
    "print(\"accuracy for Decision Tree with SMOTE: \",accuracy_score(y_test, predicted_dtc_sm))"
   ]
  },
  {
   "cell_type": "code",
   "execution_count": null,
   "id": "4aecf2b6",
   "metadata": {},
   "outputs": [],
   "source": [
    "#print classification report for the test set\n",
    "print(\"Classification report for the test set\")\n",
    "print(classification_report(y_test,predicted_dtc_sm))"
   ]
  },
  {
   "cell_type": "markdown",
   "id": "756f94ce",
   "metadata": {},
   "source": [
    "### Random Forest with SMOTE"
   ]
  },
  {
   "cell_type": "code",
   "execution_count": null,
   "id": "cd2b33c3",
   "metadata": {},
   "outputs": [],
   "source": [
    "#Define the resampling method and the model the model:\n",
    "resampling = SMOTE()\n",
    "model = RandomForestClassifier(criterion= 'entropy', max_depth= 8, max_features= 'auto', n_estimators= 30)\n",
    "\n",
    "# Define the pipeline, tell it to combine SMOTE with the Logistic Regression model\n",
    "pipeline = Pipeline([('SMOTE', resampling), ('Random Forest', model)])\n",
    "\n",
    "# XY split:\n",
    "X_train, X_test, y_train, y_test=train_test_split(X,y,test_size=0.30, random_state=1000)\n",
    "\n",
    "\n",
    "#fit the pipeline into the training set:\n",
    "pipeline.fit(X_train, y_train) \n",
    "\n",
    "#Get predictions:\n",
    "predicted_rfc_sm = pipeline.predict(X_test)\n",
    "\n",
    "#Calculate the accuracy\n",
    "print(\"accuracy for Random Forest with SMOTE: \",accuracy_score(y_test, predicted_rfc_sm))"
   ]
  },
  {
   "cell_type": "code",
   "execution_count": null,
   "id": "aae3e2fc",
   "metadata": {},
   "outputs": [],
   "source": [
    "#print classification report for the test set\n",
    "print(\"Classification report for the test set\")\n",
    "print(classification_report(y_test,predicted_rfc_sm))"
   ]
  },
  {
   "cell_type": "markdown",
   "id": "be06df54",
   "metadata": {},
   "source": [
    "### Adaboost with SMOTE"
   ]
  },
  {
   "cell_type": "code",
   "execution_count": null,
   "id": "4c94b54c",
   "metadata": {},
   "outputs": [],
   "source": [
    "#Define the resampling method and the model the model:\n",
    "resampling = SMOTE()\n",
    "model = AdaBoostClassifier(learning_rate= 0.8, n_estimators= 100)\n",
    "\n",
    "# Define the pipeline, tell it to combine SMOTE with the Logistic Regression model\n",
    "pipeline = Pipeline([('SMOTE', resampling), ('Adaboost', model)])\n",
    "\n",
    "# XY split:\n",
    "X_train, X_test, y_train, y_test= train_test_split(X,y,test_size=0.30, random_state=1000)\n",
    "\n",
    "\n",
    "#fit the pipeline into the training set:\n",
    "pipeline.fit(X_train, y_train) \n",
    "\n",
    "#Get predictions:\n",
    "predicted_ada_sm = pipeline.predict(X_test)\n",
    "\n",
    "#Calculate the accuracy\n",
    "print(\"accuracy for Adaboost with SMOTE: \",accuracy_score(y_test, predicted_ada_sm))"
   ]
  },
  {
   "cell_type": "code",
   "execution_count": null,
   "id": "cea3c72f",
   "metadata": {},
   "outputs": [],
   "source": [
    "#print classification report for the test set\n",
    "print(\"Classification report for the test set\")\n",
    "print(classification_report(y_test,predicted_ada_sm))"
   ]
  },
  {
   "cell_type": "markdown",
   "id": "aac6dd06",
   "metadata": {},
   "source": [
    "In general terms, Logistic Regression, Decision Trees and Adaboost model do not improve after applying SMOTE. In all these model the precision decreased which means the number of falses positives (False alarms) increases. \n",
    "\n",
    "Random Forest model with the best balance between precision and recall, Besides of getting an accuracy of 0.999426.\n",
    "\n",
    "Let's see how many fraudulent cases we can detect now. "
   ]
  },
  {
   "cell_type": "code",
   "execution_count": null,
   "id": "1ff5636e",
   "metadata": {
    "scrolled": false
   },
   "outputs": [],
   "source": [
    "print(\"Confusion matrix for the test set\")\n",
    "print(confusion_matrix(y_test, predicted_rfc_sm))\n",
    "conf_mat = confusion_matrix(y_test,predicted_rfc_sm)\n",
    "sns.heatmap(conf_mat, square=True, annot=True, cmap='icefire', fmt='d', cbar=False)\n",
    "\n",
    "plt.show()"
   ]
  },
  {
   "cell_type": "markdown",
   "id": "e05c9e00",
   "metadata": {},
   "source": [
    "After SMOTE, Random Forest model can detect the 82.23% of fraudulent transactions (125 of 152 cases) with a relative slow number a false positives. "
   ]
  },
  {
   "cell_type": "markdown",
   "id": "c616e1ee",
   "metadata": {},
   "source": [
    "## Undersampling"
   ]
  },
  {
   "cell_type": "markdown",
   "id": "3bdf5ab5",
   "metadata": {},
   "source": [
    "We this technique we will reduce the number of observations of the mayority class(non-fraudulent transactions)"
   ]
  },
  {
   "cell_type": "code",
   "execution_count": null,
   "id": "aeef1d54",
   "metadata": {},
   "outputs": [],
   "source": [
    "# Remember the number of observations for fraud and non-fraud transactions in our original dataset. \n",
    "\n",
    "y=df['Class'].value_counts()\n",
    "y\n"
   ]
  },
  {
   "cell_type": "code",
   "execution_count": null,
   "id": "f3be64a8",
   "metadata": {},
   "outputs": [],
   "source": [
    "\n",
    "class_1 = df.loc[df['Class'] == 1]\n",
    "class_0 =  df.loc[df['Class'] == 0][:492]"
   ]
  },
  {
   "cell_type": "code",
   "execution_count": null,
   "id": "f3564d31",
   "metadata": {},
   "outputs": [],
   "source": [
    "under_df = pd.concat([class_0, class_1])\n"
   ]
  },
  {
   "cell_type": "code",
   "execution_count": null,
   "id": "a25e1531",
   "metadata": {},
   "outputs": [],
   "source": [
    "#under_df has the same number of obersvations per clases\n",
    "under_df['Class'].value_counts()"
   ]
  },
  {
   "cell_type": "code",
   "execution_count": null,
   "id": "db8dc334",
   "metadata": {
    "scrolled": true
   },
   "outputs": [],
   "source": [
    "under_df"
   ]
  },
  {
   "cell_type": "markdown",
   "id": "9b5e3dd0",
   "metadata": {},
   "source": [
    "### Visual representation"
   ]
  },
  {
   "cell_type": "code",
   "execution_count": null,
   "id": "8113981d",
   "metadata": {},
   "outputs": [],
   "source": [
    "#Bar chart. Bar chart is very straightforward\n",
    "\n",
    "fig,ax=plt.subplots(figsize=(4,4))\n",
    "sns.countplot('Class', data=under_df, palette=\"Set2\")\n",
    "plt.title('Class Distributions \\n (0: No Fraud || 1: Fraud)', fontsize=14)"
   ]
  },
  {
   "cell_type": "code",
   "execution_count": null,
   "id": "b87a4d28",
   "metadata": {},
   "outputs": [],
   "source": [
    "#Of ocurse, we can also use the scatter plot.\n",
    "\n",
    "X_under=under_df.iloc[:,0:30].values\n",
    "y_under=under_df.Class.values"
   ]
  },
  {
   "cell_type": "code",
   "execution_count": null,
   "id": "c76860eb",
   "metadata": {},
   "outputs": [],
   "source": [
    "def plot_data(X_under: np.ndarray, y_under: np.ndarray):\n",
    "    \n",
    " \n",
    "    sns.set_palette(\"Set2\")\n",
    "    \n",
    "    sns.scatterplot(X_under[y_under == 0, 0], X_under[y_under == 0, 1], label=\"Class #0\", alpha=0.5, linewidth=0.15)\n",
    "    sns.scatterplot(X_under[y_under == 1, 0], X_under[y_under == 1, 1], label=\"Class #1\", alpha=0.5, linewidth=0.15)\n",
    "    \n",
    "    plt.legend()\n",
    "    \n",
    "    return plt.show()"
   ]
  },
  {
   "cell_type": "code",
   "execution_count": null,
   "id": "16e741db",
   "metadata": {},
   "outputs": [],
   "source": [
    "plot_data(X_under,y_under)"
   ]
  },
  {
   "cell_type": "code",
   "execution_count": null,
   "id": "50b57d48",
   "metadata": {},
   "outputs": [],
   "source": [
    "X = under_df.drop('Class', axis=1)\n",
    "y = under_df['Class']"
   ]
  },
  {
   "cell_type": "code",
   "execution_count": null,
   "id": "c42d66a4",
   "metadata": {},
   "outputs": [],
   "source": [
    "X_train, X_test, y_train, y_test = train_test_split(X, y, test_size=0.3, random_state=1000)"
   ]
  },
  {
   "cell_type": "code",
   "execution_count": null,
   "id": "3fba7c48",
   "metadata": {},
   "outputs": [],
   "source": [
    "# Classifier Selection\n",
    "\n",
    "classifiers = {\n",
    "    \"LogisiticRegression\": LogisticRegression(),\n",
    "    \"Decision Trees\": DecisionTreeClassifier(),\n",
    "    \"Random Forest \": RandomForestClassifier(),\n",
    "    \"Adaboost\": AdaBoostClassifier()    \n",
    "}\n",
    "\n",
    "\n",
    "# Cross validation score for different classifiers\n",
    "\n",
    "\n",
    "for key, classifier in classifiers.items():\n",
    "    classifier.fit(X_train, y_train)\n",
    "    training_score = cross_val_score(classifier, X_train, y_train, cv=5)\n",
    "    print(\"Classifiers: \", classifier.__class__.__name__, \"Has a training score of\", round(training_score.mean(), 2) * 100, \"% accuracy score\")"
   ]
  },
  {
   "cell_type": "code",
   "execution_count": null,
   "id": "7dbfe163",
   "metadata": {},
   "outputs": [],
   "source": []
  }
 ],
 "metadata": {
  "kernelspec": {
   "display_name": "Python 3 (ipykernel)",
   "language": "python",
   "name": "python3"
  },
  "language_info": {
   "codemirror_mode": {
    "name": "ipython",
    "version": 3
   },
   "file_extension": ".py",
   "mimetype": "text/x-python",
   "name": "python",
   "nbconvert_exporter": "python",
   "pygments_lexer": "ipython3",
   "version": "3.9.6"
  },
  "toc": {
   "base_numbering": "",
   "nav_menu": {},
   "number_sections": false,
   "sideBar": true,
   "skip_h1_title": true,
   "title_cell": "Table of Contents",
   "title_sidebar": "Contents",
   "toc_cell": true,
   "toc_position": {
    "height": "757px",
    "left": "1501px",
    "top": "123px",
    "width": "383.991px"
   },
   "toc_section_display": true,
   "toc_window_display": true
  }
 },
 "nbformat": 4,
 "nbformat_minor": 5
}
